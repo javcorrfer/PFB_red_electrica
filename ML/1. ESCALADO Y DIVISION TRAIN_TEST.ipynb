{
 "cells": [
  {
   "cell_type": "code",
   "execution_count": 1,
   "metadata": {},
   "outputs": [],
   "source": [
    "import pandas as pd\n",
    "from train_test import train_test\n",
    "import pickle as pkl\n",
    "\n",
    "import sys\n",
    "import os\n",
    "sys.path.append(os.path.abspath(os.path.join(os.getcwd(), '..')))\n",
    "from StreamlitApp.functions.carga_dataframes import *\n",
    "from escalado_datos import *\n",
    "from StreamlitApp.passwords import pw"
   ]
  },
  {
   "cell_type": "code",
   "execution_count": 3,
   "metadata": {},
   "outputs": [],
   "source": [
    "with open(\"../data/data_scaled/scalers/scaler_consumo_anio_DF_DEMANDA.pkl\", \"br\") as file:\n",
    "    scaler = pkl.load(file)"
   ]
  },
  {
   "cell_type": "code",
   "execution_count": null,
   "metadata": {},
   "outputs": [],
   "source": [
    "host = \"localhost\"\n",
    "user = \"root\"\n",
    "password = pw\n",
    "database = \"red_electrica\"\n",
    "\n",
    "df_demanda = carga_dataframes(host, user, pw, database)[1]"
   ]
  },
  {
   "cell_type": "code",
   "execution_count": 5,
   "metadata": {},
   "outputs": [
    {
     "name": "stdout",
     "output_type": "stream",
     "text": [
      "Columnas antes de procesar: Index(['año', 'mes', 'dia', 'dia_semana', 'valor_(GWh)'], dtype='object')\n",
      "Procesamiento completado. Datos preparados y guardados.\n"
     ]
    }
   ],
   "source": [
    "df = procesar_datos(df_demanda)"
   ]
  },
  {
   "cell_type": "code",
   "execution_count": null,
   "metadata": {},
   "outputs": [],
   "source": [
    "x_train, x_test, y_train, y_test = train_test(df)"
   ]
  }
 ],
 "metadata": {
  "kernelspec": {
   "display_name": ".venv",
   "language": "python",
   "name": "python3"
  },
  "language_info": {
   "codemirror_mode": {
    "name": "ipython",
    "version": 3
   },
   "file_extension": ".py",
   "mimetype": "text/x-python",
   "name": "python",
   "nbconvert_exporter": "python",
   "pygments_lexer": "ipython3",
   "version": "3.11.7"
  }
 },
 "nbformat": 4,
 "nbformat_minor": 2
}
