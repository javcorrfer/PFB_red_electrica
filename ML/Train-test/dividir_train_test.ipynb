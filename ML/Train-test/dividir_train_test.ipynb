{
 "cells": [
  {
   "cell_type": "code",
   "execution_count": 9,
   "metadata": {},
   "outputs": [
    {
     "name": "stdout",
     "output_type": "stream",
     "text": [
      "Archivos guardados en:\n",
      "C:/Users/nacho/Desktop/Aprendiendo a programar/PFB/TFB/data/train_test/train_temporal.csv\n",
      "C:/Users/nacho/Desktop/Aprendiendo a programar/PFB/TFB/data/train_test/test_temporal.csv\n"
     ]
    }
   ],
   "source": [
    "import pandas as pd\n",
    "\n",
    "# Cargar el dataset\n",
    "ruta_archivo = \"C:/Users/nacho/Desktop/Aprendiendo a programar/PFB/TFB/data/data_scaled/DF_DEMANDA_10_25_PROCESADO.csv\"\n",
    "df = pd.read_csv(ruta_archivo)\n",
    "\n",
    "# Ordenar por año, mes y día respetando el orden temporal\n",
    "df = df.sort_values(by=[\"fecha\"])\n",
    "\n",
    "# Dividir en train (80%) y test (20%)\n",
    "train_size = int(len(df) * 0.8)\n",
    "df_train = df.iloc[:train_size]\n",
    "df_test = df.iloc[train_size:]\n",
    "\n",
    "# Guardar los conjuntos en archivos CSV en el directorio especificado\n",
    "train_path = \"C:/Users/nacho/Desktop/Aprendiendo a programar/PFB/TFB/data/train_test/train_temporal.csv\"\n",
    "test_path = \"C:/Users/nacho/Desktop/Aprendiendo a programar/PFB/TFB/data/train_test/test_temporal.csv\"\n",
    "\n",
    "df_train.to_csv(train_path, index=False)\n",
    "df_test.to_csv(test_path, index=False)\n",
    "\n",
    "print(\"Archivos guardados en:\")\n",
    "print(train_path)\n",
    "print(test_path)"
   ]
  }
 ],
 "metadata": {
  "kernelspec": {
   "display_name": "base",
   "language": "python",
   "name": "python3"
  },
  "language_info": {
   "codemirror_mode": {
    "name": "ipython",
    "version": 3
   },
   "file_extension": ".py",
   "mimetype": "text/x-python",
   "name": "python",
   "nbconvert_exporter": "python",
   "pygments_lexer": "ipython3",
   "version": "3.12.3"
  }
 },
 "nbformat": 4,
 "nbformat_minor": 2
}
