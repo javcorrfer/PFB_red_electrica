{
 "cells": [
  {
   "cell_type": "code",
   "execution_count": 1,
   "metadata": {},
   "outputs": [],
   "source": [
    "import pandas as pd\n",
    "from datetime import datetime\n",
    "from time import sleep\n",
    "\n",
    "from funciones.extraccion_balance import *\n",
    "from funciones.extraccion_demanda import *\n",
    "from funciones.extraccion_generacion import *\n",
    "from funciones.extraccion_intercambios import *"
   ]
  },
  {
   "cell_type": "code",
   "execution_count": 2,
   "metadata": {},
   "outputs": [
    {
     "name": "stdout",
     "output_type": "stream",
     "text": [
      "pandas==2.2.3\n"
     ]
    }
   ],
   "source": [
    "# Versiones\n",
    "\n",
    "print(f\"pandas=={pd.__version__}\")"
   ]
  },
  {
   "cell_type": "markdown",
   "metadata": {},
   "source": [
    "### EXTRACCION DE DATOS\n",
    "\n",
    "Para la extracción de los datos nos hemos inspirado en la propia herramienta de visualización que ofrece Red Eléctrica Española: [Aldia](https://www.ree.es/es/datos/aldia)\n",
    "\n",
    "Datos a extraer:\n",
    "\n",
    "- Demanda\n",
    "\n",
    "- Balance\n",
    "\n",
    "- Generación\n",
    "\n",
    "- Intercambios\n",
    "\n",
    "---"
   ]
  },
  {
   "cell_type": "markdown",
   "metadata": {},
   "source": [
    "#### DEFINICIÓN DE PARÁMETROS PARA QUERY GET\n",
    "\n",
    "**ACLARACIÓN: Para facilitar el mantenimiento y la legibilidad, hemos definido los parámetros en un archivo independiente (parametros.py)**\n",
    "\n",
    "La API ofrece mucha información, alguna que no sabemos interpretar. \n",
    "\n",
    "Para intentar simplificar la cantidad de datos y su posterior legibilidad y aplicabilidad, nos hemos centrado campos concretos: \n",
    "\n",
    "- IDIOMA: \n",
    "\n",
    "    * Español\n",
    "\n",
    "- CATEGORIAS y WIDGETS:\n",
    "\n",
    "    Hemos contemplado las categorías requeridas por el proyecto y los widgets que tienen información territorial completa:\n",
    "\n",
    "    * Balance\n",
    "        - balance-electrico\n",
    "        \n",
    "    * Demanda\n",
    "        - evolucion\n",
    "        - perdidas-transporte\n",
    "        - ire-general\n",
    "\n",
    "    * Generación\n",
    "        - estructura-generacion\n",
    "\n",
    "    * Intercambios\n",
    "        - francia-frontera\n",
    "        - portugal-frontera\n",
    "        - marruecos-frontera\n",
    "        - andorra-frontera\n",
    "        - enlace-baleares\n",
    "    \n",
    "    INFORMACIÓN TERRITORIAL\n",
    "    \n",
    "    * Nacional \n",
    "    * Peninsular\n",
    "    * Ceuta\n",
    "    * Melilla\n",
    "    * Canarias\n",
    "    * Baleares\n",
    "    * CCAA\n",
    "\n",
    "---"
   ]
  },
  {
   "cell_type": "markdown",
   "metadata": {},
   "source": [
    "### SCRIPTS\n",
    "\n",
    "**ACLARACIÓN: Para facilitar el mantenimiento y la legibilidad, hemos definido los scripts de extracción en un archivo independiente (extraccion_xxx.py)**\n",
    "\n",
    "La solicitud de cada extracción se ha definido con una función que recibe fecha de inicio y fecha de fin. Esto hace que el mismo código se pueda reutilizar en diferentes intervalos de tiempo. \n",
    "\n",
    "Se ha definido en intervalos de 1 año cada vez con la idea de no saturar el servidor de REE ni de provocar tiempos de espera demasiado altos.\n",
    "\n",
    "Extraemos datos desde el 2010 hasta el día de hoy\n",
    "\n",
    "---"
   ]
  },
  {
   "cell_type": "code",
   "execution_count": 3,
   "metadata": {},
   "outputs": [],
   "source": [
    "hoy = datetime.now() \n",
    "inicio = \"2010-01-01T00:00\"\n",
    "fin = hoy.strftime(\"%Y-%m-%dT23:59\")\n",
    "\n",
    "fechas = { inicio : \"2010-12-31T23:59\", \n",
    "          \"2011-01-01T00:00\" : \"2011-12-31T23:59\", \n",
    "          \"2012-01-01T00:00\" : \"2012-12-31T23:59\", \n",
    "          \"2013-01-01T00:00\" : \"2013-12-31T23:59\", \n",
    "          \"2014-01-01T00:00\" : \"2014-12-31T23:59\", \n",
    "          \"2015-01-01T00:00\" : \"2015-12-31T23:59\", \n",
    "          \"2016-01-01T00:00\" : \"2016-12-31T23:59\", \n",
    "          \"2017-01-01T00:00\" : \"2017-12-31T23:59\", \n",
    "          \"2018-01-01T00:00\" : \"2018-12-31T23:59\", \n",
    "          \"2019-01-01T00:00\" : \"2019-12-31T23:59\", \n",
    "          \"2020-01-01T00:00\" : \"2020-12-31T23:59\", \n",
    "          \"2021-01-01T00:00\" : \"2021-12-31T23:59\", \n",
    "          \"2022-01-01T00:00\" : \"2022-12-31T23:59\", \n",
    "          \"2023-01-01T00:00\" : \"2023-12-31T23:59\", \n",
    "          \"2024-01-01T00:00\" : fin}"
   ]
  },
  {
   "cell_type": "markdown",
   "metadata": {},
   "source": [
    "#### EXTRACCION BALANCE HISTORICO 2020/ACTUALIDAD\n",
    "\n",
    "---"
   ]
  },
  {
   "cell_type": "code",
   "execution_count": 4,
   "metadata": {},
   "outputs": [],
   "source": [
    "df_balance_historico = pd.DataFrame()\n",
    "\n",
    "for key, value in fechas.items():\n",
    "    df_balance = extrae_balance(key, value)\n",
    "    df_balance_historico = pd.concat([df_balance_historico, df_balance])\n",
    "    sleep(1)"
   ]
  },
  {
   "cell_type": "code",
   "execution_count": 5,
   "metadata": {},
   "outputs": [],
   "source": [
    "df_balance_historico.to_csv(\"../data/raw/DF_BALANCE_HISTORICO_10_25.csv\", index=False, sep=\",\")"
   ]
  },
  {
   "cell_type": "markdown",
   "metadata": {},
   "source": [
    "#### EXTRACCION DEMANDA HISTORICO 2020/ACTUALIDAD\n",
    "\n",
    "---"
   ]
  },
  {
   "cell_type": "code",
   "execution_count": 6,
   "metadata": {},
   "outputs": [],
   "source": [
    "df_demanda_historico = pd.DataFrame()\n",
    "\n",
    "for key, value in fechas.items():\n",
    "    df_demanda = extrae_demanda(key, value)\n",
    "    df_demanda_historico = pd.concat([df_demanda_historico, df_demanda])\n",
    "    sleep(1)"
   ]
  },
  {
   "cell_type": "code",
   "execution_count": 7,
   "metadata": {},
   "outputs": [],
   "source": [
    "df_demanda_historico.to_csv(\"../data/raw/DF_DEMANDA_HISTORICO_10_25.csv\", index=False, sep=\",\")"
   ]
  },
  {
   "cell_type": "markdown",
   "metadata": {},
   "source": [
    "#### EXTRACCION GENERACION HISTORICO 2020/ACTUALIDAD\n",
    "\n",
    "---"
   ]
  },
  {
   "cell_type": "code",
   "execution_count": 8,
   "metadata": {},
   "outputs": [],
   "source": [
    "df_generacion_historico = pd.DataFrame()\n",
    "\n",
    "for key, value in fechas.items():\n",
    "    df_generacion = extrae_generacion(key, value)\n",
    "    df_generacion_historico = pd.concat([df_generacion_historico, df_generacion])\n",
    "    sleep(1)"
   ]
  },
  {
   "cell_type": "code",
   "execution_count": 9,
   "metadata": {},
   "outputs": [],
   "source": [
    "df_generacion_historico.to_csv(\"../data/raw/DF_GENERACION_HISTORICO_10_25.csv\", index=False, sep=\",\")"
   ]
  },
  {
   "cell_type": "markdown",
   "metadata": {},
   "source": [
    "#### EXTRACCION INTERCAMBIOS HISTORICO 2020/ACTUALIDAD\n",
    "\n",
    "---"
   ]
  },
  {
   "cell_type": "code",
   "execution_count": 10,
   "metadata": {},
   "outputs": [],
   "source": [
    "df_intercambios_historico = pd.DataFrame()\n",
    "\n",
    "for key, value in fechas.items():\n",
    "    df_intercambios = extrae_intercambios(key, value)\n",
    "    df_intercambios_historico = pd.concat([df_intercambios_historico, df_intercambios])\n",
    "    sleep(1)"
   ]
  },
  {
   "cell_type": "code",
   "execution_count": 11,
   "metadata": {},
   "outputs": [],
   "source": [
    "df_intercambios_historico.to_csv(\"../data/raw/DF_INTERCAMBIOS_HISTORICO_10_25.csv\", index=False, sep=\",\")"
   ]
  }
 ],
 "metadata": {
  "kernelspec": {
   "display_name": ".venv",
   "language": "python",
   "name": "python3"
  },
  "language_info": {
   "codemirror_mode": {
    "name": "ipython",
    "version": 3
   },
   "file_extension": ".py",
   "mimetype": "text/x-python",
   "name": "python",
   "nbconvert_exporter": "python",
   "pygments_lexer": "ipython3",
   "version": "3.11.7"
  }
 },
 "nbformat": 4,
 "nbformat_minor": 2
}
