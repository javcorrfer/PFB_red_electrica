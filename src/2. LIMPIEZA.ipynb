{
 "cells": [
  {
   "cell_type": "code",
   "execution_count": 1,
   "metadata": {},
   "outputs": [],
   "source": [
    "import pandas as pd\n",
    "\n",
    "from funciones.divide_fecha import *\n",
    "from funciones.limpia_columnas import *  \n",
    "from funciones.limpia_intercambio import * \n",
    "from funciones.limpia_balance import *\n",
    "from funciones.limpia_generacion import *\n",
    "from funciones.limpia_demanda import *"
   ]
  },
  {
   "cell_type": "markdown",
   "metadata": {},
   "source": [
    "---\n",
    "\n",
    "### LIMPIEZA GENÉRICA \n",
    "\n",
    "- divide_fecha():\n",
    "\n",
    "    Extraemos año, mes y día para cada dataframe, y lo transformamos a int. Esto hace que ahorremos unos cuantos kb de memoria.\n",
    "\n",
    "- limpia_columnas():\n",
    "\n",
    "    * Renombramos algunas columnas para mayor legibilidad\n",
    "    * Creamos una columna \"ID\" juntando la fecha de extracción (sólo los números) y el índice correspondiente al dataframe importado (\"Unnamed: 0\"), para hacer un id individual.\n",
    "    * Transformamos la columna \"ID\" a int (64, 32 no soporta tantos caracteres).\n",
    "    * Reasignamos valores en \"composite\" a 1 y 0. Estos valores tienen que ver con la composición de la energía, consideramos interesante mantener la columna por ahora.\n",
    "    * Eliminamos las columnas [\"magnitude\", \"Unnamed: 0\", \"color\", \"descripcion\"]"
   ]
  },
  {
   "cell_type": "markdown",
   "metadata": {},
   "source": [
    "--- \n",
    "\n",
    "### BALANCE:  limpia_balance()\n",
    "\n",
    "Los datos vienen con muchos valores que representan totales de agrupaciones, así que:\n",
    "\n",
    "- Eliminamos las filas en columna \"titulo\" que representan totales: \n",
    "    * \"Generación renovable\"\n",
    "    * \"Generación no renovable\"\n",
    "    * \"Saldo almacenamiento\"\n",
    "    * \"Demanda en b.c.\"\n",
    "\n",
    "- Definimos titulos_renovables, titulos_no_renovables y almacenamiento para categorizar los tipos de energía. Esto nos ayudará a reagruparlas para operar sobre ellas y posteriormente graficarlas. Además, esta reagrupación rellena NaNs que se corresponden con las categorías de la columna \"titulo\"\n",
    "\n",
    "- La fila \"last-update\" tiene algunos valores inconsistentes así que eliminamos la fila, ya que tenemos fila con fecha de toma de la medida y fecha de la extraccion de a información."
   ]
  },
  {
   "cell_type": "markdown",
   "metadata": {},
   "source": [
    "--- \n",
    "\n",
    "### INTERCAMBIO:  limpia_intercambio()\n",
    "\n",
    "- Reasignamos NaNs a \"Enlace Península-Baleares\": \n",
    "    \n",
    "    Tras comparar \"frontera\" con \"categoria\" vemos que cuando \"frontera\" es NaN \"categoria\" = \"Enlace Península-Baleares\". \n",
    "\n",
    "- Eliminamos los valores de titulo \"saldo\", ya que representa totales que realmente podemos calcular ad hoc para estadísticas o gráficos."
   ]
  },
  {
   "cell_type": "markdown",
   "metadata": {},
   "source": [
    "--- \n",
    "\n",
    "### GENERACION:  limpia_generacion()\n",
    "\n",
    "* Sustituimos en columna \"tipo\" \"No-Renovable\" por \"No renovable\". Estos valores hacen referencia a lo mismo, pero tenían 2 nombres diferentes.\n",
    "\n",
    "\n",
    "\n",
    "* La columna tiene categorías importantes que realmente también existen en \"titulo\", pero en esta última están desglosadas, por lo que nos ofrece una información adicional que consideramos interesante. \n"
   ]
  },
  {
   "cell_type": "markdown",
   "metadata": {},
   "source": [
    "---\n",
    "\n",
    "### DEMANDA\n",
    "\n",
    "- Eliminamos la columna \"tipo\": esta columna está compuesta íntegramente por NaNs, así que podemos eliminarla.\n",
    "\n",
    "- En la categoría \"Perdidas de transporte\" hay 2 valores duplicados en la columna \"titulo\" que además representan el total de la demanda, que podemos calcular directamente en df_balance_historico. Eliminamos las filas que correspondan a \"titulo\" = Demanda."
   ]
  },
  {
   "cell_type": "markdown",
   "metadata": {},
   "source": [
    "---\n",
    "\n",
    "### EJECUCION LIMPIEZA"
   ]
  },
  {
   "cell_type": "code",
   "execution_count": 6,
   "metadata": {},
   "outputs": [],
   "source": [
    "df_balance_historico = pd.read_csv(\"../data/raw/DF_BALANCE_HISTORICO_10_25.csv\")\n",
    "df_demanda_historico = pd.read_csv(\"../data/raw/DF_DEMANDA_HISTORICO_10_25.csv\")\n",
    "df_generacion_historico = pd.read_csv(\"../data/raw/DF_GENERACION_HISTORICO_10_25.csv\")\n",
    "df_intercambios_historico = pd.read_csv(\"../data/raw/DF_INTERCAMBIOS_HISTORICO_10_25.csv\")"
   ]
  },
  {
   "cell_type": "code",
   "execution_count": 7,
   "metadata": {},
   "outputs": [],
   "source": [
    "dataframes = [df_balance_historico, df_intercambios_historico, df_demanda_historico, df_generacion_historico]\n",
    "\n",
    "dataframes = [divide_fecha(dataframe) for dataframe in dataframes]\n",
    "dataframes = [limpia_columnas(dataframe) for dataframe in dataframes]\n",
    "\n",
    "# Reasignamos para que los cambios en las funciones sean efectivos\n",
    "df_balance_historico, df_intercambios_historico, df_demanda_historico, df_generacion_historico = dataframes\n",
    "\n",
    "df_intercambios_historico = limpia_intercambio(df_intercambios_historico)\n",
    "df_balance_historico = limpia_balance(df_balance_historico)\n",
    "df_generacion_historico = limpia_generacion(df_generacion_historico)\n",
    "df_demanda_historico = limpia_demanda(df_demanda_historico)"
   ]
  },
  {
   "cell_type": "code",
   "execution_count": 8,
   "metadata": {},
   "outputs": [
    {
     "name": "stdout",
     "output_type": "stream",
     "text": [
      "<class 'pandas.core.frame.DataFrame'>\n",
      "Index: 324594 entries, 0 to 432489\n",
      "Data columns (total 14 columns):\n",
      " #   Column            Non-Null Count   Dtype         \n",
      "---  ------            --------------   -----         \n",
      " 0   titulo            324594 non-null  object        \n",
      " 1   tipo              324594 non-null  object        \n",
      " 2   composite         324594 non-null  int64         \n",
      " 3   fecha_extraccion  324594 non-null  datetime64[ns]\n",
      " 4   categoria         324594 non-null  object        \n",
      " 5   zona              324594 non-null  object        \n",
      " 6   valor_(MWh)       324594 non-null  float64       \n",
      " 7   porcentaje        324594 non-null  float64       \n",
      " 8   fecha             324594 non-null  datetime64[ns]\n",
      " 9   año               324594 non-null  int32         \n",
      " 10  mes               324594 non-null  int32         \n",
      " 11  dia               324594 non-null  int32         \n",
      " 12  dia_semana        324594 non-null  object        \n",
      " 13  ID                324594 non-null  object        \n",
      "dtypes: datetime64[ns](2), float64(2), int32(3), int64(1), object(6)\n",
      "memory usage: 33.4+ MB\n",
      "None\n",
      "--------------------------------------------------\n",
      "<class 'pandas.core.frame.DataFrame'>\n",
      "Index: 60259 entries, 0 to 80838\n",
      "Data columns (total 15 columns):\n",
      " #   Column            Non-Null Count  Dtype         \n",
      "---  ------            --------------  -----         \n",
      " 0   titulo            60259 non-null  object        \n",
      " 1   tipo              60259 non-null  object        \n",
      " 2   composite         60259 non-null  int64         \n",
      " 3   fecha_extraccion  60259 non-null  datetime64[ns]\n",
      " 4   categoria         60259 non-null  object        \n",
      " 5   frontera          60259 non-null  object        \n",
      " 6   zona              60259 non-null  object        \n",
      " 7   valor_(MWh)       60259 non-null  float64       \n",
      " 8   porcentaje        60259 non-null  float64       \n",
      " 9   fecha             60259 non-null  datetime64[ns]\n",
      " 10  año               60259 non-null  int32         \n",
      " 11  mes               60259 non-null  int32         \n",
      " 12  dia               60259 non-null  int32         \n",
      " 13  dia_semana        60259 non-null  object        \n",
      " 14  ID                60259 non-null  object        \n",
      "dtypes: datetime64[ns](2), float64(2), int32(3), int64(1), object(7)\n",
      "memory usage: 6.7+ MB\n",
      "None\n",
      "--------------------------------------------------\n",
      "<class 'pandas.core.frame.DataFrame'>\n",
      "Index: 47672 entries, 0 to 63945\n",
      "Data columns (total 13 columns):\n",
      " #   Column            Non-Null Count  Dtype         \n",
      "---  ------            --------------  -----         \n",
      " 0   titulo            47672 non-null  object        \n",
      " 1   composite         47672 non-null  int64         \n",
      " 2   fecha_extraccion  47672 non-null  datetime64[ns]\n",
      " 3   categoria         47672 non-null  object        \n",
      " 4   zona              47672 non-null  object        \n",
      " 5   valor_(MWh)       47672 non-null  float64       \n",
      " 6   porcentaje        47672 non-null  float64       \n",
      " 7   fecha             47672 non-null  datetime64[ns]\n",
      " 8   año               47672 non-null  int32         \n",
      " 9   mes               47672 non-null  int32         \n",
      " 10  dia               47672 non-null  int32         \n",
      " 11  dia_semana        47672 non-null  object        \n",
      " 12  ID                47672 non-null  object        \n",
      "dtypes: datetime64[ns](2), float64(2), int32(3), int64(1), object(5)\n",
      "memory usage: 4.5+ MB\n",
      "None\n",
      "--------------------------------------------------\n",
      "<class 'pandas.core.frame.DataFrame'>\n",
      "Index: 272021 entries, 0 to 305156\n",
      "Data columns (total 14 columns):\n",
      " #   Column            Non-Null Count   Dtype         \n",
      "---  ------            --------------   -----         \n",
      " 0   titulo            272021 non-null  object        \n",
      " 1   tipo              272021 non-null  object        \n",
      " 2   composite         272021 non-null  int64         \n",
      " 3   fecha_extraccion  272021 non-null  datetime64[ns]\n",
      " 4   categoria         272021 non-null  object        \n",
      " 5   zona              272021 non-null  object        \n",
      " 6   valor_(MWh)       272021 non-null  float64       \n",
      " 7   porcentaje        272021 non-null  float64       \n",
      " 8   fecha             272021 non-null  datetime64[ns]\n",
      " 9   año               272021 non-null  int32         \n",
      " 10  mes               272021 non-null  int32         \n",
      " 11  dia               272021 non-null  int32         \n",
      " 12  dia_semana        272021 non-null  object        \n",
      " 13  ID                272021 non-null  object        \n",
      "dtypes: datetime64[ns](2), float64(2), int32(3), int64(1), object(6)\n",
      "memory usage: 28.0+ MB\n",
      "None\n",
      "--------------------------------------------------\n"
     ]
    }
   ],
   "source": [
    "# Compruebo que no haya NaNs y tipos de las variables\n",
    "\n",
    "for i in [df_balance_historico, df_intercambios_historico, df_demanda_historico, df_generacion_historico]:\n",
    "    print(i.info())\n",
    "    print(\"-\"*50)"
   ]
  },
  {
   "cell_type": "code",
   "execution_count": 9,
   "metadata": {},
   "outputs": [],
   "source": [
    "# guardamos los csv limpios\n",
    "\n",
    "df_balance_historico.to_csv(\"../data/processed/DF_BALANCE_10_25_LIMPIO.csv\", index=False, sep=\",\")\n",
    "df_demanda_historico.to_csv(\"../data/processed/DF_DEMANDA_10_25_LIMPIO.csv\", index=False, sep=\",\")\n",
    "df_generacion_historico.to_csv(\"../data/processed/DF_GENERACION_10_25_LIMPIO.csv\", index=False, sep=\",\")\n",
    "df_intercambios_historico.to_csv(\"../data/processed/DF_INTERCAMBIOS_10_25_LIMPIO.csv\", index=False, sep=\",\")"
   ]
  }
 ],
 "metadata": {
  "kernelspec": {
   "display_name": ".venv",
   "language": "python",
   "name": "python3"
  },
  "language_info": {
   "codemirror_mode": {
    "name": "ipython",
    "version": 3
   },
   "file_extension": ".py",
   "mimetype": "text/x-python",
   "name": "python",
   "nbconvert_exporter": "python",
   "pygments_lexer": "ipython3",
   "version": "3.11.7"
  }
 },
 "nbformat": 4,
 "nbformat_minor": 2
}
