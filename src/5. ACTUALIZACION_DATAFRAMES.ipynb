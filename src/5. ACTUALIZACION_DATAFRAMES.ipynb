{
 "cells": [
  {
   "cell_type": "markdown",
   "metadata": {},
   "source": [
    "### ACTUALIZACION DATAFRAMES Y BBDD\n",
    "\n",
    "- actualiza_dfs():\n",
    "\n",
    "    Para mantener los datos actualizados, extraemos, limpiamos y sustituimos outliers cada cierto tiempo. Por ello, algunos de los datos de la columna valor_MWh(provisionales) cambian por datos definitivos. Esto duplica registros así que hemos tenido que evaluar varias veces cada dataframe actualizado (concatenado dataframe \"base\" con dataframe \"nuevo\").\n",
    "\n",
    "\n",
    "\n",
    "- actualiza_bbdd():\n",
    "\n",
    "    Los dataframes tiene una columna única (ID) que se crea concatenando fecha de medición + UUID. El problema de este método es que al reejecutar el código, el ID cambia, lo que nos ha traído problemas para poder actualizar los datos en la BBDD valorando si ya existían o no. Por este motivo, decidimos finalmente sobreescribrir la BBDD con los nuevos dataframes concatenados y sin duplicados. \n",
    "\n",
    "    Además, durante las pruebas de la mejor opción a implementar vimos que SQLAlchemy no conectaba correctamente con la BBDD, lo que nos obligó a usar mysql.connector también en la misma función.\n",
    "\n",
    "---"
   ]
  },
  {
   "cell_type": "code",
   "execution_count": 1,
   "metadata": {},
   "outputs": [],
   "source": [
    "import pandas as pd\n",
    "from funciones.actualiza_dataframes import *\n",
    "from database.actualiza_bbdd import *"
   ]
  },
  {
   "cell_type": "code",
   "execution_count": null,
   "metadata": {},
   "outputs": [],
   "source": [
    "df_balance_historico_actualizado, \\\n",
    "df_demanda_historico_actualizado, \\\n",
    "df_generacion_historico_actualizado, \\\n",
    "df_intercambios_historico_actualizado = actualiza_dfs()"
   ]
  },
  {
   "cell_type": "code",
   "execution_count": null,
   "metadata": {},
   "outputs": [],
   "source": [
    "actualiza_bbdd(df_balance_historico_actualizado, \n",
    "               df_demanda_historico_actualizado, \n",
    "               df_generacion_historico_actualizado, \n",
    "               df_intercambios_historico_actualizado)"
   ]
  },
  {
   "cell_type": "code",
   "execution_count": null,
   "metadata": {},
   "outputs": [],
   "source": [
    "df_balance_historico_actualizado.to_csv(\"../data/processed/DF_BALANCE_10_25_LIMPIO.csv\", index=False, sep=\",\")\n",
    "df_demanda_historico_actualizado.to_csv(\"../data/processed/DF_DEMANDA_10_25_LIMPIO.csv\", index=False, sep=\",\")\n",
    "df_generacion_historico_actualizado.to_csv(\"../data/processed/DF_GENERACION_10_25_LIMPIO.csv\", index=False, sep=\",\")\n",
    "df_intercambios_historico_actualizado.to_csv(\"../data/processed/DF_INTERCAMBIOS_10_25_LIMPIO.csv\", index=False, sep=\",\")"
   ]
  },
  {
   "cell_type": "code",
   "execution_count": null,
   "metadata": {},
   "outputs": [],
   "source": [
    "# print para comprobar registros con BBDD manualmente\n",
    "\n",
    "print(len(df_balance_historico_actualizado))\n",
    "print(len(df_demanda_historico_actualizado))\n",
    "print(len(df_generacion_historico_actualizado))\n",
    "print(len(df_intercambios_historico_actualizado))"
   ]
  }
 ],
 "metadata": {
  "kernelspec": {
   "display_name": ".venv",
   "language": "python",
   "name": "python3"
  },
  "language_info": {
   "codemirror_mode": {
    "name": "ipython",
    "version": 3
   },
   "file_extension": ".py",
   "mimetype": "text/x-python",
   "name": "python",
   "nbconvert_exporter": "python",
   "pygments_lexer": "ipython3",
   "version": "3.11.7"
  }
 },
 "nbformat": 4,
 "nbformat_minor": 2
}
