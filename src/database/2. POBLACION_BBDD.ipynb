{
 "cells": [
  {
   "cell_type": "markdown",
   "metadata": {},
   "source": [
    "### POPULAR BBDD\n",
    "\n",
    "crea_tablas(): creamos las tablas BALANCE, DEMANDA, GENERACION e INTERCAMBIOS\n",
    "\n",
    "---"
   ]
  },
  {
   "cell_type": "code",
   "execution_count": 1,
   "metadata": {},
   "outputs": [],
   "source": [
    "from crea_bbdd import *"
   ]
  },
  {
   "cell_type": "code",
   "execution_count": 2,
   "metadata": {},
   "outputs": [
    {
     "name": "stdout",
     "output_type": "stream",
     "text": [
      "Insertando datos en la tabla BALANCE desde ../../data/processed/DF_BALANCE_10_25_LIMPIO.csv...\n",
      "✔ 324942 Datos insertados en BALANCE correctamente.\n",
      "Insertando datos en la tabla DEMANDA desde ../../data/processed/DF_DEMANDA_10_25_LIMPIO.csv...\n",
      "✔ 47710 Datos insertados en DEMANDA correctamente.\n",
      "Insertando datos en la tabla GENERACION desde ../../data/processed/DF_GENERACION_10_25_LIMPIO.csv...\n",
      "✔ 272320 Datos insertados en GENERACION correctamente.\n",
      "Insertando datos en la tabla INTERCAMBIOS desde ../../data/processed/DF_INTERCAMBIOS_10_25_LIMPIO.csv...\n",
      "✔ 60284 Datos insertados en INTERCAMBIOS correctamente.\n"
     ]
    },
    {
     "data": {
      "text/plain": [
       "'Tablas creadas con éxito!'"
      ]
     },
     "execution_count": 2,
     "metadata": {},
     "output_type": "execute_result"
    }
   ],
   "source": [
    "crea_tablas()"
   ]
  }
 ],
 "metadata": {
  "kernelspec": {
   "display_name": ".venv",
   "language": "python",
   "name": "python3"
  },
  "language_info": {
   "codemirror_mode": {
    "name": "ipython",
    "version": 3
   },
   "file_extension": ".py",
   "mimetype": "text/x-python",
   "name": "python",
   "nbconvert_exporter": "python",
   "pygments_lexer": "ipython3",
   "version": "3.11.7"
  }
 },
 "nbformat": 4,
 "nbformat_minor": 2
}
