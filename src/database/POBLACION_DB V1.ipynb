{
 "cells": [
  {
   "cell_type": "code",
   "execution_count": 1,
   "metadata": {},
   "outputs": [],
   "source": [
    "import pandas as pd\n",
    "import sqlalchemy\n",
    "from sqlalchemy.types import Float, BigInteger"
   ]
  },
  {
   "cell_type": "code",
   "execution_count": 2,
   "metadata": {},
   "outputs": [],
   "source": [
    "# Configuración de conexión a MySQL\n",
    "host = \"localhost\"\n",
    "usuario = \"root\"\n",
    "contraseña = \"root\"\n",
    "bd = \"red_electrica\"\n",
    "\n",
    "# Crear la conexión\n",
    "conexion_str = f\"mysql+pymysql://{usuario}:{contraseña}@{host}/{bd}\"\n",
    "engine = sqlalchemy.create_engine(conexion_str)"
   ]
  },
  {
   "cell_type": "code",
   "execution_count": 3,
   "metadata": {},
   "outputs": [],
   "source": [
    "# Definir paths para archivos CSV\n",
    "\n",
    "file_paths = {\n",
    "    \"DEMANDA\": \"../../data/processed/DF_DEMANDA_10_25_LIMPIO.csv\",\n",
    "    \"GENERACION\": \"../../data/processed/DF_GENERACION_10_25_LIMPIO.csv\",\n",
    "    \"INTERCAMBIOS\": \"../../data/processed/DF_INTERCAMBIOS_10_25_LIMPIO.csv\",\n",
    "    \"BALANCE\": \"../../data/processed/DF_BALANCE_10_25_LIMPIO.csv\"\n",
    "}"
   ]
  },
  {
   "cell_type": "code",
   "execution_count": 4,
   "metadata": {},
   "outputs": [
    {
     "name": "stdout",
     "output_type": "stream",
     "text": [
      "Insertando datos en la tabla DEMANDA desde ../../data/processed/DF_DEMANDA_10_25_LIMPIO.csv...\n",
      "✔ Datos insertados en DEMANDA correctamente.\n",
      "Insertando datos en la tabla GENERACION desde ../../data/processed/DF_GENERACION_10_25_LIMPIO.csv...\n",
      "✔ Datos insertados en GENERACION correctamente.\n",
      "Insertando datos en la tabla INTERCAMBIOS desde ../../data/processed/DF_INTERCAMBIOS_10_25_LIMPIO.csv...\n",
      "✔ Datos insertados en INTERCAMBIOS correctamente.\n",
      "Insertando datos en la tabla BALANCE desde ../../data/processed/DF_BALANCE_10_25_LIMPIO.csv...\n",
      "✔ Datos insertados en BALANCE correctamente.\n",
      " Proceso completado.\n"
     ]
    }
   ],
   "source": [
    "# Cargar y poblar la base de datos\n",
    "for tabla, file_path in file_paths.items():\n",
    "    print(f\"Insertando datos en la tabla {tabla} desde {file_path}...\")\n",
    "    \n",
    "    # Cargar el CSV\n",
    "    df = pd.read_csv(file_path)\n",
    "\n",
    "    # Ajustar nombres de columnas para que coincidan con la base de datos\n",
    "    df.columns = [col.lower().replace(\" \", \"_\") for col in df.columns]\n",
    "    \n",
    "    # Insertar datos en la tabla MySQL\n",
    "    df.to_sql(name=tabla, con=engine, if_exists='append', index=False)\n",
    "\n",
    "    print(f\"✔ Datos insertados en {tabla} correctamente.\")\n",
    "\n",
    "print(\" Proceso completado.\")"
   ]
  }
 ],
 "metadata": {
  "kernelspec": {
   "display_name": ".venv",
   "language": "python",
   "name": "python3"
  },
  "language_info": {
   "codemirror_mode": {
    "name": "ipython",
    "version": 3
   },
   "file_extension": ".py",
   "mimetype": "text/x-python",
   "name": "python",
   "nbconvert_exporter": "python",
   "pygments_lexer": "ipython3",
   "version": "3.11.7"
  }
 },
 "nbformat": 4,
 "nbformat_minor": 2
}
