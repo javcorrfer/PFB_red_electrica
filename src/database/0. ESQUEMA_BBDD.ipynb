{
 "cells": [
  {
   "cell_type": "markdown",
   "metadata": {},
   "source": [
    "### ESQUEMA BBDD\n",
    "\n",
    "---"
   ]
  },
  {
   "cell_type": "code",
   "execution_count": null,
   "metadata": {
    "vscode": {
     "languageId": "powershell"
    }
   },
   "outputs": [],
   "source": [
    "                           +------------------+\n",
    "                           |  red_electrica   |\n",
    "                           +------------------+\n",
    "                                   │\n",
    "      ┌────────────────────────────┼───────────────────────────┐\n",
    "      │                            │                           │\n",
    "+------------+              +------------+              +------------+\n",
    "|  DEMANDA   |              | GENERACION |              | INTERCAMBIOS|\n",
    "+------------+              +------------+              +------------+\n",
    "| ID (PK)    |              | ID (PK)    |              | ID (PK)    |\n",
    "| titulo     |              | titulo     |              | titulo     |\n",
    "| composite  |              | composite  |              | composite  |\n",
    "| fecha_ext. |              | fecha_ext. |              | fecha_ext. |\n",
    "| categoria  |              | categoria  |              | categoria  |\n",
    "| zona       |              | zona       |              | frontera   |\n",
    "| valor (MWh)|              | valor (MWh)|              | zona       |\n",
    "| porcentaje |              | porcentaje |              | valor (MWh)|\n",
    "| fecha      |◄───────────►| fecha      |◄───────────►| fecha      |\n",
    "| año        |              | año        |              | año        |\n",
    "| mes        |              | mes        |              | mes        |\n",
    "| dia        |              | dia        |              | dia        |\n",
    "| dia_semana |              | dia_semana |              | dia_semana |\n",
    "+------------+              +------------+              +------------+\n",
    "           │                          │                            │\n",
    "           └──────────────────────────┼────────────────────────────┘\n",
    "                                      │\n",
    "                              +------------+\n",
    "                              |  BALANCE   |\n",
    "                              +------------+\n",
    "                              | ID (PK)    |\n",
    "                              | titulo     |\n",
    "                              | composite  |\n",
    "                              | fecha_ext. |\n",
    "                              | categoria  |\n",
    "                              | zona       |\n",
    "                              | valor (MWh)|\n",
    "                              | porcentaje |\n",
    "                              | fecha      |\n",
    "                              | año        |\n",
    "                              | mes        |\n",
    "                              | dia        |\n",
    "                              | dia_semana |\n",
    "                              +------------+\n"
   ]
  }
 ],
 "metadata": {
  "kernelspec": {
   "display_name": ".venv",
   "language": "python",
   "name": "python3"
  },
  "language_info": {
   "codemirror_mode": {
    "name": "ipython",
    "version": 3
   },
   "file_extension": ".py",
   "mimetype": "text/x-python",
   "name": "python",
   "nbconvert_exporter": "python",
   "pygments_lexer": "ipython3",
   "version": "3.11.9"
  }
 },
 "nbformat": 4,
 "nbformat_minor": 2
}
