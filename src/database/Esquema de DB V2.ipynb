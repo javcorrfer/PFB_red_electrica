{
 "cells": [
  {
   "cell_type": "code",
   "execution_count": null,
   "metadata": {
    "vscode": {
     "languageId": "powershell"
    }
   },
   "outputs": [],
   "source": [
    "                           +------------------+\n",
    "                           |  red_electrica   |\n",
    "                           +------------------+\n",
    "                                   │\n",
    "      ┌────────────────────────────┼───────────────────────────┐\n",
    "      │                            │                           │\n",
    "+------------+              +------------+              +------------+\n",
    "|  DEMANDA   |              | GENERACION |              | INTERCAMBIOS|\n",
    "+------------+              +------------+              +------------+\n",
    "| ID (PK)    |              | ID (PK)    |              | ID (PK)    |\n",
    "| titulo     |              | titulo     |              | titulo     |\n",
    "| composite  |              | composite  |              | composite  |\n",
    "| fecha_ext. |              | fecha_ext. |              | fecha_ext. |\n",
    "| categoria  |              | categoria  |              | categoria  |\n",
    "| zona       |              | zona       |              | frontera   |\n",
    "| valor (MWh)|              | valor (MWh)|              | zona       |\n",
    "| porcentaje |              | porcentaje |              | valor (MWh)|\n",
    "| fecha      |◄───────────►| fecha      |◄───────────►| fecha      |\n",
    "| año        |              | año        |              | año        |\n",
    "| mes        |              | mes        |              | mes        |\n",
    "| dia        |              | dia        |              | dia        |\n",
    "| dia_semana |              | dia_semana |              | dia_semana |\n",
    "+------------+              +------------+              +------------+\n",
    "           │                          │                            │\n",
    "           └──────────────────────────┼────────────────────────────┘\n",
    "                                      │\n",
    "                              +------------+\n",
    "                              |  BALANCE   |\n",
    "                              +------------+\n",
    "                              | ID (PK)    |\n",
    "                              | titulo     |\n",
    "                              | composite  |\n",
    "                              | fecha_ext. |\n",
    "                              | categoria  |\n",
    "                              | zona       |\n",
    "                              | valor (MWh)|\n",
    "                              | porcentaje |\n",
    "                              | fecha      |\n",
    "                              | año        |\n",
    "                              | mes        |\n",
    "                              | dia        |\n",
    "                              | dia_semana |\n",
    "                              +------------+\n"
   ]
  },
  {
   "cell_type": "code",
   "execution_count": null,
   "metadata": {
    "vscode": {
     "languageId": "sql"
    }
   },
   "outputs": [],
   "source": [
    "-- Active: 1732641259165@@127.0.0.1@3306@red_electrica\n",
    "-- Eliminar la base de datos si existe y crearla de nuevo\n",
    "DROP DATABASE IF EXISTS red_electrica;\n",
    "CREATE DATABASE red_electrica;\n",
    "USE red_electrica;\n",
    "\n",
    "-- Tabla DEMANDA\n",
    "CREATE TABLE DEMANDA (\n",
    "    ID CHAR(42) NOT NULL PRIMARY KEY,\n",
    "    titulo VARCHAR(255),\n",
    "    composite INT,\n",
    "    fecha_extraccion DATETIME,\n",
    "    categoria VARCHAR(255),\n",
    "    zona VARCHAR(255),\n",
    "    `valor_(MWh)` FLOAT,\n",
    "    porcentaje FLOAT,\n",
    "    fecha DATE NOT NULL,\n",
    "    año INT,\n",
    "    mes INT,\n",
    "    dia INT,\n",
    "    dia_semana VARCHAR(50)\n",
    ");\n",
    "\n",
    "-- Tabla GENERACION\n",
    "CREATE TABLE GENERACION (\n",
    "    ID CHAR(42) NOT NULL PRIMARY KEY,\n",
    "    titulo VARCHAR(255),\n",
    "    tipo VARCHAR(255),\n",
    "    composite INT,\n",
    "    fecha_extraccion DATETIME,\n",
    "    categoria VARCHAR(255),\n",
    "    zona VARCHAR(255),\n",
    "    `valor_(MWh)` FLOAT,\n",
    "    porcentaje FLOAT,\n",
    "    fecha DATE NOT NULL,\n",
    "    año INT,\n",
    "    mes INT,\n",
    "    dia INT,\n",
    "    dia_semana VARCHAR(50)\n",
    ");\n",
    "\n",
    "-- Tabla INTERCAMBIOS\n",
    "CREATE TABLE INTERCAMBIOS (\n",
    "    ID CHAR(42) NOT NULL PRIMARY KEY,\n",
    "    titulo VARCHAR(255),\n",
    "    tipo VARCHAR(255),\n",
    "    composite INT,\n",
    "    fecha_extraccion DATETIME,\n",
    "    categoria VARCHAR(255),\n",
    "    frontera VARCHAR(255),\n",
    "    zona VARCHAR(255),\n",
    "    `valor_(MWh)` FLOAT,\n",
    "    porcentaje FLOAT,\n",
    "    fecha DATE NOT NULL,\n",
    "    año INT,\n",
    "    mes INT,\n",
    "    dia INT,\n",
    "    dia_semana VARCHAR(50)\n",
    ");\n",
    "\n",
    "-- Tabla BALANCE\n",
    "CREATE TABLE BALANCE (\n",
    "    ID CHAR(42) NOT NULL PRIMARY KEY,\n",
    "    titulo VARCHAR(255),\n",
    "    tipo VARCHAR(255),\n",
    "    composite INT,\n",
    "    fecha_extraccion DATETIME,\n",
    "    categoria VARCHAR(255),\n",
    "    zona VARCHAR(255),\n",
    "    `valor_(MWh)` FLOAT,\n",
    "    porcentaje FLOAT,\n",
    "    fecha DATE NOT NULL,\n",
    "    año INT,\n",
    "    mes INT,\n",
    "    dia INT,\n",
    "    dia_semana VARCHAR(50)\n",
    ");"
   ]
  },
  {
   "cell_type": "code",
   "execution_count": null,
   "metadata": {
    "vscode": {
     "languageId": "sql"
    }
   },
   "outputs": [],
   "source": [
    "#Prueba Tablas\n",
    "\n",
    "SELECT * FROM DEMANDA LIMIT 10;\n",
    "SELECT * FROM DEMANDA ORDER BY ID DESC LIMIT 10;\n",
    "SELECT * FROM GENERACION LIMIT 10;\n",
    "SELECT * FROM INTERCAMBIOS LIMIT 10;\n",
    "SELECT * FROM BALANCE LIMIT 10;\n"
   ]
  }
 ],
 "metadata": {
  "kernelspec": {
   "display_name": ".venv",
   "language": "python",
   "name": "python3"
  },
  "language_info": {
   "codemirror_mode": {
    "name": "ipython",
    "version": 3
   },
   "file_extension": ".py",
   "mimetype": "text/x-python",
   "name": "python",
   "nbconvert_exporter": "python",
   "pygments_lexer": "ipython3",
   "version": "3.11.7"
  }
 },
 "nbformat": 4,
 "nbformat_minor": 2
}
