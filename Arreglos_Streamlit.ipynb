{
 "cells": [
  {
   "cell_type": "code",
   "execution_count": 59,
   "metadata": {},
   "outputs": [],
   "source": [
    "import numpy as np\n",
    "import pandas as pd\n",
    "from datetime import datetime, timedelta\n",
    "from StreamlitApp_S1.filtros_visualizaciones import p7_30_365_hist\n",
    "import plotly.express as px\n",
    "import folium"
   ]
  },
  {
   "cell_type": "code",
   "execution_count": 60,
   "metadata": {},
   "outputs": [],
   "source": [
    "df_demanda = pd.read_csv('./SPRINT1PRUEBAS/Data/DF DEMANDA_20_25_LIMPIO_V1.csv')\n",
    "df_generacion = pd.read_csv('./SPRINT1PRUEBAS/Data/DF GENERACION_20_25_LIMPIO_V1.csv')\n",
    "df_intercambios = pd.read_csv('./SPRINT1PRUEBAS/Data/DF INTERCAMBIOS_20_25_LIMPIO_V1.csv')\n",
    "df_balance = pd.read_csv('./SPRINT1PRUEBAS/Data/DF_BALANCE_20_25_LIMPIO_V1.csv')"
   ]
  },
  {
   "cell_type": "markdown",
   "metadata": {},
   "source": [
    "### Demanda para 7, 30, 365 días y el histórico\n"
   ]
  },
  {
   "cell_type": "code",
   "execution_count": 6,
   "metadata": {},
   "outputs": [
    {
     "data": {
      "text/html": [
       "<div>\n",
       "<style scoped>\n",
       "    .dataframe tbody tr th:only-of-type {\n",
       "        vertical-align: middle;\n",
       "    }\n",
       "\n",
       "    .dataframe tbody tr th {\n",
       "        vertical-align: top;\n",
       "    }\n",
       "\n",
       "    .dataframe thead th {\n",
       "        text-align: right;\n",
       "    }\n",
       "</style>\n",
       "<table border=\"1\" class=\"dataframe\">\n",
       "  <thead>\n",
       "    <tr style=\"text-align: right;\">\n",
       "      <th></th>\n",
       "      <th>titulo</th>\n",
       "      <th>composite</th>\n",
       "      <th>ultima_actualizacion</th>\n",
       "      <th>fecha_extraccion</th>\n",
       "      <th>categoria</th>\n",
       "      <th>zona</th>\n",
       "      <th>valor</th>\n",
       "      <th>porcentaje</th>\n",
       "      <th>fecha</th>\n",
       "      <th>año</th>\n",
       "      <th>mes</th>\n",
       "      <th>dia</th>\n",
       "      <th>dia_semana</th>\n",
       "      <th>ID</th>\n",
       "    </tr>\n",
       "  </thead>\n",
       "  <tbody>\n",
       "    <tr>\n",
       "      <th>0</th>\n",
       "      <td>Demanda</td>\n",
       "      <td>0</td>\n",
       "      <td>2025-01-28</td>\n",
       "      <td>2025-02-19</td>\n",
       "      <td>Evolución de la demanda</td>\n",
       "      <td>nacional</td>\n",
       "      <td>716773.125</td>\n",
       "      <td>1.0</td>\n",
       "      <td>2025-02-14</td>\n",
       "      <td>2025</td>\n",
       "      <td>2</td>\n",
       "      <td>14</td>\n",
       "      <td>viernes</td>\n",
       "      <td>2025021921056</td>\n",
       "    </tr>\n",
       "    <tr>\n",
       "      <th>1</th>\n",
       "      <td>Demanda</td>\n",
       "      <td>0</td>\n",
       "      <td>2025-01-28</td>\n",
       "      <td>2025-02-19</td>\n",
       "      <td>Evolución de la demanda</td>\n",
       "      <td>nacional</td>\n",
       "      <td>651705.219</td>\n",
       "      <td>1.0</td>\n",
       "      <td>2025-02-15</td>\n",
       "      <td>2025</td>\n",
       "      <td>2</td>\n",
       "      <td>15</td>\n",
       "      <td>sábado</td>\n",
       "      <td>2025021921057</td>\n",
       "    </tr>\n",
       "    <tr>\n",
       "      <th>2</th>\n",
       "      <td>Demanda</td>\n",
       "      <td>0</td>\n",
       "      <td>2025-01-28</td>\n",
       "      <td>2025-02-19</td>\n",
       "      <td>Evolución de la demanda</td>\n",
       "      <td>nacional</td>\n",
       "      <td>599087.640</td>\n",
       "      <td>1.0</td>\n",
       "      <td>2025-02-16</td>\n",
       "      <td>2025</td>\n",
       "      <td>2</td>\n",
       "      <td>16</td>\n",
       "      <td>domingo</td>\n",
       "      <td>2025021921058</td>\n",
       "    </tr>\n",
       "    <tr>\n",
       "      <th>3</th>\n",
       "      <td>Demanda</td>\n",
       "      <td>0</td>\n",
       "      <td>2025-01-28</td>\n",
       "      <td>2025-02-19</td>\n",
       "      <td>Evolución de la demanda</td>\n",
       "      <td>nacional</td>\n",
       "      <td>703417.661</td>\n",
       "      <td>1.0</td>\n",
       "      <td>2025-02-17</td>\n",
       "      <td>2025</td>\n",
       "      <td>2</td>\n",
       "      <td>17</td>\n",
       "      <td>lunes</td>\n",
       "      <td>2025021921059</td>\n",
       "    </tr>\n",
       "    <tr>\n",
       "      <th>4</th>\n",
       "      <td>Demanda</td>\n",
       "      <td>0</td>\n",
       "      <td>2025-01-28</td>\n",
       "      <td>2025-02-19</td>\n",
       "      <td>Evolución de la demanda</td>\n",
       "      <td>nacional</td>\n",
       "      <td>729142.540</td>\n",
       "      <td>1.0</td>\n",
       "      <td>2025-02-18</td>\n",
       "      <td>2025</td>\n",
       "      <td>2</td>\n",
       "      <td>18</td>\n",
       "      <td>martes</td>\n",
       "      <td>2025021921060</td>\n",
       "    </tr>\n",
       "  </tbody>\n",
       "</table>\n",
       "</div>"
      ],
      "text/plain": [
       "    titulo  composite ultima_actualizacion fecha_extraccion  \\\n",
       "0  Demanda          0           2025-01-28       2025-02-19   \n",
       "1  Demanda          0           2025-01-28       2025-02-19   \n",
       "2  Demanda          0           2025-01-28       2025-02-19   \n",
       "3  Demanda          0           2025-01-28       2025-02-19   \n",
       "4  Demanda          0           2025-01-28       2025-02-19   \n",
       "\n",
       "                 categoria      zona       valor  porcentaje       fecha  \\\n",
       "0  Evolución de la demanda  nacional  716773.125         1.0  2025-02-14   \n",
       "1  Evolución de la demanda  nacional  651705.219         1.0  2025-02-15   \n",
       "2  Evolución de la demanda  nacional  599087.640         1.0  2025-02-16   \n",
       "3  Evolución de la demanda  nacional  703417.661         1.0  2025-02-17   \n",
       "4  Evolución de la demanda  nacional  729142.540         1.0  2025-02-18   \n",
       "\n",
       "    año  mes  dia dia_semana             ID  \n",
       "0  2025    2   14    viernes  2025021921056  \n",
       "1  2025    2   15     sábado  2025021921057  \n",
       "2  2025    2   16    domingo  2025021921058  \n",
       "3  2025    2   17      lunes  2025021921059  \n",
       "4  2025    2   18     martes  2025021921060  "
      ]
     },
     "execution_count": 6,
     "metadata": {},
     "output_type": "execute_result"
    }
   ],
   "source": [
    "today = datetime.now()\n",
    "delta = timedelta(days=7)\n",
    "start_date = (today - delta).strftime(\"%Y-%m-%dT%H:%M\")\n",
    "end_date = today.strftime(\"%Y-%m-%d\")\n",
    "\n",
    "df_demanda_filtered = df_demanda[(start_date <= df_demanda['fecha']) & (df_demanda['fecha']<= end_date)].reset_index(drop=True)\n",
    "df_demanda_filtered.head()"
   ]
  },
  {
   "cell_type": "markdown",
   "metadata": {},
   "source": [
    "### Intercambios"
   ]
  },
  {
   "cell_type": "code",
   "execution_count": 7,
   "metadata": {},
   "outputs": [
    {
     "data": {
      "text/html": [
       "<div>\n",
       "<style scoped>\n",
       "    .dataframe tbody tr th:only-of-type {\n",
       "        vertical-align: middle;\n",
       "    }\n",
       "\n",
       "    .dataframe tbody tr th {\n",
       "        vertical-align: top;\n",
       "    }\n",
       "\n",
       "    .dataframe thead th {\n",
       "        text-align: right;\n",
       "    }\n",
       "</style>\n",
       "<table border=\"1\" class=\"dataframe\">\n",
       "  <thead>\n",
       "    <tr style=\"text-align: right;\">\n",
       "      <th></th>\n",
       "      <th>titulo</th>\n",
       "      <th>tipo</th>\n",
       "      <th>composite</th>\n",
       "      <th>ultima_actualizacion</th>\n",
       "      <th>fecha_extraccion</th>\n",
       "      <th>categoria</th>\n",
       "      <th>frontera</th>\n",
       "      <th>zona</th>\n",
       "      <th>valor</th>\n",
       "      <th>porcentaje</th>\n",
       "      <th>fecha</th>\n",
       "      <th>año</th>\n",
       "      <th>mes</th>\n",
       "      <th>dia</th>\n",
       "      <th>dia_semana</th>\n",
       "      <th>ID</th>\n",
       "    </tr>\n",
       "  </thead>\n",
       "  <tbody>\n",
       "    <tr>\n",
       "      <th>0</th>\n",
       "      <td>Exportación</td>\n",
       "      <td>export</td>\n",
       "      <td>0</td>\n",
       "      <td>2020-02-10</td>\n",
       "      <td>2025-02-19</td>\n",
       "      <td>Intercambios por frontera con Francia</td>\n",
       "      <td>Francia</td>\n",
       "      <td>nacional</td>\n",
       "      <td>-14842.623</td>\n",
       "      <td>0.531824</td>\n",
       "      <td>2020-01-01</td>\n",
       "      <td>2020</td>\n",
       "      <td>1</td>\n",
       "      <td>1</td>\n",
       "      <td>miércoles</td>\n",
       "      <td>202502190</td>\n",
       "    </tr>\n",
       "    <tr>\n",
       "      <th>1</th>\n",
       "      <td>Exportación</td>\n",
       "      <td>export</td>\n",
       "      <td>0</td>\n",
       "      <td>2020-02-10</td>\n",
       "      <td>2025-02-19</td>\n",
       "      <td>Intercambios por frontera con Francia</td>\n",
       "      <td>Francia</td>\n",
       "      <td>nacional</td>\n",
       "      <td>-16391.633</td>\n",
       "      <td>0.431717</td>\n",
       "      <td>2020-01-02</td>\n",
       "      <td>2020</td>\n",
       "      <td>1</td>\n",
       "      <td>2</td>\n",
       "      <td>jueves</td>\n",
       "      <td>202502191</td>\n",
       "    </tr>\n",
       "    <tr>\n",
       "      <th>2</th>\n",
       "      <td>Exportación</td>\n",
       "      <td>export</td>\n",
       "      <td>0</td>\n",
       "      <td>2020-02-10</td>\n",
       "      <td>2025-02-19</td>\n",
       "      <td>Intercambios por frontera con Francia</td>\n",
       "      <td>Francia</td>\n",
       "      <td>nacional</td>\n",
       "      <td>-1145.251</td>\n",
       "      <td>0.014396</td>\n",
       "      <td>2020-01-03</td>\n",
       "      <td>2020</td>\n",
       "      <td>1</td>\n",
       "      <td>3</td>\n",
       "      <td>viernes</td>\n",
       "      <td>202502192</td>\n",
       "    </tr>\n",
       "    <tr>\n",
       "      <th>3</th>\n",
       "      <td>Exportación</td>\n",
       "      <td>export</td>\n",
       "      <td>0</td>\n",
       "      <td>2020-02-10</td>\n",
       "      <td>2025-02-19</td>\n",
       "      <td>Intercambios por frontera con Francia</td>\n",
       "      <td>Francia</td>\n",
       "      <td>nacional</td>\n",
       "      <td>-2592.757</td>\n",
       "      <td>0.036120</td>\n",
       "      <td>2020-01-04</td>\n",
       "      <td>2020</td>\n",
       "      <td>1</td>\n",
       "      <td>4</td>\n",
       "      <td>sábado</td>\n",
       "      <td>202502193</td>\n",
       "    </tr>\n",
       "    <tr>\n",
       "      <th>4</th>\n",
       "      <td>Exportación</td>\n",
       "      <td>export</td>\n",
       "      <td>0</td>\n",
       "      <td>2020-02-10</td>\n",
       "      <td>2025-02-19</td>\n",
       "      <td>Intercambios por frontera con Francia</td>\n",
       "      <td>Francia</td>\n",
       "      <td>nacional</td>\n",
       "      <td>-1980.281</td>\n",
       "      <td>0.031696</td>\n",
       "      <td>2020-01-05</td>\n",
       "      <td>2020</td>\n",
       "      <td>1</td>\n",
       "      <td>5</td>\n",
       "      <td>domingo</td>\n",
       "      <td>202502194</td>\n",
       "    </tr>\n",
       "  </tbody>\n",
       "</table>\n",
       "</div>"
      ],
      "text/plain": [
       "        titulo    tipo  composite ultima_actualizacion fecha_extraccion  \\\n",
       "0  Exportación  export          0           2020-02-10       2025-02-19   \n",
       "1  Exportación  export          0           2020-02-10       2025-02-19   \n",
       "2  Exportación  export          0           2020-02-10       2025-02-19   \n",
       "3  Exportación  export          0           2020-02-10       2025-02-19   \n",
       "4  Exportación  export          0           2020-02-10       2025-02-19   \n",
       "\n",
       "                               categoria frontera      zona      valor  \\\n",
       "0  Intercambios por frontera con Francia  Francia  nacional -14842.623   \n",
       "1  Intercambios por frontera con Francia  Francia  nacional -16391.633   \n",
       "2  Intercambios por frontera con Francia  Francia  nacional  -1145.251   \n",
       "3  Intercambios por frontera con Francia  Francia  nacional  -2592.757   \n",
       "4  Intercambios por frontera con Francia  Francia  nacional  -1980.281   \n",
       "\n",
       "   porcentaje       fecha   año  mes  dia dia_semana         ID  \n",
       "0    0.531824  2020-01-01  2020    1    1  miércoles  202502190  \n",
       "1    0.431717  2020-01-02  2020    1    2     jueves  202502191  \n",
       "2    0.014396  2020-01-03  2020    1    3    viernes  202502192  \n",
       "3    0.036120  2020-01-04  2020    1    4     sábado  202502193  \n",
       "4    0.031696  2020-01-05  2020    1    5    domingo  202502194  "
      ]
     },
     "execution_count": 7,
     "metadata": {},
     "output_type": "execute_result"
    }
   ],
   "source": [
    "df_intercambios.head()\n"
   ]
  },
  {
   "cell_type": "code",
   "execution_count": 8,
   "metadata": {},
   "outputs": [
    {
     "data": {
      "text/plain": [
       "array(['Francia', 'Portugal', 'Marruecos', 'Andorra',\n",
       "       'Enlace Península-Baleares'], dtype=object)"
      ]
     },
     "execution_count": 8,
     "metadata": {},
     "output_type": "execute_result"
    }
   ],
   "source": [
    "df_intercambios['frontera'].unique()"
   ]
  },
  {
   "cell_type": "code",
   "execution_count": 9,
   "metadata": {},
   "outputs": [
    {
     "name": "stdout",
     "output_type": "stream",
     "text": [
      "2025-02-19 00:00:00\n",
      "7 days, 0:00:00\n",
      "2025-02-12\n",
      "2025-02-19\n"
     ]
    }
   ],
   "source": [
    "today = datetime.strptime(df_intercambios['fecha'].max(), \"%Y-%m-%d\")\n",
    "print(today)\n",
    "delta = timedelta(days=7)\n",
    "print(delta)\n",
    "start_date = (today - delta).strftime(\"%Y-%m-%d\")\n",
    "end_date = today.strftime(\"%Y-%m-%d\")\n",
    "\n",
    "print(start_date)\n",
    "print(end_date)"
   ]
  },
  {
   "cell_type": "code",
   "execution_count": 61,
   "metadata": {},
   "outputs": [
    {
     "data": {
      "text/html": [
       "<div>\n",
       "<style scoped>\n",
       "    .dataframe tbody tr th:only-of-type {\n",
       "        vertical-align: middle;\n",
       "    }\n",
       "\n",
       "    .dataframe tbody tr th {\n",
       "        vertical-align: top;\n",
       "    }\n",
       "\n",
       "    .dataframe thead th {\n",
       "        text-align: right;\n",
       "    }\n",
       "</style>\n",
       "<table border=\"1\" class=\"dataframe\">\n",
       "  <thead>\n",
       "    <tr style=\"text-align: right;\">\n",
       "      <th></th>\n",
       "      <th>frontera</th>\n",
       "      <th>tipo</th>\n",
       "      <th>valor</th>\n",
       "    </tr>\n",
       "  </thead>\n",
       "  <tbody>\n",
       "    <tr>\n",
       "      <th>0</th>\n",
       "      <td>Andorra</td>\n",
       "      <td>export</td>\n",
       "      <td>-11468.720</td>\n",
       "    </tr>\n",
       "    <tr>\n",
       "      <th>1</th>\n",
       "      <td>Andorra</td>\n",
       "      <td>import</td>\n",
       "      <td>0.000</td>\n",
       "    </tr>\n",
       "    <tr>\n",
       "      <th>2</th>\n",
       "      <td>Enlace Península-Baleares</td>\n",
       "      <td>export</td>\n",
       "      <td>-203545.482</td>\n",
       "    </tr>\n",
       "    <tr>\n",
       "      <th>3</th>\n",
       "      <td>Enlace Península-Baleares</td>\n",
       "      <td>import</td>\n",
       "      <td>-1.400</td>\n",
       "    </tr>\n",
       "    <tr>\n",
       "      <th>4</th>\n",
       "      <td>Francia</td>\n",
       "      <td>export</td>\n",
       "      <td>-480818.161</td>\n",
       "    </tr>\n",
       "    <tr>\n",
       "      <th>5</th>\n",
       "      <td>Francia</td>\n",
       "      <td>import</td>\n",
       "      <td>234806.459</td>\n",
       "    </tr>\n",
       "    <tr>\n",
       "      <th>6</th>\n",
       "      <td>Marruecos</td>\n",
       "      <td>export</td>\n",
       "      <td>-62437.392</td>\n",
       "    </tr>\n",
       "    <tr>\n",
       "      <th>7</th>\n",
       "      <td>Marruecos</td>\n",
       "      <td>import</td>\n",
       "      <td>11325.528</td>\n",
       "    </tr>\n",
       "    <tr>\n",
       "      <th>8</th>\n",
       "      <td>Portugal</td>\n",
       "      <td>export</td>\n",
       "      <td>-206799.985</td>\n",
       "    </tr>\n",
       "    <tr>\n",
       "      <th>9</th>\n",
       "      <td>Portugal</td>\n",
       "      <td>import</td>\n",
       "      <td>324271.830</td>\n",
       "    </tr>\n",
       "  </tbody>\n",
       "</table>\n",
       "</div>"
      ],
      "text/plain": [
       "                    frontera    tipo       valor\n",
       "0                    Andorra  export  -11468.720\n",
       "1                    Andorra  import       0.000\n",
       "2  Enlace Península-Baleares  export -203545.482\n",
       "3  Enlace Península-Baleares  import      -1.400\n",
       "4                    Francia  export -480818.161\n",
       "5                    Francia  import  234806.459\n",
       "6                  Marruecos  export  -62437.392\n",
       "7                  Marruecos  import   11325.528\n",
       "8                   Portugal  export -206799.985\n",
       "9                   Portugal  import  324271.830"
      ]
     },
     "execution_count": 61,
     "metadata": {},
     "output_type": "execute_result"
    }
   ],
   "source": [
    "df_intercambios_filtrado_1 = p7_30_365_hist(df_intercambios, 30)[0]\n",
    "df_intercambios_filtrado_2 = df_intercambios_filtrado_1.groupby(['frontera','tipo'])['valor'].sum().reset_index()\n",
    "df_intercambios_filtrado_2"
   ]
  },
  {
   "cell_type": "code",
   "execution_count": 62,
   "metadata": {},
   "outputs": [],
   "source": [
    "exportacion_total = df_intercambios_filtrado_2.groupby('tipo').sum()['valor'].values[0]\n",
    "importacion_total = df_intercambios_filtrado_2.groupby('tipo').sum()['valor'].values[1]\n",
    "\n",
    "df_intercambios_filtrado_2.loc[len(df_intercambios_filtrado_2)] = ['Intercambios', 'export', exportacion_total]\n",
    "df_intercambios_filtrado_2.loc[len(df_intercambios_filtrado_2)] = ['Intercambios', 'import', importacion_total]"
   ]
  },
  {
   "cell_type": "code",
   "execution_count": 63,
   "metadata": {},
   "outputs": [
    {
     "data": {
      "text/html": [
       "<div>\n",
       "<style scoped>\n",
       "    .dataframe tbody tr th:only-of-type {\n",
       "        vertical-align: middle;\n",
       "    }\n",
       "\n",
       "    .dataframe tbody tr th {\n",
       "        vertical-align: top;\n",
       "    }\n",
       "\n",
       "    .dataframe thead th {\n",
       "        text-align: right;\n",
       "    }\n",
       "</style>\n",
       "<table border=\"1\" class=\"dataframe\">\n",
       "  <thead>\n",
       "    <tr style=\"text-align: right;\">\n",
       "      <th></th>\n",
       "      <th>frontera</th>\n",
       "      <th>tipo</th>\n",
       "      <th>valor</th>\n",
       "    </tr>\n",
       "  </thead>\n",
       "  <tbody>\n",
       "    <tr>\n",
       "      <th>0</th>\n",
       "      <td>Andorra</td>\n",
       "      <td>export</td>\n",
       "      <td>-11468.720</td>\n",
       "    </tr>\n",
       "    <tr>\n",
       "      <th>1</th>\n",
       "      <td>Andorra</td>\n",
       "      <td>import</td>\n",
       "      <td>0.000</td>\n",
       "    </tr>\n",
       "    <tr>\n",
       "      <th>2</th>\n",
       "      <td>Enlace Península-Baleares</td>\n",
       "      <td>export</td>\n",
       "      <td>-203545.482</td>\n",
       "    </tr>\n",
       "    <tr>\n",
       "      <th>3</th>\n",
       "      <td>Enlace Península-Baleares</td>\n",
       "      <td>import</td>\n",
       "      <td>-1.400</td>\n",
       "    </tr>\n",
       "    <tr>\n",
       "      <th>4</th>\n",
       "      <td>Francia</td>\n",
       "      <td>export</td>\n",
       "      <td>-480818.161</td>\n",
       "    </tr>\n",
       "    <tr>\n",
       "      <th>5</th>\n",
       "      <td>Francia</td>\n",
       "      <td>import</td>\n",
       "      <td>234806.459</td>\n",
       "    </tr>\n",
       "    <tr>\n",
       "      <th>6</th>\n",
       "      <td>Marruecos</td>\n",
       "      <td>export</td>\n",
       "      <td>-62437.392</td>\n",
       "    </tr>\n",
       "    <tr>\n",
       "      <th>7</th>\n",
       "      <td>Marruecos</td>\n",
       "      <td>import</td>\n",
       "      <td>11325.528</td>\n",
       "    </tr>\n",
       "    <tr>\n",
       "      <th>8</th>\n",
       "      <td>Portugal</td>\n",
       "      <td>export</td>\n",
       "      <td>-206799.985</td>\n",
       "    </tr>\n",
       "    <tr>\n",
       "      <th>9</th>\n",
       "      <td>Portugal</td>\n",
       "      <td>import</td>\n",
       "      <td>324271.830</td>\n",
       "    </tr>\n",
       "    <tr>\n",
       "      <th>10</th>\n",
       "      <td>Intercambios</td>\n",
       "      <td>export</td>\n",
       "      <td>-965069.740</td>\n",
       "    </tr>\n",
       "    <tr>\n",
       "      <th>11</th>\n",
       "      <td>Intercambios</td>\n",
       "      <td>import</td>\n",
       "      <td>570402.417</td>\n",
       "    </tr>\n",
       "  </tbody>\n",
       "</table>\n",
       "</div>"
      ],
      "text/plain": [
       "                     frontera    tipo       valor\n",
       "0                     Andorra  export  -11468.720\n",
       "1                     Andorra  import       0.000\n",
       "2   Enlace Península-Baleares  export -203545.482\n",
       "3   Enlace Península-Baleares  import      -1.400\n",
       "4                     Francia  export -480818.161\n",
       "5                     Francia  import  234806.459\n",
       "6                   Marruecos  export  -62437.392\n",
       "7                   Marruecos  import   11325.528\n",
       "8                    Portugal  export -206799.985\n",
       "9                    Portugal  import  324271.830\n",
       "10               Intercambios  export -965069.740\n",
       "11               Intercambios  import  570402.417"
      ]
     },
     "execution_count": 63,
     "metadata": {},
     "output_type": "execute_result"
    }
   ],
   "source": [
    "df_intercambios_filtrado_2"
   ]
  },
  {
   "cell_type": "code",
   "execution_count": null,
   "metadata": {},
   "outputs": [
    {
     "data": {
      "text/html": [
       "<div>\n",
       "<style scoped>\n",
       "    .dataframe tbody tr th:only-of-type {\n",
       "        vertical-align: middle;\n",
       "    }\n",
       "\n",
       "    .dataframe tbody tr th {\n",
       "        vertical-align: top;\n",
       "    }\n",
       "\n",
       "    .dataframe thead th {\n",
       "        text-align: right;\n",
       "    }\n",
       "</style>\n",
       "<table border=\"1\" class=\"dataframe\">\n",
       "  <thead>\n",
       "    <tr style=\"text-align: right;\">\n",
       "      <th></th>\n",
       "      <th>frontera</th>\n",
       "      <th>tipo</th>\n",
       "      <th>valor</th>\n",
       "    </tr>\n",
       "  </thead>\n",
       "  <tbody>\n",
       "    <tr>\n",
       "      <th>0</th>\n",
       "      <td>Andorra</td>\n",
       "      <td>export</td>\n",
       "      <td>-11468.720</td>\n",
       "    </tr>\n",
       "    <tr>\n",
       "      <th>1</th>\n",
       "      <td>Andorra</td>\n",
       "      <td>import</td>\n",
       "      <td>0.000</td>\n",
       "    </tr>\n",
       "    <tr>\n",
       "      <th>2</th>\n",
       "      <td>Enlace Península-Baleares</td>\n",
       "      <td>export</td>\n",
       "      <td>-203545.482</td>\n",
       "    </tr>\n",
       "    <tr>\n",
       "      <th>3</th>\n",
       "      <td>Enlace Península-Baleares</td>\n",
       "      <td>import</td>\n",
       "      <td>-1.400</td>\n",
       "    </tr>\n",
       "    <tr>\n",
       "      <th>4</th>\n",
       "      <td>Francia</td>\n",
       "      <td>export</td>\n",
       "      <td>-480818.161</td>\n",
       "    </tr>\n",
       "    <tr>\n",
       "      <th>5</th>\n",
       "      <td>Francia</td>\n",
       "      <td>import</td>\n",
       "      <td>234806.459</td>\n",
       "    </tr>\n",
       "    <tr>\n",
       "      <th>6</th>\n",
       "      <td>Marruecos</td>\n",
       "      <td>export</td>\n",
       "      <td>-62437.392</td>\n",
       "    </tr>\n",
       "    <tr>\n",
       "      <th>7</th>\n",
       "      <td>Marruecos</td>\n",
       "      <td>import</td>\n",
       "      <td>11325.528</td>\n",
       "    </tr>\n",
       "    <tr>\n",
       "      <th>8</th>\n",
       "      <td>Portugal</td>\n",
       "      <td>export</td>\n",
       "      <td>-206799.985</td>\n",
       "    </tr>\n",
       "    <tr>\n",
       "      <th>9</th>\n",
       "      <td>Portugal</td>\n",
       "      <td>import</td>\n",
       "      <td>324271.830</td>\n",
       "    </tr>\n",
       "    <tr>\n",
       "      <th>10</th>\n",
       "      <td>Intercambios</td>\n",
       "      <td>export</td>\n",
       "      <td>-965069.740</td>\n",
       "    </tr>\n",
       "    <tr>\n",
       "      <th>11</th>\n",
       "      <td>Intercambios</td>\n",
       "      <td>import</td>\n",
       "      <td>570402.417</td>\n",
       "    </tr>\n",
       "    <tr>\n",
       "      <th>12</th>\n",
       "      <td>Andorra</td>\n",
       "      <td>saldo</td>\n",
       "      <td>-11468.720</td>\n",
       "    </tr>\n",
       "    <tr>\n",
       "      <th>13</th>\n",
       "      <td>Enlace Península-Baleares</td>\n",
       "      <td>saldo</td>\n",
       "      <td>-203546.882</td>\n",
       "    </tr>\n",
       "    <tr>\n",
       "      <th>14</th>\n",
       "      <td>Francia</td>\n",
       "      <td>saldo</td>\n",
       "      <td>-246011.702</td>\n",
       "    </tr>\n",
       "    <tr>\n",
       "      <th>15</th>\n",
       "      <td>Intercambios</td>\n",
       "      <td>saldo</td>\n",
       "      <td>-394667.323</td>\n",
       "    </tr>\n",
       "    <tr>\n",
       "      <th>16</th>\n",
       "      <td>Marruecos</td>\n",
       "      <td>saldo</td>\n",
       "      <td>-51111.864</td>\n",
       "    </tr>\n",
       "    <tr>\n",
       "      <th>17</th>\n",
       "      <td>Portugal</td>\n",
       "      <td>saldo</td>\n",
       "      <td>117471.845</td>\n",
       "    </tr>\n",
       "  </tbody>\n",
       "</table>\n",
       "</div>"
      ],
      "text/plain": [
       "                     frontera    tipo       valor\n",
       "0                     Andorra  export  -11468.720\n",
       "1                     Andorra  import       0.000\n",
       "2   Enlace Península-Baleares  export -203545.482\n",
       "3   Enlace Península-Baleares  import      -1.400\n",
       "4                     Francia  export -480818.161\n",
       "5                     Francia  import  234806.459\n",
       "6                   Marruecos  export  -62437.392\n",
       "7                   Marruecos  import   11325.528\n",
       "8                    Portugal  export -206799.985\n",
       "9                    Portugal  import  324271.830\n",
       "10               Intercambios  export -965069.740\n",
       "11               Intercambios  import  570402.417\n",
       "12                    Andorra   saldo  -11468.720\n",
       "13  Enlace Península-Baleares   saldo -203546.882\n",
       "14                    Francia   saldo -246011.702\n",
       "15               Intercambios   saldo -394667.323\n",
       "16                  Marruecos   saldo  -51111.864\n",
       "17                   Portugal   saldo  117471.845"
      ]
     },
     "execution_count": 73,
     "metadata": {},
     "output_type": "execute_result"
    }
   ],
   "source": [
    "df_saldo = df_intercambios_filtrado_2.groupby('frontera').sum().reset_index()\n",
    "df_saldo['tipo'] = df_saldo['tipo'].apply(lambda x: 'saldo')\n",
    "df_saldo = pd.concat([df_intercambios_filtrado_2, df_saldo]).reset_index(drop=True)\n",
    "df_saldo = df_saldo[df_saldo['frontera'].isin(coord_paises)]"
   ]
  },
  {
   "cell_type": "code",
   "execution_count": 74,
   "metadata": {},
   "outputs": [],
   "source": [
    "coord_paises = {\n",
    "                    \"frontera\": [\"Intercambios\", \"Portugal\", \"Francia\", \"Andorra\", \"Marruecos\"],\n",
    "                    \"latitud\": [40.4168, 38.7169, 45.83362, 42.5078, 33.2514],\n",
    "                    \"longitud\": [-3.7038, -9.1399, 1.24759, 1.5211, -5.372]\n",
    "                }\n",
    "\n",
    "df_coord = pd.DataFrame(coord_paises)\n",
    "# df_intercambio_red = df_intercambios[['tipo', 'frontera', 'zona', 'valor', 'porcentaje', 'datetime']]\n",
    "# df_intercambio_red = df_intercambio_red[df_intercambio_red['zona'] == 'nacional']\n",
    "# df_intercambio_red['datetime'] = pd.to_datetime(df_intercambio_red['datetime'], utc=True)\n",
    "# df_intercambio_total = df_intercambio_red.groupby(['frontera','type'])['value'].sum().reset_index()#.sort_values(by='value', ascending=False).reset_index(drop=True)\n",
    "# df_intercambios_tot_coord = df_intercambio_total[df_intercambio_total['type'] == 'saldo'].reset_index(drop=True)\n",
    "# df_intercambios_tot_coord = df_intercambios_tot_coord.merge(df_coord, on='frontera', how='left')\n",
    "# df_intercambios_tot_coord"
   ]
  },
  {
   "cell_type": "code",
   "execution_count": null,
   "metadata": {},
   "outputs": [
    {
     "data": {
      "text/html": [
       "<div>\n",
       "<style scoped>\n",
       "    .dataframe tbody tr th:only-of-type {\n",
       "        vertical-align: middle;\n",
       "    }\n",
       "\n",
       "    .dataframe tbody tr th {\n",
       "        vertical-align: top;\n",
       "    }\n",
       "\n",
       "    .dataframe thead th {\n",
       "        text-align: right;\n",
       "    }\n",
       "</style>\n",
       "<table border=\"1\" class=\"dataframe\">\n",
       "  <thead>\n",
       "    <tr style=\"text-align: right;\">\n",
       "      <th></th>\n",
       "      <th>frontera</th>\n",
       "      <th>tipo</th>\n",
       "      <th>valor</th>\n",
       "      <th>latitud</th>\n",
       "      <th>longitud</th>\n",
       "    </tr>\n",
       "  </thead>\n",
       "  <tbody>\n",
       "    <tr>\n",
       "      <th>0</th>\n",
       "      <td>Andorra</td>\n",
       "      <td>saldo</td>\n",
       "      <td>-11468.720</td>\n",
       "      <td>42.50780</td>\n",
       "      <td>1.52110</td>\n",
       "    </tr>\n",
       "    <tr>\n",
       "      <th>1</th>\n",
       "      <td>Andorra</td>\n",
       "      <td>saldo</td>\n",
       "      <td>0.000</td>\n",
       "      <td>42.50780</td>\n",
       "      <td>1.52110</td>\n",
       "    </tr>\n",
       "    <tr>\n",
       "      <th>2</th>\n",
       "      <td>Enlace Península-Baleares</td>\n",
       "      <td>saldo</td>\n",
       "      <td>-203545.482</td>\n",
       "      <td>NaN</td>\n",
       "      <td>NaN</td>\n",
       "    </tr>\n",
       "    <tr>\n",
       "      <th>3</th>\n",
       "      <td>Enlace Península-Baleares</td>\n",
       "      <td>saldo</td>\n",
       "      <td>-1.400</td>\n",
       "      <td>NaN</td>\n",
       "      <td>NaN</td>\n",
       "    </tr>\n",
       "    <tr>\n",
       "      <th>4</th>\n",
       "      <td>Francia</td>\n",
       "      <td>saldo</td>\n",
       "      <td>-480818.161</td>\n",
       "      <td>45.83362</td>\n",
       "      <td>1.24759</td>\n",
       "    </tr>\n",
       "    <tr>\n",
       "      <th>5</th>\n",
       "      <td>Francia</td>\n",
       "      <td>saldo</td>\n",
       "      <td>234806.459</td>\n",
       "      <td>45.83362</td>\n",
       "      <td>1.24759</td>\n",
       "    </tr>\n",
       "    <tr>\n",
       "      <th>6</th>\n",
       "      <td>Marruecos</td>\n",
       "      <td>saldo</td>\n",
       "      <td>-62437.392</td>\n",
       "      <td>33.25140</td>\n",
       "      <td>-5.37200</td>\n",
       "    </tr>\n",
       "    <tr>\n",
       "      <th>7</th>\n",
       "      <td>Marruecos</td>\n",
       "      <td>saldo</td>\n",
       "      <td>11325.528</td>\n",
       "      <td>33.25140</td>\n",
       "      <td>-5.37200</td>\n",
       "    </tr>\n",
       "    <tr>\n",
       "      <th>8</th>\n",
       "      <td>Portugal</td>\n",
       "      <td>saldo</td>\n",
       "      <td>-206799.985</td>\n",
       "      <td>38.71690</td>\n",
       "      <td>-9.13990</td>\n",
       "    </tr>\n",
       "    <tr>\n",
       "      <th>9</th>\n",
       "      <td>Portugal</td>\n",
       "      <td>saldo</td>\n",
       "      <td>324271.830</td>\n",
       "      <td>38.71690</td>\n",
       "      <td>-9.13990</td>\n",
       "    </tr>\n",
       "    <tr>\n",
       "      <th>10</th>\n",
       "      <td>Intercambios</td>\n",
       "      <td>saldo</td>\n",
       "      <td>-965069.740</td>\n",
       "      <td>40.41680</td>\n",
       "      <td>-3.70380</td>\n",
       "    </tr>\n",
       "    <tr>\n",
       "      <th>11</th>\n",
       "      <td>Intercambios</td>\n",
       "      <td>saldo</td>\n",
       "      <td>570402.417</td>\n",
       "      <td>40.41680</td>\n",
       "      <td>-3.70380</td>\n",
       "    </tr>\n",
       "    <tr>\n",
       "      <th>12</th>\n",
       "      <td>Andorra</td>\n",
       "      <td>saldo</td>\n",
       "      <td>-11468.720</td>\n",
       "      <td>42.50780</td>\n",
       "      <td>1.52110</td>\n",
       "    </tr>\n",
       "    <tr>\n",
       "      <th>13</th>\n",
       "      <td>Enlace Península-Baleares</td>\n",
       "      <td>saldo</td>\n",
       "      <td>-203546.882</td>\n",
       "      <td>NaN</td>\n",
       "      <td>NaN</td>\n",
       "    </tr>\n",
       "    <tr>\n",
       "      <th>14</th>\n",
       "      <td>Francia</td>\n",
       "      <td>saldo</td>\n",
       "      <td>-246011.702</td>\n",
       "      <td>45.83362</td>\n",
       "      <td>1.24759</td>\n",
       "    </tr>\n",
       "    <tr>\n",
       "      <th>15</th>\n",
       "      <td>Intercambios</td>\n",
       "      <td>saldo</td>\n",
       "      <td>-394667.323</td>\n",
       "      <td>40.41680</td>\n",
       "      <td>-3.70380</td>\n",
       "    </tr>\n",
       "    <tr>\n",
       "      <th>16</th>\n",
       "      <td>Marruecos</td>\n",
       "      <td>saldo</td>\n",
       "      <td>-51111.864</td>\n",
       "      <td>33.25140</td>\n",
       "      <td>-5.37200</td>\n",
       "    </tr>\n",
       "    <tr>\n",
       "      <th>17</th>\n",
       "      <td>Portugal</td>\n",
       "      <td>saldo</td>\n",
       "      <td>117471.845</td>\n",
       "      <td>38.71690</td>\n",
       "      <td>-9.13990</td>\n",
       "    </tr>\n",
       "  </tbody>\n",
       "</table>\n",
       "</div>"
      ],
      "text/plain": [
       "                     frontera   tipo       valor   latitud  longitud\n",
       "0                     Andorra  saldo  -11468.720  42.50780   1.52110\n",
       "1                     Andorra  saldo       0.000  42.50780   1.52110\n",
       "2   Enlace Península-Baleares  saldo -203545.482       NaN       NaN\n",
       "3   Enlace Península-Baleares  saldo      -1.400       NaN       NaN\n",
       "4                     Francia  saldo -480818.161  45.83362   1.24759\n",
       "5                     Francia  saldo  234806.459  45.83362   1.24759\n",
       "6                   Marruecos  saldo  -62437.392  33.25140  -5.37200\n",
       "7                   Marruecos  saldo   11325.528  33.25140  -5.37200\n",
       "8                    Portugal  saldo -206799.985  38.71690  -9.13990\n",
       "9                    Portugal  saldo  324271.830  38.71690  -9.13990\n",
       "10               Intercambios  saldo -965069.740  40.41680  -3.70380\n",
       "11               Intercambios  saldo  570402.417  40.41680  -3.70380\n",
       "12                    Andorra  saldo  -11468.720  42.50780   1.52110\n",
       "13  Enlace Península-Baleares  saldo -203546.882       NaN       NaN\n",
       "14                    Francia  saldo -246011.702  45.83362   1.24759\n",
       "15               Intercambios  saldo -394667.323  40.41680  -3.70380\n",
       "16                  Marruecos  saldo  -51111.864  33.25140  -5.37200\n",
       "17                   Portugal  saldo  117471.845  38.71690  -9.13990"
      ]
     },
     "execution_count": 71,
     "metadata": {},
     "output_type": "execute_result"
    }
   ],
   "source": [
    "df_saldo = df_intercambio_total.groupby('frontera').sum().reset_index()\n",
    "df_saldo['tipo'] = df_saldo['tipo'].apply(lambda x: 'saldo')\n",
    "df_saldo = pd.concat([df_intercambio_total, df_saldo])\n",
    "df_saldo = df_saldo.merge(df_coord, on='frontera', how='left')\n",
    "df_saldo"
   ]
  },
  {
   "cell_type": "code",
   "execution_count": 66,
   "metadata": {},
   "outputs": [
    {
     "name": "stdout",
     "output_type": "stream",
     "text": [
      "Intercambios\n",
      "Series([], Name: valor, dtype: float64)\n",
      "Portugal\n",
      "6   -206.799985\n",
      "Name: valor, dtype: float64\n",
      "Francia\n",
      "2   -480.818161\n",
      "Name: valor, dtype: float64\n",
      "Andorra\n",
      "0   -11.46872\n",
      "Name: valor, dtype: float64\n",
      "Marruecos\n",
      "4   -62.437392\n",
      "Name: valor, dtype: float64\n"
     ]
    },
    {
     "data": {
      "text/html": [
       "<div style=\"width:100%;\"><div style=\"position:relative;width:100%;height:0;padding-bottom:60%;\"><span style=\"color:#565656\">Make this Notebook Trusted to load map: File -> Trust Notebook</span><iframe srcdoc=\"&lt;!DOCTYPE html&gt;\n",
       "&lt;html&gt;\n",
       "&lt;head&gt;\n",
       "    \n",
       "    &lt;meta http-equiv=&quot;content-type&quot; content=&quot;text/html; charset=UTF-8&quot; /&gt;\n",
       "    \n",
       "        &lt;script&gt;\n",
       "            L_NO_TOUCH = false;\n",
       "            L_DISABLE_3D = false;\n",
       "        &lt;/script&gt;\n",
       "    \n",
       "    &lt;style&gt;html, body {width: 100%;height: 100%;margin: 0;padding: 0;}&lt;/style&gt;\n",
       "    &lt;style&gt;#map {position:absolute;top:0;bottom:0;right:0;left:0;}&lt;/style&gt;\n",
       "    &lt;script src=&quot;https://cdn.jsdelivr.net/npm/leaflet@1.9.3/dist/leaflet.js&quot;&gt;&lt;/script&gt;\n",
       "    &lt;script src=&quot;https://code.jquery.com/jquery-3.7.1.min.js&quot;&gt;&lt;/script&gt;\n",
       "    &lt;script src=&quot;https://cdn.jsdelivr.net/npm/bootstrap@5.2.2/dist/js/bootstrap.bundle.min.js&quot;&gt;&lt;/script&gt;\n",
       "    &lt;script src=&quot;https://cdnjs.cloudflare.com/ajax/libs/Leaflet.awesome-markers/2.0.2/leaflet.awesome-markers.js&quot;&gt;&lt;/script&gt;\n",
       "    &lt;link rel=&quot;stylesheet&quot; href=&quot;https://cdn.jsdelivr.net/npm/leaflet@1.9.3/dist/leaflet.css&quot;/&gt;\n",
       "    &lt;link rel=&quot;stylesheet&quot; href=&quot;https://cdn.jsdelivr.net/npm/bootstrap@5.2.2/dist/css/bootstrap.min.css&quot;/&gt;\n",
       "    &lt;link rel=&quot;stylesheet&quot; href=&quot;https://netdna.bootstrapcdn.com/bootstrap/3.0.0/css/bootstrap-glyphicons.css&quot;/&gt;\n",
       "    &lt;link rel=&quot;stylesheet&quot; href=&quot;https://cdn.jsdelivr.net/npm/@fortawesome/fontawesome-free@6.2.0/css/all.min.css&quot;/&gt;\n",
       "    &lt;link rel=&quot;stylesheet&quot; href=&quot;https://cdnjs.cloudflare.com/ajax/libs/Leaflet.awesome-markers/2.0.2/leaflet.awesome-markers.css&quot;/&gt;\n",
       "    &lt;link rel=&quot;stylesheet&quot; href=&quot;https://cdn.jsdelivr.net/gh/python-visualization/folium/folium/templates/leaflet.awesome.rotate.min.css&quot;/&gt;\n",
       "    \n",
       "            &lt;meta name=&quot;viewport&quot; content=&quot;width=device-width,\n",
       "                initial-scale=1.0, maximum-scale=1.0, user-scalable=no&quot; /&gt;\n",
       "            &lt;style&gt;\n",
       "                #map_d9794eb9b200affb2d045b49c7eb2430 {\n",
       "                    position: relative;\n",
       "                    width: 100.0%;\n",
       "                    height: 100.0%;\n",
       "                    left: 0.0%;\n",
       "                    top: 0.0%;\n",
       "                }\n",
       "                .leaflet-container { font-size: 1rem; }\n",
       "            &lt;/style&gt;\n",
       "        \n",
       "&lt;/head&gt;\n",
       "&lt;body&gt;\n",
       "    \n",
       "    \n",
       "            &lt;div class=&quot;folium-map&quot; id=&quot;map_d9794eb9b200affb2d045b49c7eb2430&quot; &gt;&lt;/div&gt;\n",
       "        \n",
       "&lt;/body&gt;\n",
       "&lt;script&gt;\n",
       "    \n",
       "    \n",
       "            var map_d9794eb9b200affb2d045b49c7eb2430 = L.map(\n",
       "                &quot;map_d9794eb9b200affb2d045b49c7eb2430&quot;,\n",
       "                {\n",
       "                    center: [40.4637, -3.7492],\n",
       "                    crs: L.CRS.EPSG3857,\n",
       "                    ...{\n",
       "  &quot;maxBounds&quot;: [\n",
       "[\n",
       "-90,\n",
       "-180,\n",
       "],\n",
       "[\n",
       "90,\n",
       "180,\n",
       "],\n",
       "],\n",
       "  &quot;zoom&quot;: 5,\n",
       "  &quot;zoomControl&quot;: true,\n",
       "  &quot;preferCanvas&quot;: false,\n",
       "}\n",
       "\n",
       "                }\n",
       "            );\n",
       "\n",
       "            \n",
       "\n",
       "        \n",
       "    \n",
       "            var tile_layer_f5f48177d2f0c95ec968c9c7b5e1d753 = L.tileLayer(\n",
       "                &quot;https://tile.openstreetmap.org/{z}/{x}/{y}.png&quot;,\n",
       "                {\n",
       "  &quot;minZoom&quot;: 5,\n",
       "  &quot;maxZoom&quot;: 7,\n",
       "  &quot;maxNativeZoom&quot;: 7,\n",
       "  &quot;noWrap&quot;: false,\n",
       "  &quot;attribution&quot;: &quot;\\u0026copy; \\u003ca href=\\&quot;https://www.openstreetmap.org/copyright\\&quot;\\u003eOpenStreetMap\\u003c/a\\u003e contributors&quot;,\n",
       "  &quot;subdomains&quot;: &quot;abc&quot;,\n",
       "  &quot;detectRetina&quot;: false,\n",
       "  &quot;tms&quot;: false,\n",
       "  &quot;opacity&quot;: 1,\n",
       "}\n",
       "\n",
       "            );\n",
       "        \n",
       "    \n",
       "            tile_layer_f5f48177d2f0c95ec968c9c7b5e1d753.addTo(map_d9794eb9b200affb2d045b49c7eb2430);\n",
       "        \n",
       "    \n",
       "            var marker_4745514863cffbef7fb858dd6fb2cd86 = L.marker(\n",
       "                [40.4168, -3.7038],\n",
       "                {\n",
       "}\n",
       "            ).addTo(map_d9794eb9b200affb2d045b49c7eb2430);\n",
       "        \n",
       "    \n",
       "            var icon_c754dba39b5da7b8b9666d931255d674 = L.AwesomeMarkers.icon(\n",
       "                {\n",
       "  &quot;markerColor&quot;: &quot;red&quot;,\n",
       "  &quot;iconColor&quot;: &quot;white&quot;,\n",
       "  &quot;icon&quot;: &quot;bolt&quot;,\n",
       "  &quot;prefix&quot;: &quot;fa&quot;,\n",
       "  &quot;extraClasses&quot;: &quot;fa-rotate-0&quot;,\n",
       "}\n",
       "            );\n",
       "            marker_4745514863cffbef7fb858dd6fb2cd86.setIcon(icon_c754dba39b5da7b8b9666d931255d674);\n",
       "        \n",
       "    \n",
       "        var popup_31dc57ad268bbcf2c996bdb85a81c43b = L.popup({\n",
       "  &quot;maxWidth&quot;: 300,\n",
       "});\n",
       "\n",
       "        \n",
       "            \n",
       "                var html_fa54ed643b6f9eff57ddc89ec1325a45 = $(`&lt;div id=&quot;html_fa54ed643b6f9eff57ddc89ec1325a45&quot; style=&quot;width: 100.0%; height: 100.0%;&quot;&gt;         &lt;div style=&quot;width: 250px; font-size: 14px;&quot;&gt;         &lt;b&gt;📍Intercambios&lt;/b&gt;&lt;br&gt;         📤 Exportado: Series([], Name: valor, dtype: float64) GWh&lt;br&gt;         📥 Importado: 8    1140.8 9     570.4 Name: valor, dtype: float64 GWh&lt;br&gt;         ⚖️ Saldo: 12    1711.2 Name: valor, dtype: float64 GWh         &lt;/div&gt;         &lt;/div&gt;`)[0];\n",
       "                popup_31dc57ad268bbcf2c996bdb85a81c43b.setContent(html_fa54ed643b6f9eff57ddc89ec1325a45);\n",
       "            \n",
       "        \n",
       "\n",
       "        marker_4745514863cffbef7fb858dd6fb2cd86.bindPopup(popup_31dc57ad268bbcf2c996bdb85a81c43b)\n",
       "        ;\n",
       "\n",
       "        \n",
       "    \n",
       "    \n",
       "            var marker_bd2c36f13ce140ebfe3ea0fad4b7f0a8 = L.marker(\n",
       "                [38.7169, -9.1399],\n",
       "                {\n",
       "}\n",
       "            ).addTo(map_d9794eb9b200affb2d045b49c7eb2430);\n",
       "        \n",
       "    \n",
       "            var icon_c8674f2cb8db117ecaf80f2a3265df5a = L.AwesomeMarkers.icon(\n",
       "                {\n",
       "  &quot;markerColor&quot;: &quot;red&quot;,\n",
       "  &quot;iconColor&quot;: &quot;white&quot;,\n",
       "  &quot;icon&quot;: &quot;bolt&quot;,\n",
       "  &quot;prefix&quot;: &quot;fa&quot;,\n",
       "  &quot;extraClasses&quot;: &quot;fa-rotate-0&quot;,\n",
       "}\n",
       "            );\n",
       "            marker_bd2c36f13ce140ebfe3ea0fad4b7f0a8.setIcon(icon_c8674f2cb8db117ecaf80f2a3265df5a);\n",
       "        \n",
       "    \n",
       "        var popup_21bbab4f7a250c60d73311942eedfb4a = L.popup({\n",
       "  &quot;maxWidth&quot;: 300,\n",
       "});\n",
       "\n",
       "        \n",
       "            \n",
       "                var html_ace18eab3a50bae6034559a4cb83169b = $(`&lt;div id=&quot;html_ace18eab3a50bae6034559a4cb83169b&quot; style=&quot;width: 100.0%; height: 100.0%;&quot;&gt;         &lt;div style=&quot;width: 250px; font-size: 14px;&quot;&gt;         &lt;b&gt;📍Portugal&lt;/b&gt;&lt;br&gt;         📤 Exportado: 6   -206.8 Name: valor, dtype: float64 GWh&lt;br&gt;         📥 Importado: 7    324.3 Name: valor, dtype: float64 GWh&lt;br&gt;         ⚖️ Saldo: 14    117.5 Name: valor, dtype: float64 GWh         &lt;/div&gt;         &lt;/div&gt;`)[0];\n",
       "                popup_21bbab4f7a250c60d73311942eedfb4a.setContent(html_ace18eab3a50bae6034559a4cb83169b);\n",
       "            \n",
       "        \n",
       "\n",
       "        marker_bd2c36f13ce140ebfe3ea0fad4b7f0a8.bindPopup(popup_21bbab4f7a250c60d73311942eedfb4a)\n",
       "        ;\n",
       "\n",
       "        \n",
       "    \n",
       "    \n",
       "            var marker_9f0ddc0996c14970cb865f738cbafae1 = L.marker(\n",
       "                [45.83362, 1.24759],\n",
       "                {\n",
       "}\n",
       "            ).addTo(map_d9794eb9b200affb2d045b49c7eb2430);\n",
       "        \n",
       "    \n",
       "            var icon_9ea6b8fb22935fb5f6e9b5a7793397a1 = L.AwesomeMarkers.icon(\n",
       "                {\n",
       "  &quot;markerColor&quot;: &quot;green&quot;,\n",
       "  &quot;iconColor&quot;: &quot;white&quot;,\n",
       "  &quot;icon&quot;: &quot;bolt&quot;,\n",
       "  &quot;prefix&quot;: &quot;fa&quot;,\n",
       "  &quot;extraClasses&quot;: &quot;fa-rotate-0&quot;,\n",
       "}\n",
       "            );\n",
       "            marker_9f0ddc0996c14970cb865f738cbafae1.setIcon(icon_9ea6b8fb22935fb5f6e9b5a7793397a1);\n",
       "        \n",
       "    \n",
       "        var popup_13c9cc8033b2a94edc7ae8fa761b9328 = L.popup({\n",
       "  &quot;maxWidth&quot;: 300,\n",
       "});\n",
       "\n",
       "        \n",
       "            \n",
       "                var html_dcf20d73795cc5a7630c43ddc91411ea = $(`&lt;div id=&quot;html_dcf20d73795cc5a7630c43ddc91411ea&quot; style=&quot;width: 100.0%; height: 100.0%;&quot;&gt;         &lt;div style=&quot;width: 250px; font-size: 14px;&quot;&gt;         &lt;b&gt;📍Francia&lt;/b&gt;&lt;br&gt;         📤 Exportado: 2   -480.8 Name: valor, dtype: float64 GWh&lt;br&gt;         📥 Importado: 3    234.8 Name: valor, dtype: float64 GWh&lt;br&gt;         ⚖️ Saldo: 11   -246.0 Name: valor, dtype: float64 GWh         &lt;/div&gt;         &lt;/div&gt;`)[0];\n",
       "                popup_13c9cc8033b2a94edc7ae8fa761b9328.setContent(html_dcf20d73795cc5a7630c43ddc91411ea);\n",
       "            \n",
       "        \n",
       "\n",
       "        marker_9f0ddc0996c14970cb865f738cbafae1.bindPopup(popup_13c9cc8033b2a94edc7ae8fa761b9328)\n",
       "        ;\n",
       "\n",
       "        \n",
       "    \n",
       "    \n",
       "            var marker_5be7cb12a9fe4a2d45b61efc5d6200cf = L.marker(\n",
       "                [42.5078, 1.5211],\n",
       "                {\n",
       "}\n",
       "            ).addTo(map_d9794eb9b200affb2d045b49c7eb2430);\n",
       "        \n",
       "    \n",
       "            var icon_1eef18a548af1e5ff0dd1f8621eb13d3 = L.AwesomeMarkers.icon(\n",
       "                {\n",
       "  &quot;markerColor&quot;: &quot;green&quot;,\n",
       "  &quot;iconColor&quot;: &quot;white&quot;,\n",
       "  &quot;icon&quot;: &quot;bolt&quot;,\n",
       "  &quot;prefix&quot;: &quot;fa&quot;,\n",
       "  &quot;extraClasses&quot;: &quot;fa-rotate-0&quot;,\n",
       "}\n",
       "            );\n",
       "            marker_5be7cb12a9fe4a2d45b61efc5d6200cf.setIcon(icon_1eef18a548af1e5ff0dd1f8621eb13d3);\n",
       "        \n",
       "    \n",
       "        var popup_ff1569e2f153655384d9464fd5878f4f = L.popup({\n",
       "  &quot;maxWidth&quot;: 300,\n",
       "});\n",
       "\n",
       "        \n",
       "            \n",
       "                var html_35c9b5a487a058104bda9f560468598c = $(`&lt;div id=&quot;html_35c9b5a487a058104bda9f560468598c&quot; style=&quot;width: 100.0%; height: 100.0%;&quot;&gt;         &lt;div style=&quot;width: 250px; font-size: 14px;&quot;&gt;         &lt;b&gt;📍Andorra&lt;/b&gt;&lt;br&gt;         📤 Exportado: 0   -11.5 Name: valor, dtype: float64 GWh&lt;br&gt;         📥 Importado: 1    0.0 Name: valor, dtype: float64 GWh&lt;br&gt;         ⚖️ Saldo: 10   -11.5 Name: valor, dtype: float64 GWh         &lt;/div&gt;         &lt;/div&gt;`)[0];\n",
       "                popup_ff1569e2f153655384d9464fd5878f4f.setContent(html_35c9b5a487a058104bda9f560468598c);\n",
       "            \n",
       "        \n",
       "\n",
       "        marker_5be7cb12a9fe4a2d45b61efc5d6200cf.bindPopup(popup_ff1569e2f153655384d9464fd5878f4f)\n",
       "        ;\n",
       "\n",
       "        \n",
       "    \n",
       "    \n",
       "            var marker_51d56f73d02031de1106af95aa24e9d3 = L.marker(\n",
       "                [33.2514, -5.372],\n",
       "                {\n",
       "}\n",
       "            ).addTo(map_d9794eb9b200affb2d045b49c7eb2430);\n",
       "        \n",
       "    \n",
       "            var icon_fd9212a9ad5da98e59daa467c18cd471 = L.AwesomeMarkers.icon(\n",
       "                {\n",
       "  &quot;markerColor&quot;: &quot;green&quot;,\n",
       "  &quot;iconColor&quot;: &quot;white&quot;,\n",
       "  &quot;icon&quot;: &quot;bolt&quot;,\n",
       "  &quot;prefix&quot;: &quot;fa&quot;,\n",
       "  &quot;extraClasses&quot;: &quot;fa-rotate-0&quot;,\n",
       "}\n",
       "            );\n",
       "            marker_51d56f73d02031de1106af95aa24e9d3.setIcon(icon_fd9212a9ad5da98e59daa467c18cd471);\n",
       "        \n",
       "    \n",
       "        var popup_df5b311d89992be0d136df1839b4ea51 = L.popup({\n",
       "  &quot;maxWidth&quot;: 300,\n",
       "});\n",
       "\n",
       "        \n",
       "            \n",
       "                var html_b4d5c2cbc2d0fa976710be3082bd9b78 = $(`&lt;div id=&quot;html_b4d5c2cbc2d0fa976710be3082bd9b78&quot; style=&quot;width: 100.0%; height: 100.0%;&quot;&gt;         &lt;div style=&quot;width: 250px; font-size: 14px;&quot;&gt;         &lt;b&gt;📍Marruecos&lt;/b&gt;&lt;br&gt;         📤 Exportado: 4   -62.4 Name: valor, dtype: float64 GWh&lt;br&gt;         📥 Importado: 5    11.3 Name: valor, dtype: float64 GWh&lt;br&gt;         ⚖️ Saldo: 13   -51.1 Name: valor, dtype: float64 GWh         &lt;/div&gt;         &lt;/div&gt;`)[0];\n",
       "                popup_df5b311d89992be0d136df1839b4ea51.setContent(html_b4d5c2cbc2d0fa976710be3082bd9b78);\n",
       "            \n",
       "        \n",
       "\n",
       "        marker_51d56f73d02031de1106af95aa24e9d3.bindPopup(popup_df5b311d89992be0d136df1839b4ea51)\n",
       "        ;\n",
       "\n",
       "        \n",
       "    \n",
       "&lt;/script&gt;\n",
       "&lt;/html&gt;\" style=\"position:absolute;width:100%;height:100%;left:0;top:0;border:none !important;\" allowfullscreen webkitallowfullscreen mozallowfullscreen></iframe></div></div>"
      ],
      "text/plain": [
       "<folium.folium.Map at 0x201ecd69c50>"
      ]
     },
     "execution_count": 66,
     "metadata": {},
     "output_type": "execute_result"
    }
   ],
   "source": [
    "spain_map = folium.Map(location=[40.4637, -3.7492], tiles=\"openstreetmap\", zoom_start=5, min_zoom=5, max_zoom=7, max_bounds=True)\n",
    "\n",
    "geo_json_path = \"./StreamlitApp_S1/world_countries.json\"\n",
    "# with open(geo_json_path, \"r\", encoding=\"utf-8\") as file:\n",
    "#     geo_json_data = json.load(file)\n",
    "\n",
    "for pais, lat, lon in zip(df_coord['frontera'], df_coord['latitud'], df_coord['longitud']):\n",
    "\n",
    "    print(pais)\n",
    "\n",
    "    exp = df_saldo[(df_saldo['tipo'] == 'export') & (df_saldo['frontera'] == pais)]['valor']* 0.001\n",
    "    imp = df_saldo[(df_saldo['tipo'] == 'import') & (df_saldo['frontera'] == pais)]['valor'] * 0.001\n",
    "    saldo = df_saldo[(df_saldo['tipo'] == 'saldo') & (df_saldo['frontera'] == pais)]['valor'] * 0.001\n",
    "    print(exp)\n",
    "\n",
    "    popup_html = f\"\"\"\n",
    "        <div style=\"width: 250px; font-size: 14px;\">\n",
    "        <b>📍{pais}</b><br>\n",
    "        📤 Exportado: {round(exp, 1)} GWh<br>\n",
    "        📥 Importado: {round(imp, 1)} GWh<br>\n",
    "        ⚖️ Saldo: {round(saldo, 1)} GWh\n",
    "        </div>\n",
    "        \"\"\"\n",
    "    popup = folium.Popup(popup_html, max_width=300)\n",
    "    if saldo.values[0] < 0:\n",
    "        color = 'green'\n",
    "    else:\n",
    "        color = 'red'\n",
    "\n",
    "    folium.Marker(\n",
    "        location=[lat, lon],\n",
    "        popup=popup,\n",
    "        icon=folium.Icon(color=color, icon=\"bolt\", prefix=\"fa\")\n",
    "        ).add_to(spain_map)\n",
    "\n",
    "spain_map"
   ]
  },
  {
   "cell_type": "code",
   "execution_count": 34,
   "metadata": {},
   "outputs": [
    {
     "ename": "IndexError",
     "evalue": "index 0 is out of bounds for axis 0 with size 0",
     "output_type": "error",
     "traceback": [
      "\u001b[1;31m---------------------------------------------------------------------------\u001b[0m",
      "\u001b[1;31mIndexError\u001b[0m                                Traceback (most recent call last)",
      "Cell \u001b[1;32mIn[34], line 11\u001b[0m\n\u001b[0;32m      9\u001b[0m row \u001b[38;5;241m=\u001b[39m df_intercambio_total\u001b[38;5;241m.\u001b[39mloc[df_intercambio_total[\u001b[38;5;124m'\u001b[39m\u001b[38;5;124mfrontera\u001b[39m\u001b[38;5;124m'\u001b[39m] \u001b[38;5;241m==\u001b[39m pais]\u001b[38;5;241m.\u001b[39mreset_index(drop\u001b[38;5;241m=\u001b[39m\u001b[38;5;28;01mTrue\u001b[39;00m)\n\u001b[0;32m     10\u001b[0m \u001b[38;5;66;03m# print(row)\u001b[39;00m\n\u001b[1;32m---> 11\u001b[0m exp \u001b[38;5;241m=\u001b[39m \u001b[43mrow\u001b[49m\u001b[43m[\u001b[49m\u001b[43mrow\u001b[49m\u001b[43m[\u001b[49m\u001b[38;5;124;43m'\u001b[39;49m\u001b[38;5;124;43mtipo\u001b[39;49m\u001b[38;5;124;43m'\u001b[39;49m\u001b[43m]\u001b[49m\u001b[43m \u001b[49m\u001b[38;5;241;43m==\u001b[39;49m\u001b[43m \u001b[49m\u001b[38;5;124;43m'\u001b[39;49m\u001b[38;5;124;43mexport\u001b[39;49m\u001b[38;5;124;43m'\u001b[39;49m\u001b[43m]\u001b[49m\u001b[43m[\u001b[49m\u001b[38;5;124;43m'\u001b[39;49m\u001b[38;5;124;43mvalor\u001b[39;49m\u001b[38;5;124;43m'\u001b[39;49m\u001b[43m]\u001b[49m\u001b[38;5;241;43m.\u001b[39;49m\u001b[43mvalues\u001b[49m\u001b[43m[\u001b[49m\u001b[38;5;241;43m0\u001b[39;49m\u001b[43m]\u001b[49m\n\u001b[0;32m     12\u001b[0m \u001b[38;5;66;03m# print(exp)\u001b[39;00m\n\u001b[0;32m     13\u001b[0m imp \u001b[38;5;241m=\u001b[39m row[row[\u001b[38;5;124m'\u001b[39m\u001b[38;5;124mtipo\u001b[39m\u001b[38;5;124m'\u001b[39m] \u001b[38;5;241m==\u001b[39m \u001b[38;5;124m'\u001b[39m\u001b[38;5;124mimport\u001b[39m\u001b[38;5;124m'\u001b[39m][\u001b[38;5;124m'\u001b[39m\u001b[38;5;124mvalor\u001b[39m\u001b[38;5;124m'\u001b[39m]\u001b[38;5;241m.\u001b[39mvalues[\u001b[38;5;241m0\u001b[39m]\n",
      "\u001b[1;31mIndexError\u001b[0m: index 0 is out of bounds for axis 0 with size 0"
     ]
    }
   ],
   "source": [
    "spain_map = folium.Map(location = [40.4637, -3.7492], zoom_start = 5, min_zoom = 5)\n",
    "\n",
    "coord = folium.map.FeatureGroup()\n",
    "\n",
    "geo_json = \"/Data/world_countries.json\"\n",
    "\n",
    "for pais, lat, lon in zip(df_coord[\"frontera\"], df_coord[\"latitud\"], df_coord[\"longitud\"]):\n",
    "\n",
    "    row = df_intercambio_total.loc[df_intercambio_total['frontera'] == pais].reset_index(drop=True)\n",
    "    # print(row)\n",
    "    exp = row[row['tipo'] == 'export']['valor'].values[0]\n",
    "    # print(exp)\n",
    "    imp = row[row['tipo'] == 'import']['valor'].values[0]\n",
    "    # print(imp)\n",
    "    saldo = row[row['tipo'] == 'saldo']['valor'].values[0]\n",
    "    # print(tipo(saldo))\n",
    "\n",
    "    popup_text = f\"\"\"\n",
    "    <b>{pais}</b><br>\n",
    "    📤 Exportado: {exp} MWh<br>\n",
    "    📥 Importado: {imp} MWh<br>\n",
    "    ⚖️ Saldo: {saldo} MWh<br>\n",
    "    \"\"\"\n",
    "    if saldo < 0:\n",
    "        color = 'green'\n",
    "    else:\n",
    "        color = 'red'\n",
    "    \n",
    "\n",
    "    folium.Marker(\n",
    "        location=[lat, lon],\n",
    "        popup=popup_text,\n",
    "        icon=folium.Icon(color=color, icon=\"info-sign\")\n",
    "    ).add_to(spain_map)\n",
    "\n",
    "folium.Choropleth(\n",
    "        geo_data=geo_json,  \n",
    "        data=df_intercambio_total,  \n",
    "        columns=[\"frontera\", \"valor\"], \n",
    "        key_on=\"feature.properties.ADMIN\",  \n",
    "        fill_color=\"BuGn\",  \n",
    "        fill_opacity=0.7,\n",
    "        line_opacity=0.2,\n",
    "        legend_name=\"Saldo Energético (MWh)\",\n",
    ").add_to(spain_map)\n",
    "\n",
    "spain_map"
   ]
  },
  {
   "cell_type": "markdown",
   "metadata": {},
   "source": [
    "### Generación\n"
   ]
  },
  {
   "cell_type": "code",
   "execution_count": 31,
   "metadata": {},
   "outputs": [],
   "source": [
    "df_generacion_filtrado_24 = df_generacion[df_generacion['año'] == 2024]\n",
    "df_generacion_filtrado_22 = df_generacion[df_generacion['año'] == 2022]"
   ]
  },
  {
   "cell_type": "code",
   "execution_count": 32,
   "metadata": {},
   "outputs": [
    {
     "data": {
      "text/html": [
       "<div>\n",
       "<style scoped>\n",
       "    .dataframe tbody tr th:only-of-type {\n",
       "        vertical-align: middle;\n",
       "    }\n",
       "\n",
       "    .dataframe tbody tr th {\n",
       "        vertical-align: top;\n",
       "    }\n",
       "\n",
       "    .dataframe thead th {\n",
       "        text-align: right;\n",
       "    }\n",
       "</style>\n",
       "<table border=\"1\" class=\"dataframe\">\n",
       "  <thead>\n",
       "    <tr style=\"text-align: right;\">\n",
       "      <th></th>\n",
       "      <th>titulo</th>\n",
       "      <th>tipo</th>\n",
       "      <th>composite</th>\n",
       "      <th>ultima_actualizacion</th>\n",
       "      <th>fecha_extraccion</th>\n",
       "      <th>categoria</th>\n",
       "      <th>zona</th>\n",
       "      <th>valor</th>\n",
       "      <th>porcentaje</th>\n",
       "      <th>fecha</th>\n",
       "      <th>año</th>\n",
       "      <th>mes</th>\n",
       "      <th>dia</th>\n",
       "      <th>dia_semana</th>\n",
       "      <th>ID</th>\n",
       "    </tr>\n",
       "  </thead>\n",
       "  <tbody>\n",
       "    <tr>\n",
       "      <th>0</th>\n",
       "      <td>Hidráulica</td>\n",
       "      <td>Renovable</td>\n",
       "      <td>0</td>\n",
       "      <td>2025-01-28</td>\n",
       "      <td>2025-02-19</td>\n",
       "      <td>Generación por tecnología</td>\n",
       "      <td>nacional</td>\n",
       "      <td>58381.148</td>\n",
       "      <td>0.097303</td>\n",
       "      <td>2024-01-01</td>\n",
       "      <td>2024</td>\n",
       "      <td>1</td>\n",
       "      <td>1</td>\n",
       "      <td>lunes</td>\n",
       "      <td>2025021987185</td>\n",
       "    </tr>\n",
       "    <tr>\n",
       "      <th>1</th>\n",
       "      <td>Hidráulica</td>\n",
       "      <td>Renovable</td>\n",
       "      <td>0</td>\n",
       "      <td>2025-01-28</td>\n",
       "      <td>2025-02-19</td>\n",
       "      <td>Generación por tecnología</td>\n",
       "      <td>nacional</td>\n",
       "      <td>68004.167</td>\n",
       "      <td>0.092353</td>\n",
       "      <td>2024-01-02</td>\n",
       "      <td>2024</td>\n",
       "      <td>1</td>\n",
       "      <td>2</td>\n",
       "      <td>martes</td>\n",
       "      <td>2025021987186</td>\n",
       "    </tr>\n",
       "    <tr>\n",
       "      <th>2</th>\n",
       "      <td>Hidráulica</td>\n",
       "      <td>Renovable</td>\n",
       "      <td>0</td>\n",
       "      <td>2025-01-28</td>\n",
       "      <td>2025-02-19</td>\n",
       "      <td>Generación por tecnología</td>\n",
       "      <td>nacional</td>\n",
       "      <td>93862.430</td>\n",
       "      <td>0.126579</td>\n",
       "      <td>2024-01-03</td>\n",
       "      <td>2024</td>\n",
       "      <td>1</td>\n",
       "      <td>3</td>\n",
       "      <td>miércoles</td>\n",
       "      <td>2025021987187</td>\n",
       "    </tr>\n",
       "    <tr>\n",
       "      <th>3</th>\n",
       "      <td>Hidráulica</td>\n",
       "      <td>Renovable</td>\n",
       "      <td>0</td>\n",
       "      <td>2025-01-28</td>\n",
       "      <td>2025-02-19</td>\n",
       "      <td>Generación por tecnología</td>\n",
       "      <td>nacional</td>\n",
       "      <td>139605.013</td>\n",
       "      <td>0.211274</td>\n",
       "      <td>2024-01-04</td>\n",
       "      <td>2024</td>\n",
       "      <td>1</td>\n",
       "      <td>4</td>\n",
       "      <td>jueves</td>\n",
       "      <td>2025021987188</td>\n",
       "    </tr>\n",
       "    <tr>\n",
       "      <th>4</th>\n",
       "      <td>Hidráulica</td>\n",
       "      <td>Renovable</td>\n",
       "      <td>0</td>\n",
       "      <td>2025-01-28</td>\n",
       "      <td>2025-02-19</td>\n",
       "      <td>Generación por tecnología</td>\n",
       "      <td>nacional</td>\n",
       "      <td>83467.494</td>\n",
       "      <td>0.107495</td>\n",
       "      <td>2024-01-05</td>\n",
       "      <td>2024</td>\n",
       "      <td>1</td>\n",
       "      <td>5</td>\n",
       "      <td>viernes</td>\n",
       "      <td>2025021987189</td>\n",
       "    </tr>\n",
       "    <tr>\n",
       "      <th>...</th>\n",
       "      <td>...</td>\n",
       "      <td>...</td>\n",
       "      <td>...</td>\n",
       "      <td>...</td>\n",
       "      <td>...</td>\n",
       "      <td>...</td>\n",
       "      <td>...</td>\n",
       "      <td>...</td>\n",
       "      <td>...</td>\n",
       "      <td>...</td>\n",
       "      <td>...</td>\n",
       "      <td>...</td>\n",
       "      <td>...</td>\n",
       "      <td>...</td>\n",
       "      <td>...</td>\n",
       "    </tr>\n",
       "    <tr>\n",
       "      <th>38407</th>\n",
       "      <td>Cogeneración</td>\n",
       "      <td>No renovable</td>\n",
       "      <td>0</td>\n",
       "      <td>2022-05-26</td>\n",
       "      <td>2025-02-19</td>\n",
       "      <td>Generación por tecnología</td>\n",
       "      <td>Región de Murcia</td>\n",
       "      <td>80701.361</td>\n",
       "      <td>0.057386</td>\n",
       "      <td>2022-08-01</td>\n",
       "      <td>2022</td>\n",
       "      <td>8</td>\n",
       "      <td>1</td>\n",
       "      <td>lunes</td>\n",
       "      <td>2025021965635</td>\n",
       "    </tr>\n",
       "    <tr>\n",
       "      <th>38408</th>\n",
       "      <td>Cogeneración</td>\n",
       "      <td>No renovable</td>\n",
       "      <td>0</td>\n",
       "      <td>2022-05-26</td>\n",
       "      <td>2025-02-19</td>\n",
       "      <td>Generación por tecnología</td>\n",
       "      <td>Región de Murcia</td>\n",
       "      <td>52572.930</td>\n",
       "      <td>0.049885</td>\n",
       "      <td>2022-09-01</td>\n",
       "      <td>2022</td>\n",
       "      <td>9</td>\n",
       "      <td>1</td>\n",
       "      <td>jueves</td>\n",
       "      <td>2025021965636</td>\n",
       "    </tr>\n",
       "    <tr>\n",
       "      <th>38409</th>\n",
       "      <td>Cogeneración</td>\n",
       "      <td>No renovable</td>\n",
       "      <td>0</td>\n",
       "      <td>2022-05-26</td>\n",
       "      <td>2025-02-19</td>\n",
       "      <td>Generación por tecnología</td>\n",
       "      <td>Región de Murcia</td>\n",
       "      <td>53683.588</td>\n",
       "      <td>0.054182</td>\n",
       "      <td>2022-10-01</td>\n",
       "      <td>2022</td>\n",
       "      <td>10</td>\n",
       "      <td>1</td>\n",
       "      <td>sábado</td>\n",
       "      <td>2025021965637</td>\n",
       "    </tr>\n",
       "    <tr>\n",
       "      <th>38410</th>\n",
       "      <td>Cogeneración</td>\n",
       "      <td>No renovable</td>\n",
       "      <td>0</td>\n",
       "      <td>2022-05-26</td>\n",
       "      <td>2025-02-19</td>\n",
       "      <td>Generación por tecnología</td>\n",
       "      <td>Región de Murcia</td>\n",
       "      <td>57330.527</td>\n",
       "      <td>0.082296</td>\n",
       "      <td>2022-11-01</td>\n",
       "      <td>2022</td>\n",
       "      <td>11</td>\n",
       "      <td>1</td>\n",
       "      <td>martes</td>\n",
       "      <td>2025021965638</td>\n",
       "    </tr>\n",
       "    <tr>\n",
       "      <th>38411</th>\n",
       "      <td>Cogeneración</td>\n",
       "      <td>No renovable</td>\n",
       "      <td>0</td>\n",
       "      <td>2022-05-26</td>\n",
       "      <td>2025-02-19</td>\n",
       "      <td>Generación por tecnología</td>\n",
       "      <td>Región de Murcia</td>\n",
       "      <td>46979.505</td>\n",
       "      <td>0.071904</td>\n",
       "      <td>2022-12-01</td>\n",
       "      <td>2022</td>\n",
       "      <td>12</td>\n",
       "      <td>1</td>\n",
       "      <td>jueves</td>\n",
       "      <td>2025021965639</td>\n",
       "    </tr>\n",
       "  </tbody>\n",
       "</table>\n",
       "<p>38412 rows × 15 columns</p>\n",
       "</div>"
      ],
      "text/plain": [
       "             titulo          tipo  composite ultima_actualizacion  \\\n",
       "0        Hidráulica     Renovable          0           2025-01-28   \n",
       "1        Hidráulica     Renovable          0           2025-01-28   \n",
       "2        Hidráulica     Renovable          0           2025-01-28   \n",
       "3        Hidráulica     Renovable          0           2025-01-28   \n",
       "4        Hidráulica     Renovable          0           2025-01-28   \n",
       "...             ...           ...        ...                  ...   \n",
       "38407  Cogeneración  No renovable          0           2022-05-26   \n",
       "38408  Cogeneración  No renovable          0           2022-05-26   \n",
       "38409  Cogeneración  No renovable          0           2022-05-26   \n",
       "38410  Cogeneración  No renovable          0           2022-05-26   \n",
       "38411  Cogeneración  No renovable          0           2022-05-26   \n",
       "\n",
       "      fecha_extraccion                  categoria              zona  \\\n",
       "0           2025-02-19  Generación por tecnología          nacional   \n",
       "1           2025-02-19  Generación por tecnología          nacional   \n",
       "2           2025-02-19  Generación por tecnología          nacional   \n",
       "3           2025-02-19  Generación por tecnología          nacional   \n",
       "4           2025-02-19  Generación por tecnología          nacional   \n",
       "...                ...                        ...               ...   \n",
       "38407       2025-02-19  Generación por tecnología  Región de Murcia   \n",
       "38408       2025-02-19  Generación por tecnología  Región de Murcia   \n",
       "38409       2025-02-19  Generación por tecnología  Región de Murcia   \n",
       "38410       2025-02-19  Generación por tecnología  Región de Murcia   \n",
       "38411       2025-02-19  Generación por tecnología  Región de Murcia   \n",
       "\n",
       "            valor  porcentaje       fecha   año  mes  dia dia_semana  \\\n",
       "0       58381.148    0.097303  2024-01-01  2024    1    1      lunes   \n",
       "1       68004.167    0.092353  2024-01-02  2024    1    2     martes   \n",
       "2       93862.430    0.126579  2024-01-03  2024    1    3  miércoles   \n",
       "3      139605.013    0.211274  2024-01-04  2024    1    4     jueves   \n",
       "4       83467.494    0.107495  2024-01-05  2024    1    5    viernes   \n",
       "...           ...         ...         ...   ...  ...  ...        ...   \n",
       "38407   80701.361    0.057386  2022-08-01  2022    8    1      lunes   \n",
       "38408   52572.930    0.049885  2022-09-01  2022    9    1     jueves   \n",
       "38409   53683.588    0.054182  2022-10-01  2022   10    1     sábado   \n",
       "38410   57330.527    0.082296  2022-11-01  2022   11    1     martes   \n",
       "38411   46979.505    0.071904  2022-12-01  2022   12    1     jueves   \n",
       "\n",
       "                  ID  \n",
       "0      2025021987185  \n",
       "1      2025021987186  \n",
       "2      2025021987187  \n",
       "3      2025021987188  \n",
       "4      2025021987189  \n",
       "...              ...  \n",
       "38407  2025021965635  \n",
       "38408  2025021965636  \n",
       "38409  2025021965637  \n",
       "38410  2025021965638  \n",
       "38411  2025021965639  \n",
       "\n",
       "[38412 rows x 15 columns]"
      ]
     },
     "execution_count": 32,
     "metadata": {},
     "output_type": "execute_result"
    }
   ],
   "source": [
    "df_concat = pd.concat([df_generacion_filtrado_24, df_generacion_filtrado_22], ignore_index=True)\n",
    "df_concat"
   ]
  },
  {
   "cell_type": "code",
   "execution_count": 70,
   "metadata": {},
   "outputs": [
    {
     "data": {
      "text/html": [
       "<div>\n",
       "<style scoped>\n",
       "    .dataframe tbody tr th:only-of-type {\n",
       "        vertical-align: middle;\n",
       "    }\n",
       "\n",
       "    .dataframe tbody tr th {\n",
       "        vertical-align: top;\n",
       "    }\n",
       "\n",
       "    .dataframe thead th {\n",
       "        text-align: right;\n",
       "    }\n",
       "</style>\n",
       "<table border=\"1\" class=\"dataframe\">\n",
       "  <thead>\n",
       "    <tr style=\"text-align: right;\">\n",
       "      <th></th>\n",
       "      <th>mes</th>\n",
       "      <th>tipo</th>\n",
       "      <th>año</th>\n",
       "      <th>composite</th>\n",
       "      <th>valor</th>\n",
       "      <th>porcentaje</th>\n",
       "      <th>dia</th>\n",
       "      <th>ID</th>\n",
       "    </tr>\n",
       "  </thead>\n",
       "  <tbody>\n",
       "    <tr>\n",
       "      <th>0</th>\n",
       "      <td>1</td>\n",
       "      <td>export</td>\n",
       "      <td>2022</td>\n",
       "      <td>0</td>\n",
       "      <td>2055906.984</td>\n",
       "      <td>85.225440</td>\n",
       "      <td>1984</td>\n",
       "      <td>251102717255834</td>\n",
       "    </tr>\n",
       "    <tr>\n",
       "      <th>1</th>\n",
       "      <td>1</td>\n",
       "      <td>export</td>\n",
       "      <td>2024</td>\n",
       "      <td>0</td>\n",
       "      <td>1900027.114</td>\n",
       "      <td>81.347475</td>\n",
       "      <td>1984</td>\n",
       "      <td>251102718720522</td>\n",
       "    </tr>\n",
       "    <tr>\n",
       "      <th>2</th>\n",
       "      <td>1</td>\n",
       "      <td>import</td>\n",
       "      <td>2022</td>\n",
       "      <td>0</td>\n",
       "      <td>875929.211</td>\n",
       "      <td>38.774560</td>\n",
       "      <td>1984</td>\n",
       "      <td>251102717301094</td>\n",
       "    </tr>\n",
       "    <tr>\n",
       "      <th>3</th>\n",
       "      <td>1</td>\n",
       "      <td>import</td>\n",
       "      <td>2024</td>\n",
       "      <td>0</td>\n",
       "      <td>1410979.301</td>\n",
       "      <td>42.652525</td>\n",
       "      <td>1984</td>\n",
       "      <td>251102718769750</td>\n",
       "    </tr>\n",
       "    <tr>\n",
       "      <th>4</th>\n",
       "      <td>2</td>\n",
       "      <td>export</td>\n",
       "      <td>2022</td>\n",
       "      <td>0</td>\n",
       "      <td>1782735.936</td>\n",
       "      <td>78.159809</td>\n",
       "      <td>1624</td>\n",
       "      <td>226802454298896</td>\n",
       "    </tr>\n",
       "    <tr>\n",
       "      <th>5</th>\n",
       "      <td>2</td>\n",
       "      <td>export</td>\n",
       "      <td>2024</td>\n",
       "      <td>0</td>\n",
       "      <td>2173778.045</td>\n",
       "      <td>88.107905</td>\n",
       "      <td>1740</td>\n",
       "      <td>234902543322678</td>\n",
       "    </tr>\n",
       "    <tr>\n",
       "      <th>6</th>\n",
       "      <td>2</td>\n",
       "      <td>import</td>\n",
       "      <td>2022</td>\n",
       "      <td>0</td>\n",
       "      <td>1314824.592</td>\n",
       "      <td>33.840191</td>\n",
       "      <td>1624</td>\n",
       "      <td>226802454339776</td>\n",
       "    </tr>\n",
       "    <tr>\n",
       "      <th>7</th>\n",
       "      <td>2</td>\n",
       "      <td>import</td>\n",
       "      <td>2024</td>\n",
       "      <td>0</td>\n",
       "      <td>1053157.782</td>\n",
       "      <td>27.892095</td>\n",
       "      <td>1740</td>\n",
       "      <td>234902543368730</td>\n",
       "    </tr>\n",
       "    <tr>\n",
       "      <th>8</th>\n",
       "      <td>3</td>\n",
       "      <td>export</td>\n",
       "      <td>2022</td>\n",
       "      <td>0</td>\n",
       "      <td>1839121.201</td>\n",
       "      <td>85.857046</td>\n",
       "      <td>1984</td>\n",
       "      <td>251102717263150</td>\n",
       "    </tr>\n",
       "    <tr>\n",
       "      <th>9</th>\n",
       "      <td>3</td>\n",
       "      <td>export</td>\n",
       "      <td>2024</td>\n",
       "      <td>0</td>\n",
       "      <td>2159654.659</td>\n",
       "      <td>94.874299</td>\n",
       "      <td>1984</td>\n",
       "      <td>251102718727962</td>\n",
       "    </tr>\n",
       "    <tr>\n",
       "      <th>10</th>\n",
       "      <td>3</td>\n",
       "      <td>import</td>\n",
       "      <td>2022</td>\n",
       "      <td>0</td>\n",
       "      <td>958823.171</td>\n",
       "      <td>38.142954</td>\n",
       "      <td>1984</td>\n",
       "      <td>251102717308410</td>\n",
       "    </tr>\n",
       "    <tr>\n",
       "      <th>11</th>\n",
       "      <td>3</td>\n",
       "      <td>import</td>\n",
       "      <td>2024</td>\n",
       "      <td>0</td>\n",
       "      <td>1326589.091</td>\n",
       "      <td>29.125701</td>\n",
       "      <td>1984</td>\n",
       "      <td>251102718777190</td>\n",
       "    </tr>\n",
       "    <tr>\n",
       "      <th>12</th>\n",
       "      <td>4</td>\n",
       "      <td>export</td>\n",
       "      <td>2022</td>\n",
       "      <td>0</td>\n",
       "      <td>2153011.403</td>\n",
       "      <td>93.601375</td>\n",
       "      <td>1860</td>\n",
       "      <td>243002629613160</td>\n",
       "    </tr>\n",
       "    <tr>\n",
       "      <th>13</th>\n",
       "      <td>4</td>\n",
       "      <td>export</td>\n",
       "      <td>2024</td>\n",
       "      <td>0</td>\n",
       "      <td>2246053.784</td>\n",
       "      <td>94.411607</td>\n",
       "      <td>1860</td>\n",
       "      <td>243002631030720</td>\n",
       "    </tr>\n",
       "    <tr>\n",
       "      <th>14</th>\n",
       "      <td>4</td>\n",
       "      <td>import</td>\n",
       "      <td>2022</td>\n",
       "      <td>0</td>\n",
       "      <td>566142.133</td>\n",
       "      <td>26.398625</td>\n",
       "      <td>1860</td>\n",
       "      <td>243002629656960</td>\n",
       "    </tr>\n",
       "    <tr>\n",
       "      <th>15</th>\n",
       "      <td>4</td>\n",
       "      <td>import</td>\n",
       "      <td>2024</td>\n",
       "      <td>0</td>\n",
       "      <td>1055143.614</td>\n",
       "      <td>25.588393</td>\n",
       "      <td>1860</td>\n",
       "      <td>243002631078360</td>\n",
       "    </tr>\n",
       "    <tr>\n",
       "      <th>16</th>\n",
       "      <td>5</td>\n",
       "      <td>export</td>\n",
       "      <td>2022</td>\n",
       "      <td>0</td>\n",
       "      <td>2036764.275</td>\n",
       "      <td>86.827343</td>\n",
       "      <td>1984</td>\n",
       "      <td>251102717270714</td>\n",
       "    </tr>\n",
       "    <tr>\n",
       "      <th>17</th>\n",
       "      <td>5</td>\n",
       "      <td>export</td>\n",
       "      <td>2024</td>\n",
       "      <td>0</td>\n",
       "      <td>2120580.305</td>\n",
       "      <td>98.316993</td>\n",
       "      <td>1984</td>\n",
       "      <td>251102718735526</td>\n",
       "    </tr>\n",
       "    <tr>\n",
       "      <th>18</th>\n",
       "      <td>5</td>\n",
       "      <td>import</td>\n",
       "      <td>2022</td>\n",
       "      <td>0</td>\n",
       "      <td>722926.068</td>\n",
       "      <td>28.172657</td>\n",
       "      <td>1984</td>\n",
       "      <td>251102717315974</td>\n",
       "    </tr>\n",
       "    <tr>\n",
       "      <th>19</th>\n",
       "      <td>5</td>\n",
       "      <td>import</td>\n",
       "      <td>2024</td>\n",
       "      <td>0</td>\n",
       "      <td>1127801.039</td>\n",
       "      <td>25.683007</td>\n",
       "      <td>1984</td>\n",
       "      <td>251102718784754</td>\n",
       "    </tr>\n",
       "    <tr>\n",
       "      <th>20</th>\n",
       "      <td>6</td>\n",
       "      <td>export</td>\n",
       "      <td>2022</td>\n",
       "      <td>0</td>\n",
       "      <td>1935254.624</td>\n",
       "      <td>95.355565</td>\n",
       "      <td>1860</td>\n",
       "      <td>243002629620480</td>\n",
       "    </tr>\n",
       "    <tr>\n",
       "      <th>21</th>\n",
       "      <td>6</td>\n",
       "      <td>export</td>\n",
       "      <td>2024</td>\n",
       "      <td>0</td>\n",
       "      <td>2133533.761</td>\n",
       "      <td>89.542107</td>\n",
       "      <td>1860</td>\n",
       "      <td>243002631038040</td>\n",
       "    </tr>\n",
       "    <tr>\n",
       "      <th>22</th>\n",
       "      <td>6</td>\n",
       "      <td>import</td>\n",
       "      <td>2022</td>\n",
       "      <td>0</td>\n",
       "      <td>476525.119</td>\n",
       "      <td>17.644435</td>\n",
       "      <td>1860</td>\n",
       "      <td>243002629664280</td>\n",
       "    </tr>\n",
       "    <tr>\n",
       "      <th>23</th>\n",
       "      <td>6</td>\n",
       "      <td>import</td>\n",
       "      <td>2024</td>\n",
       "      <td>0</td>\n",
       "      <td>900618.530</td>\n",
       "      <td>30.457893</td>\n",
       "      <td>1860</td>\n",
       "      <td>243002631085680</td>\n",
       "    </tr>\n",
       "    <tr>\n",
       "      <th>24</th>\n",
       "      <td>7</td>\n",
       "      <td>export</td>\n",
       "      <td>2022</td>\n",
       "      <td>0</td>\n",
       "      <td>2656515.515</td>\n",
       "      <td>113.265660</td>\n",
       "      <td>1984</td>\n",
       "      <td>251102717278278</td>\n",
       "    </tr>\n",
       "    <tr>\n",
       "      <th>25</th>\n",
       "      <td>7</td>\n",
       "      <td>export</td>\n",
       "      <td>2024</td>\n",
       "      <td>0</td>\n",
       "      <td>2217825.193</td>\n",
       "      <td>94.781380</td>\n",
       "      <td>1984</td>\n",
       "      <td>251102718743090</td>\n",
       "    </tr>\n",
       "    <tr>\n",
       "      <th>26</th>\n",
       "      <td>7</td>\n",
       "      <td>import</td>\n",
       "      <td>2022</td>\n",
       "      <td>0</td>\n",
       "      <td>233827.512</td>\n",
       "      <td>10.734340</td>\n",
       "      <td>1984</td>\n",
       "      <td>251102717323538</td>\n",
       "    </tr>\n",
       "    <tr>\n",
       "      <th>27</th>\n",
       "      <td>7</td>\n",
       "      <td>import</td>\n",
       "      <td>2024</td>\n",
       "      <td>0</td>\n",
       "      <td>1254971.098</td>\n",
       "      <td>29.218620</td>\n",
       "      <td>1984</td>\n",
       "      <td>251102718792318</td>\n",
       "    </tr>\n",
       "    <tr>\n",
       "      <th>28</th>\n",
       "      <td>8</td>\n",
       "      <td>export</td>\n",
       "      <td>2022</td>\n",
       "      <td>0</td>\n",
       "      <td>2924472.011</td>\n",
       "      <td>119.784361</td>\n",
       "      <td>1984</td>\n",
       "      <td>251102717282122</td>\n",
       "    </tr>\n",
       "    <tr>\n",
       "      <th>29</th>\n",
       "      <td>8</td>\n",
       "      <td>export</td>\n",
       "      <td>2024</td>\n",
       "      <td>0</td>\n",
       "      <td>1924409.730</td>\n",
       "      <td>67.440268</td>\n",
       "      <td>1984</td>\n",
       "      <td>251102718746934</td>\n",
       "    </tr>\n",
       "    <tr>\n",
       "      <th>30</th>\n",
       "      <td>8</td>\n",
       "      <td>import</td>\n",
       "      <td>2022</td>\n",
       "      <td>0</td>\n",
       "      <td>126368.541</td>\n",
       "      <td>4.215639</td>\n",
       "      <td>1984</td>\n",
       "      <td>251102717327382</td>\n",
       "    </tr>\n",
       "    <tr>\n",
       "      <th>31</th>\n",
       "      <td>8</td>\n",
       "      <td>import</td>\n",
       "      <td>2024</td>\n",
       "      <td>0</td>\n",
       "      <td>1524636.117</td>\n",
       "      <td>30.559732</td>\n",
       "      <td>1984</td>\n",
       "      <td>251102718796162</td>\n",
       "    </tr>\n",
       "    <tr>\n",
       "      <th>32</th>\n",
       "      <td>9</td>\n",
       "      <td>export</td>\n",
       "      <td>2022</td>\n",
       "      <td>0</td>\n",
       "      <td>3055835.996</td>\n",
       "      <td>113.378466</td>\n",
       "      <td>1860</td>\n",
       "      <td>243002629631520</td>\n",
       "    </tr>\n",
       "    <tr>\n",
       "      <th>33</th>\n",
       "      <td>9</td>\n",
       "      <td>export</td>\n",
       "      <td>2024</td>\n",
       "      <td>0</td>\n",
       "      <td>2040640.229</td>\n",
       "      <td>90.536781</td>\n",
       "      <td>1860</td>\n",
       "      <td>243002631049080</td>\n",
       "    </tr>\n",
       "    <tr>\n",
       "      <th>34</th>\n",
       "      <td>9</td>\n",
       "      <td>import</td>\n",
       "      <td>2022</td>\n",
       "      <td>0</td>\n",
       "      <td>179173.287</td>\n",
       "      <td>6.621534</td>\n",
       "      <td>1860</td>\n",
       "      <td>243002629675320</td>\n",
       "    </tr>\n",
       "    <tr>\n",
       "      <th>35</th>\n",
       "      <td>9</td>\n",
       "      <td>import</td>\n",
       "      <td>2024</td>\n",
       "      <td>0</td>\n",
       "      <td>908853.950</td>\n",
       "      <td>25.463219</td>\n",
       "      <td>1860</td>\n",
       "      <td>243002631096720</td>\n",
       "    </tr>\n",
       "    <tr>\n",
       "      <th>36</th>\n",
       "      <td>10</td>\n",
       "      <td>export</td>\n",
       "      <td>2022</td>\n",
       "      <td>0</td>\n",
       "      <td>2659259.266</td>\n",
       "      <td>110.675798</td>\n",
       "      <td>1984</td>\n",
       "      <td>251102717289686</td>\n",
       "    </tr>\n",
       "    <tr>\n",
       "      <th>37</th>\n",
       "      <td>10</td>\n",
       "      <td>export</td>\n",
       "      <td>2024</td>\n",
       "      <td>0</td>\n",
       "      <td>1869776.135</td>\n",
       "      <td>94.054443</td>\n",
       "      <td>1984</td>\n",
       "      <td>251102718754498</td>\n",
       "    </tr>\n",
       "    <tr>\n",
       "      <th>38</th>\n",
       "      <td>10</td>\n",
       "      <td>import</td>\n",
       "      <td>2022</td>\n",
       "      <td>0</td>\n",
       "      <td>593773.115</td>\n",
       "      <td>13.324202</td>\n",
       "      <td>1984</td>\n",
       "      <td>251102717334946</td>\n",
       "    </tr>\n",
       "    <tr>\n",
       "      <th>39</th>\n",
       "      <td>10</td>\n",
       "      <td>import</td>\n",
       "      <td>2024</td>\n",
       "      <td>0</td>\n",
       "      <td>980506.948</td>\n",
       "      <td>29.945557</td>\n",
       "      <td>1984</td>\n",
       "      <td>251102718803726</td>\n",
       "    </tr>\n",
       "    <tr>\n",
       "      <th>40</th>\n",
       "      <td>11</td>\n",
       "      <td>export</td>\n",
       "      <td>2022</td>\n",
       "      <td>0</td>\n",
       "      <td>2328243.933</td>\n",
       "      <td>97.603711</td>\n",
       "      <td>1860</td>\n",
       "      <td>243002629638840</td>\n",
       "    </tr>\n",
       "    <tr>\n",
       "      <th>41</th>\n",
       "      <td>11</td>\n",
       "      <td>export</td>\n",
       "      <td>2024</td>\n",
       "      <td>0</td>\n",
       "      <td>1675864.335</td>\n",
       "      <td>88.302613</td>\n",
       "      <td>1860</td>\n",
       "      <td>243002631056400</td>\n",
       "    </tr>\n",
       "    <tr>\n",
       "      <th>42</th>\n",
       "      <td>11</td>\n",
       "      <td>import</td>\n",
       "      <td>2022</td>\n",
       "      <td>0</td>\n",
       "      <td>694347.840</td>\n",
       "      <td>21.396289</td>\n",
       "      <td>1860</td>\n",
       "      <td>243002629682640</td>\n",
       "    </tr>\n",
       "    <tr>\n",
       "      <th>43</th>\n",
       "      <td>11</td>\n",
       "      <td>import</td>\n",
       "      <td>2024</td>\n",
       "      <td>0</td>\n",
       "      <td>1286310.927</td>\n",
       "      <td>31.697387</td>\n",
       "      <td>1860</td>\n",
       "      <td>243002631104040</td>\n",
       "    </tr>\n",
       "    <tr>\n",
       "      <th>44</th>\n",
       "      <td>12</td>\n",
       "      <td>export</td>\n",
       "      <td>2022</td>\n",
       "      <td>0</td>\n",
       "      <td>2406088.583</td>\n",
       "      <td>92.715179</td>\n",
       "      <td>1984</td>\n",
       "      <td>251102717297250</td>\n",
       "    </tr>\n",
       "    <tr>\n",
       "      <th>45</th>\n",
       "      <td>12</td>\n",
       "      <td>export</td>\n",
       "      <td>2024</td>\n",
       "      <td>0</td>\n",
       "      <td>2118987.744</td>\n",
       "      <td>79.619436</td>\n",
       "      <td>1984</td>\n",
       "      <td>251102718762062</td>\n",
       "    </tr>\n",
       "    <tr>\n",
       "      <th>46</th>\n",
       "      <td>12</td>\n",
       "      <td>import</td>\n",
       "      <td>2022</td>\n",
       "      <td>0</td>\n",
       "      <td>1288859.638</td>\n",
       "      <td>31.284821</td>\n",
       "      <td>1984</td>\n",
       "      <td>251102717342510</td>\n",
       "    </tr>\n",
       "    <tr>\n",
       "      <th>47</th>\n",
       "      <td>12</td>\n",
       "      <td>import</td>\n",
       "      <td>2024</td>\n",
       "      <td>0</td>\n",
       "      <td>1524567.902</td>\n",
       "      <td>44.380564</td>\n",
       "      <td>1984</td>\n",
       "      <td>251102718811290</td>\n",
       "    </tr>\n",
       "  </tbody>\n",
       "</table>\n",
       "</div>"
      ],
      "text/plain": [
       "    mes    tipo   año  composite        valor  porcentaje   dia  \\\n",
       "0     1  export  2022          0  2055906.984   85.225440  1984   \n",
       "1     1  export  2024          0  1900027.114   81.347475  1984   \n",
       "2     1  import  2022          0   875929.211   38.774560  1984   \n",
       "3     1  import  2024          0  1410979.301   42.652525  1984   \n",
       "4     2  export  2022          0  1782735.936   78.159809  1624   \n",
       "5     2  export  2024          0  2173778.045   88.107905  1740   \n",
       "6     2  import  2022          0  1314824.592   33.840191  1624   \n",
       "7     2  import  2024          0  1053157.782   27.892095  1740   \n",
       "8     3  export  2022          0  1839121.201   85.857046  1984   \n",
       "9     3  export  2024          0  2159654.659   94.874299  1984   \n",
       "10    3  import  2022          0   958823.171   38.142954  1984   \n",
       "11    3  import  2024          0  1326589.091   29.125701  1984   \n",
       "12    4  export  2022          0  2153011.403   93.601375  1860   \n",
       "13    4  export  2024          0  2246053.784   94.411607  1860   \n",
       "14    4  import  2022          0   566142.133   26.398625  1860   \n",
       "15    4  import  2024          0  1055143.614   25.588393  1860   \n",
       "16    5  export  2022          0  2036764.275   86.827343  1984   \n",
       "17    5  export  2024          0  2120580.305   98.316993  1984   \n",
       "18    5  import  2022          0   722926.068   28.172657  1984   \n",
       "19    5  import  2024          0  1127801.039   25.683007  1984   \n",
       "20    6  export  2022          0  1935254.624   95.355565  1860   \n",
       "21    6  export  2024          0  2133533.761   89.542107  1860   \n",
       "22    6  import  2022          0   476525.119   17.644435  1860   \n",
       "23    6  import  2024          0   900618.530   30.457893  1860   \n",
       "24    7  export  2022          0  2656515.515  113.265660  1984   \n",
       "25    7  export  2024          0  2217825.193   94.781380  1984   \n",
       "26    7  import  2022          0   233827.512   10.734340  1984   \n",
       "27    7  import  2024          0  1254971.098   29.218620  1984   \n",
       "28    8  export  2022          0  2924472.011  119.784361  1984   \n",
       "29    8  export  2024          0  1924409.730   67.440268  1984   \n",
       "30    8  import  2022          0   126368.541    4.215639  1984   \n",
       "31    8  import  2024          0  1524636.117   30.559732  1984   \n",
       "32    9  export  2022          0  3055835.996  113.378466  1860   \n",
       "33    9  export  2024          0  2040640.229   90.536781  1860   \n",
       "34    9  import  2022          0   179173.287    6.621534  1860   \n",
       "35    9  import  2024          0   908853.950   25.463219  1860   \n",
       "36   10  export  2022          0  2659259.266  110.675798  1984   \n",
       "37   10  export  2024          0  1869776.135   94.054443  1984   \n",
       "38   10  import  2022          0   593773.115   13.324202  1984   \n",
       "39   10  import  2024          0   980506.948   29.945557  1984   \n",
       "40   11  export  2022          0  2328243.933   97.603711  1860   \n",
       "41   11  export  2024          0  1675864.335   88.302613  1860   \n",
       "42   11  import  2022          0   694347.840   21.396289  1860   \n",
       "43   11  import  2024          0  1286310.927   31.697387  1860   \n",
       "44   12  export  2022          0  2406088.583   92.715179  1984   \n",
       "45   12  export  2024          0  2118987.744   79.619436  1984   \n",
       "46   12  import  2022          0  1288859.638   31.284821  1984   \n",
       "47   12  import  2024          0  1524567.902   44.380564  1984   \n",
       "\n",
       "                 ID  \n",
       "0   251102717255834  \n",
       "1   251102718720522  \n",
       "2   251102717301094  \n",
       "3   251102718769750  \n",
       "4   226802454298896  \n",
       "5   234902543322678  \n",
       "6   226802454339776  \n",
       "7   234902543368730  \n",
       "8   251102717263150  \n",
       "9   251102718727962  \n",
       "10  251102717308410  \n",
       "11  251102718777190  \n",
       "12  243002629613160  \n",
       "13  243002631030720  \n",
       "14  243002629656960  \n",
       "15  243002631078360  \n",
       "16  251102717270714  \n",
       "17  251102718735526  \n",
       "18  251102717315974  \n",
       "19  251102718784754  \n",
       "20  243002629620480  \n",
       "21  243002631038040  \n",
       "22  243002629664280  \n",
       "23  243002631085680  \n",
       "24  251102717278278  \n",
       "25  251102718743090  \n",
       "26  251102717323538  \n",
       "27  251102718792318  \n",
       "28  251102717282122  \n",
       "29  251102718746934  \n",
       "30  251102717327382  \n",
       "31  251102718796162  \n",
       "32  243002629631520  \n",
       "33  243002631049080  \n",
       "34  243002629675320  \n",
       "35  243002631096720  \n",
       "36  251102717289686  \n",
       "37  251102718754498  \n",
       "38  251102717334946  \n",
       "39  251102718803726  \n",
       "40  243002629638840  \n",
       "41  243002631056400  \n",
       "42  243002629682640  \n",
       "43  243002631104040  \n",
       "44  251102717297250  \n",
       "45  251102718762062  \n",
       "46  251102717342510  \n",
       "47  251102718811290  "
      ]
     },
     "execution_count": 70,
     "metadata": {},
     "output_type": "execute_result"
    }
   ],
   "source": [
    "df_intercambios_2y = df_intercambios[(df_intercambios['año'] == 2022) | (df_intercambios['año'] == 2024)]\n",
    "df_intercambios_2y = df_intercambios_2y[df_intercambios_2y['frontera'].isin(['Francia', 'Portugal', 'Marruecos', 'Andorra'])].reset_index(drop=True)\n",
    "df_intercambios_2y = df_intercambios_2y.groupby(['mes', 'tipo', 'año']).sum('valor').reset_index()\n",
    "df_intercambios_2y['valor'] = df_intercambios_2y['valor'].apply(lambda x: abs(x))\n",
    "df_intercambios_2y"
   ]
  },
  {
   "cell_type": "code",
   "execution_count": 73,
   "metadata": {},
   "outputs": [
    {
     "data": {
      "application/vnd.plotly.v1+json": {
       "config": {
        "plotlyServerURL": "https://plot.ly"
       },
       "data": [
        {
         "hovertemplate": "tipo=export<br>año=2022<br>mes=%{x}<br>Demanda (MWh)=%{y}<extra></extra>",
         "legendgroup": "export, 2022",
         "line": {
          "color": "green",
          "dash": "solid"
         },
         "marker": {
          "symbol": "circle"
         },
         "mode": "lines+markers",
         "name": "export, 2022",
         "orientation": "v",
         "showlegend": true,
         "type": "scatter",
         "x": [
          1,
          2,
          3,
          4,
          5,
          6,
          7,
          8,
          9,
          10,
          11,
          12
         ],
         "xaxis": "x",
         "y": [
          2055906.984,
          1782735.936,
          1839121.2010000001,
          2153011.403,
          2036764.275,
          1935254.624,
          2656515.515,
          2924472.011,
          3055835.996,
          2659259.266,
          2328243.933,
          2406088.583
         ],
         "yaxis": "y"
        },
        {
         "hovertemplate": "tipo=export<br>año=2024<br>mes=%{x}<br>Demanda (MWh)=%{y}<extra></extra>",
         "legendgroup": "export, 2024",
         "line": {
          "color": "green",
          "dash": "dot"
         },
         "marker": {
          "symbol": "circle"
         },
         "mode": "lines+markers",
         "name": "export, 2024",
         "orientation": "v",
         "showlegend": true,
         "type": "scatter",
         "x": [
          1,
          2,
          3,
          4,
          5,
          6,
          7,
          8,
          9,
          10,
          11,
          12
         ],
         "xaxis": "x",
         "y": [
          1900027.114,
          2173778.045,
          2159654.659,
          2246053.784,
          2120580.305,
          2133533.761,
          2217825.193,
          1924409.73,
          2040640.229,
          1869776.135,
          1675864.335,
          2118987.744
         ],
         "yaxis": "y"
        },
        {
         "hovertemplate": "tipo=import<br>año=2022<br>mes=%{x}<br>Demanda (MWh)=%{y}<extra></extra>",
         "legendgroup": "import, 2022",
         "line": {
          "color": "red",
          "dash": "solid"
         },
         "marker": {
          "symbol": "circle"
         },
         "mode": "lines+markers",
         "name": "import, 2022",
         "orientation": "v",
         "showlegend": true,
         "type": "scatter",
         "x": [
          1,
          2,
          3,
          4,
          5,
          6,
          7,
          8,
          9,
          10,
          11,
          12
         ],
         "xaxis": "x",
         "y": [
          875929.211,
          1314824.592,
          958823.171,
          566142.133,
          722926.068,
          476525.119,
          233827.512,
          126368.541,
          179173.287,
          593773.115,
          694347.84,
          1288859.638
         ],
         "yaxis": "y"
        },
        {
         "hovertemplate": "tipo=import<br>año=2024<br>mes=%{x}<br>Demanda (MWh)=%{y}<extra></extra>",
         "legendgroup": "import, 2024",
         "line": {
          "color": "red",
          "dash": "dot"
         },
         "marker": {
          "symbol": "circle"
         },
         "mode": "lines+markers",
         "name": "import, 2024",
         "orientation": "v",
         "showlegend": true,
         "type": "scatter",
         "x": [
          1,
          2,
          3,
          4,
          5,
          6,
          7,
          8,
          9,
          10,
          11,
          12
         ],
         "xaxis": "x",
         "y": [
          1410979.301,
          1053157.7820000001,
          1326589.091,
          1055143.614,
          1127801.039,
          900618.53,
          1254971.098,
          1524636.117,
          908853.95,
          980506.948,
          1286310.927,
          1524567.902
         ],
         "yaxis": "y"
        }
       ],
       "layout": {
        "annotations": [
         {
          "align": "center",
          "bgcolor": "rgba(255,255,255,0.7)",
          "font": {
           "size": 12
          },
          "showarrow": false,
          "text": "Media: 1558333.28",
          "x": 0.5,
          "y": 0.95
         },
         {
          "align": "center",
          "bgcolor": "rgba(255,255,255,0.7)",
          "font": {
           "size": 12
          },
          "showarrow": false,
          "text": "Mediana: 1600250.23",
          "x": 0.5,
          "y": 0.9
         },
         {
          "align": "center",
          "bgcolor": "rgba(255,255,255,0.7)",
          "font": {
           "size": 12
          },
          "showarrow": false,
          "text": "Máximo: 3055836.00",
          "x": 0.5,
          "y": 0.85
         },
         {
          "align": "center",
          "bgcolor": "rgba(255,255,255,0.7)",
          "font": {
           "size": 12
          },
          "showarrow": false,
          "text": "Mínimo: 126368.54",
          "x": 0.5,
          "y": 0.8
         }
        ],
        "legend": {
         "title": {
          "text": "tipo, año"
         },
         "tracegroupgap": 0
        },
        "template": {
         "data": {
          "bar": [
           {
            "error_x": {
             "color": "#2a3f5f"
            },
            "error_y": {
             "color": "#2a3f5f"
            },
            "marker": {
             "line": {
              "color": "#E5ECF6",
              "width": 0.5
             },
             "pattern": {
              "fillmode": "overlay",
              "size": 10,
              "solidity": 0.2
             }
            },
            "type": "bar"
           }
          ],
          "barpolar": [
           {
            "marker": {
             "line": {
              "color": "#E5ECF6",
              "width": 0.5
             },
             "pattern": {
              "fillmode": "overlay",
              "size": 10,
              "solidity": 0.2
             }
            },
            "type": "barpolar"
           }
          ],
          "carpet": [
           {
            "aaxis": {
             "endlinecolor": "#2a3f5f",
             "gridcolor": "white",
             "linecolor": "white",
             "minorgridcolor": "white",
             "startlinecolor": "#2a3f5f"
            },
            "baxis": {
             "endlinecolor": "#2a3f5f",
             "gridcolor": "white",
             "linecolor": "white",
             "minorgridcolor": "white",
             "startlinecolor": "#2a3f5f"
            },
            "type": "carpet"
           }
          ],
          "choropleth": [
           {
            "colorbar": {
             "outlinewidth": 0,
             "ticks": ""
            },
            "type": "choropleth"
           }
          ],
          "contour": [
           {
            "colorbar": {
             "outlinewidth": 0,
             "ticks": ""
            },
            "colorscale": [
             [
              0,
              "#0d0887"
             ],
             [
              0.1111111111111111,
              "#46039f"
             ],
             [
              0.2222222222222222,
              "#7201a8"
             ],
             [
              0.3333333333333333,
              "#9c179e"
             ],
             [
              0.4444444444444444,
              "#bd3786"
             ],
             [
              0.5555555555555556,
              "#d8576b"
             ],
             [
              0.6666666666666666,
              "#ed7953"
             ],
             [
              0.7777777777777778,
              "#fb9f3a"
             ],
             [
              0.8888888888888888,
              "#fdca26"
             ],
             [
              1,
              "#f0f921"
             ]
            ],
            "type": "contour"
           }
          ],
          "contourcarpet": [
           {
            "colorbar": {
             "outlinewidth": 0,
             "ticks": ""
            },
            "type": "contourcarpet"
           }
          ],
          "heatmap": [
           {
            "colorbar": {
             "outlinewidth": 0,
             "ticks": ""
            },
            "colorscale": [
             [
              0,
              "#0d0887"
             ],
             [
              0.1111111111111111,
              "#46039f"
             ],
             [
              0.2222222222222222,
              "#7201a8"
             ],
             [
              0.3333333333333333,
              "#9c179e"
             ],
             [
              0.4444444444444444,
              "#bd3786"
             ],
             [
              0.5555555555555556,
              "#d8576b"
             ],
             [
              0.6666666666666666,
              "#ed7953"
             ],
             [
              0.7777777777777778,
              "#fb9f3a"
             ],
             [
              0.8888888888888888,
              "#fdca26"
             ],
             [
              1,
              "#f0f921"
             ]
            ],
            "type": "heatmap"
           }
          ],
          "heatmapgl": [
           {
            "colorbar": {
             "outlinewidth": 0,
             "ticks": ""
            },
            "colorscale": [
             [
              0,
              "#0d0887"
             ],
             [
              0.1111111111111111,
              "#46039f"
             ],
             [
              0.2222222222222222,
              "#7201a8"
             ],
             [
              0.3333333333333333,
              "#9c179e"
             ],
             [
              0.4444444444444444,
              "#bd3786"
             ],
             [
              0.5555555555555556,
              "#d8576b"
             ],
             [
              0.6666666666666666,
              "#ed7953"
             ],
             [
              0.7777777777777778,
              "#fb9f3a"
             ],
             [
              0.8888888888888888,
              "#fdca26"
             ],
             [
              1,
              "#f0f921"
             ]
            ],
            "type": "heatmapgl"
           }
          ],
          "histogram": [
           {
            "marker": {
             "pattern": {
              "fillmode": "overlay",
              "size": 10,
              "solidity": 0.2
             }
            },
            "type": "histogram"
           }
          ],
          "histogram2d": [
           {
            "colorbar": {
             "outlinewidth": 0,
             "ticks": ""
            },
            "colorscale": [
             [
              0,
              "#0d0887"
             ],
             [
              0.1111111111111111,
              "#46039f"
             ],
             [
              0.2222222222222222,
              "#7201a8"
             ],
             [
              0.3333333333333333,
              "#9c179e"
             ],
             [
              0.4444444444444444,
              "#bd3786"
             ],
             [
              0.5555555555555556,
              "#d8576b"
             ],
             [
              0.6666666666666666,
              "#ed7953"
             ],
             [
              0.7777777777777778,
              "#fb9f3a"
             ],
             [
              0.8888888888888888,
              "#fdca26"
             ],
             [
              1,
              "#f0f921"
             ]
            ],
            "type": "histogram2d"
           }
          ],
          "histogram2dcontour": [
           {
            "colorbar": {
             "outlinewidth": 0,
             "ticks": ""
            },
            "colorscale": [
             [
              0,
              "#0d0887"
             ],
             [
              0.1111111111111111,
              "#46039f"
             ],
             [
              0.2222222222222222,
              "#7201a8"
             ],
             [
              0.3333333333333333,
              "#9c179e"
             ],
             [
              0.4444444444444444,
              "#bd3786"
             ],
             [
              0.5555555555555556,
              "#d8576b"
             ],
             [
              0.6666666666666666,
              "#ed7953"
             ],
             [
              0.7777777777777778,
              "#fb9f3a"
             ],
             [
              0.8888888888888888,
              "#fdca26"
             ],
             [
              1,
              "#f0f921"
             ]
            ],
            "type": "histogram2dcontour"
           }
          ],
          "mesh3d": [
           {
            "colorbar": {
             "outlinewidth": 0,
             "ticks": ""
            },
            "type": "mesh3d"
           }
          ],
          "parcoords": [
           {
            "line": {
             "colorbar": {
              "outlinewidth": 0,
              "ticks": ""
             }
            },
            "type": "parcoords"
           }
          ],
          "pie": [
           {
            "automargin": true,
            "type": "pie"
           }
          ],
          "scatter": [
           {
            "fillpattern": {
             "fillmode": "overlay",
             "size": 10,
             "solidity": 0.2
            },
            "type": "scatter"
           }
          ],
          "scatter3d": [
           {
            "line": {
             "colorbar": {
              "outlinewidth": 0,
              "ticks": ""
             }
            },
            "marker": {
             "colorbar": {
              "outlinewidth": 0,
              "ticks": ""
             }
            },
            "type": "scatter3d"
           }
          ],
          "scattercarpet": [
           {
            "marker": {
             "colorbar": {
              "outlinewidth": 0,
              "ticks": ""
             }
            },
            "type": "scattercarpet"
           }
          ],
          "scattergeo": [
           {
            "marker": {
             "colorbar": {
              "outlinewidth": 0,
              "ticks": ""
             }
            },
            "type": "scattergeo"
           }
          ],
          "scattergl": [
           {
            "marker": {
             "colorbar": {
              "outlinewidth": 0,
              "ticks": ""
             }
            },
            "type": "scattergl"
           }
          ],
          "scattermapbox": [
           {
            "marker": {
             "colorbar": {
              "outlinewidth": 0,
              "ticks": ""
             }
            },
            "type": "scattermapbox"
           }
          ],
          "scatterpolar": [
           {
            "marker": {
             "colorbar": {
              "outlinewidth": 0,
              "ticks": ""
             }
            },
            "type": "scatterpolar"
           }
          ],
          "scatterpolargl": [
           {
            "marker": {
             "colorbar": {
              "outlinewidth": 0,
              "ticks": ""
             }
            },
            "type": "scatterpolargl"
           }
          ],
          "scatterternary": [
           {
            "marker": {
             "colorbar": {
              "outlinewidth": 0,
              "ticks": ""
             }
            },
            "type": "scatterternary"
           }
          ],
          "surface": [
           {
            "colorbar": {
             "outlinewidth": 0,
             "ticks": ""
            },
            "colorscale": [
             [
              0,
              "#0d0887"
             ],
             [
              0.1111111111111111,
              "#46039f"
             ],
             [
              0.2222222222222222,
              "#7201a8"
             ],
             [
              0.3333333333333333,
              "#9c179e"
             ],
             [
              0.4444444444444444,
              "#bd3786"
             ],
             [
              0.5555555555555556,
              "#d8576b"
             ],
             [
              0.6666666666666666,
              "#ed7953"
             ],
             [
              0.7777777777777778,
              "#fb9f3a"
             ],
             [
              0.8888888888888888,
              "#fdca26"
             ],
             [
              1,
              "#f0f921"
             ]
            ],
            "type": "surface"
           }
          ],
          "table": [
           {
            "cells": {
             "fill": {
              "color": "#EBF0F8"
             },
             "line": {
              "color": "white"
             }
            },
            "header": {
             "fill": {
              "color": "#C8D4E3"
             },
             "line": {
              "color": "white"
             }
            },
            "type": "table"
           }
          ]
         },
         "layout": {
          "annotationdefaults": {
           "arrowcolor": "#2a3f5f",
           "arrowhead": 0,
           "arrowwidth": 1
          },
          "autotypenumbers": "strict",
          "coloraxis": {
           "colorbar": {
            "outlinewidth": 0,
            "ticks": ""
           }
          },
          "colorscale": {
           "diverging": [
            [
             0,
             "#8e0152"
            ],
            [
             0.1,
             "#c51b7d"
            ],
            [
             0.2,
             "#de77ae"
            ],
            [
             0.3,
             "#f1b6da"
            ],
            [
             0.4,
             "#fde0ef"
            ],
            [
             0.5,
             "#f7f7f7"
            ],
            [
             0.6,
             "#e6f5d0"
            ],
            [
             0.7,
             "#b8e186"
            ],
            [
             0.8,
             "#7fbc41"
            ],
            [
             0.9,
             "#4d9221"
            ],
            [
             1,
             "#276419"
            ]
           ],
           "sequential": [
            [
             0,
             "#0d0887"
            ],
            [
             0.1111111111111111,
             "#46039f"
            ],
            [
             0.2222222222222222,
             "#7201a8"
            ],
            [
             0.3333333333333333,
             "#9c179e"
            ],
            [
             0.4444444444444444,
             "#bd3786"
            ],
            [
             0.5555555555555556,
             "#d8576b"
            ],
            [
             0.6666666666666666,
             "#ed7953"
            ],
            [
             0.7777777777777778,
             "#fb9f3a"
            ],
            [
             0.8888888888888888,
             "#fdca26"
            ],
            [
             1,
             "#f0f921"
            ]
           ],
           "sequentialminus": [
            [
             0,
             "#0d0887"
            ],
            [
             0.1111111111111111,
             "#46039f"
            ],
            [
             0.2222222222222222,
             "#7201a8"
            ],
            [
             0.3333333333333333,
             "#9c179e"
            ],
            [
             0.4444444444444444,
             "#bd3786"
            ],
            [
             0.5555555555555556,
             "#d8576b"
            ],
            [
             0.6666666666666666,
             "#ed7953"
            ],
            [
             0.7777777777777778,
             "#fb9f3a"
            ],
            [
             0.8888888888888888,
             "#fdca26"
            ],
            [
             1,
             "#f0f921"
            ]
           ]
          },
          "colorway": [
           "#636efa",
           "#EF553B",
           "#00cc96",
           "#ab63fa",
           "#FFA15A",
           "#19d3f3",
           "#FF6692",
           "#B6E880",
           "#FF97FF",
           "#FECB52"
          ],
          "font": {
           "color": "#2a3f5f"
          },
          "geo": {
           "bgcolor": "white",
           "lakecolor": "white",
           "landcolor": "#E5ECF6",
           "showlakes": true,
           "showland": true,
           "subunitcolor": "white"
          },
          "hoverlabel": {
           "align": "left"
          },
          "hovermode": "closest",
          "mapbox": {
           "style": "light"
          },
          "paper_bgcolor": "white",
          "plot_bgcolor": "#E5ECF6",
          "polar": {
           "angularaxis": {
            "gridcolor": "white",
            "linecolor": "white",
            "ticks": ""
           },
           "bgcolor": "#E5ECF6",
           "radialaxis": {
            "gridcolor": "white",
            "linecolor": "white",
            "ticks": ""
           }
          },
          "scene": {
           "xaxis": {
            "backgroundcolor": "#E5ECF6",
            "gridcolor": "white",
            "gridwidth": 2,
            "linecolor": "white",
            "showbackground": true,
            "ticks": "",
            "zerolinecolor": "white"
           },
           "yaxis": {
            "backgroundcolor": "#E5ECF6",
            "gridcolor": "white",
            "gridwidth": 2,
            "linecolor": "white",
            "showbackground": true,
            "ticks": "",
            "zerolinecolor": "white"
           },
           "zaxis": {
            "backgroundcolor": "#E5ECF6",
            "gridcolor": "white",
            "gridwidth": 2,
            "linecolor": "white",
            "showbackground": true,
            "ticks": "",
            "zerolinecolor": "white"
           }
          },
          "shapedefaults": {
           "line": {
            "color": "#2a3f5f"
           }
          },
          "ternary": {
           "aaxis": {
            "gridcolor": "white",
            "linecolor": "white",
            "ticks": ""
           },
           "baxis": {
            "gridcolor": "white",
            "linecolor": "white",
            "ticks": ""
           },
           "bgcolor": "#E5ECF6",
           "caxis": {
            "gridcolor": "white",
            "linecolor": "white",
            "ticks": ""
           }
          },
          "title": {
           "x": 0.05
          },
          "xaxis": {
           "automargin": true,
           "gridcolor": "white",
           "linecolor": "white",
           "ticks": "",
           "title": {
            "standoff": 15
           },
           "zerolinecolor": "white",
           "zerolinewidth": 2
          },
          "yaxis": {
           "automargin": true,
           "gridcolor": "white",
           "linecolor": "white",
           "ticks": "",
           "title": {
            "standoff": 15
           },
           "zerolinecolor": "white",
           "zerolinewidth": 2
          }
         }
        },
        "title": {
         "text": "Evolución Diaria de Importaciones y Exportaciones (2022 vs 2024)"
        },
        "xaxis": {
         "anchor": "y",
         "domain": [
          0,
          1
         ],
         "title": {
          "text": "mes"
         }
        },
        "yaxis": {
         "anchor": "x",
         "domain": [
          0,
          1
         ],
         "title": {
          "text": "Demanda (MWh)"
         }
        }
       }
      }
     },
     "metadata": {},
     "output_type": "display_data"
    }
   ],
   "source": [
    "media = df_intercambios_2y['valor'].mean()\n",
    "mediana = df_intercambios_2y['valor'].median()\n",
    "maximo = df_intercambios_2y['valor'].max()\n",
    "minimo = df_intercambios_2y['valor'].min()\n",
    "\n",
    "fig = px.line(df_intercambios_2y, \n",
    "        x=\"mes\", \n",
    "        y=\"valor\", \n",
    "        color='tipo',\n",
    "        line_dash=\"año\",  # Diferenciar los años con estilos de línea\n",
    "        markers=True, \n",
    "        title=\"Evolución Diaria de Importaciones y Exportaciones (2022 vs 2024)\",\n",
    "        labels={\"valor\": \"Demanda (MWh)\", \"fecha\": \"Fecha\"},\n",
    "        color_discrete_map={\"export\": \"green\", \"import\": \"red\"}  # Colores personalizados\n",
    "        )\n",
    "\n",
    "fig.add_annotation(\n",
    "    x=0.5, y=0.95, text=f\"Media: {media:.2f}\", showarrow=False, font=dict(size=12), align=\"center\", bgcolor=\"rgba(255,255,255,0.7)\"\n",
    ")\n",
    "fig.add_annotation(\n",
    "    x=0.5, y=0.90, text=f\"Mediana: {mediana:.2f}\", showarrow=False, font=dict(size=12), align=\"center\", bgcolor=\"rgba(255,255,255,0.7)\"\n",
    ")\n",
    "fig.add_annotation(\n",
    "    x=0.5, y=0.85, text=f\"Máximo: {maximo:.2f}\", showarrow=False, font=dict(size=12), align=\"center\", bgcolor=\"rgba(255,255,255,0.7)\"\n",
    ")\n",
    "fig.add_annotation(\n",
    "    x=0.5, y=0.80, text=f\"Mínimo: {minimo:.2f}\", showarrow=False, font=dict(size=12), align=\"center\", bgcolor=\"rgba(255,255,255,0.7)\"\n",
    ")\n",
    "        \n",
    "                 "
   ]
  },
  {
   "cell_type": "code",
   "execution_count": 86,
   "metadata": {},
   "outputs": [
    {
     "data": {
      "text/html": [
       "<div>\n",
       "<style scoped>\n",
       "    .dataframe tbody tr th:only-of-type {\n",
       "        vertical-align: middle;\n",
       "    }\n",
       "\n",
       "    .dataframe tbody tr th {\n",
       "        vertical-align: top;\n",
       "    }\n",
       "\n",
       "    .dataframe thead th {\n",
       "        text-align: right;\n",
       "    }\n",
       "</style>\n",
       "<table border=\"1\" class=\"dataframe\">\n",
       "  <thead>\n",
       "    <tr style=\"text-align: right;\">\n",
       "      <th></th>\n",
       "      <th>titulo</th>\n",
       "      <th>tipo</th>\n",
       "      <th>composite</th>\n",
       "      <th>ultima_actualizacion</th>\n",
       "      <th>fecha_extraccion</th>\n",
       "      <th>categoria</th>\n",
       "      <th>zona</th>\n",
       "      <th>valor</th>\n",
       "      <th>porcentaje</th>\n",
       "      <th>fecha</th>\n",
       "      <th>año</th>\n",
       "      <th>mes</th>\n",
       "      <th>dia</th>\n",
       "      <th>dia_semana</th>\n",
       "      <th>ID</th>\n",
       "    </tr>\n",
       "  </thead>\n",
       "  <tbody>\n",
       "    <tr>\n",
       "      <th>0</th>\n",
       "      <td>Hidráulica</td>\n",
       "      <td>Renovable</td>\n",
       "      <td>0</td>\n",
       "      <td>2021-01-12</td>\n",
       "      <td>2025-02-19</td>\n",
       "      <td>Generación por tecnología</td>\n",
       "      <td>nacional</td>\n",
       "      <td>151481.978</td>\n",
       "      <td>0.258134</td>\n",
       "      <td>2020-01-01</td>\n",
       "      <td>2020</td>\n",
       "      <td>1</td>\n",
       "      <td>1</td>\n",
       "      <td>miércoles</td>\n",
       "      <td>202502190</td>\n",
       "    </tr>\n",
       "    <tr>\n",
       "      <th>1</th>\n",
       "      <td>Hidráulica</td>\n",
       "      <td>Renovable</td>\n",
       "      <td>0</td>\n",
       "      <td>2021-01-12</td>\n",
       "      <td>2025-02-19</td>\n",
       "      <td>Generación por tecnología</td>\n",
       "      <td>nacional</td>\n",
       "      <td>159171.675</td>\n",
       "      <td>0.229885</td>\n",
       "      <td>2020-01-02</td>\n",
       "      <td>2020</td>\n",
       "      <td>1</td>\n",
       "      <td>2</td>\n",
       "      <td>jueves</td>\n",
       "      <td>202502191</td>\n",
       "    </tr>\n",
       "    <tr>\n",
       "      <th>2</th>\n",
       "      <td>Hidráulica</td>\n",
       "      <td>Renovable</td>\n",
       "      <td>0</td>\n",
       "      <td>2021-01-12</td>\n",
       "      <td>2025-02-19</td>\n",
       "      <td>Generación por tecnología</td>\n",
       "      <td>nacional</td>\n",
       "      <td>151996.921</td>\n",
       "      <td>0.226005</td>\n",
       "      <td>2020-01-03</td>\n",
       "      <td>2020</td>\n",
       "      <td>1</td>\n",
       "      <td>3</td>\n",
       "      <td>viernes</td>\n",
       "      <td>202502192</td>\n",
       "    </tr>\n",
       "    <tr>\n",
       "      <th>3</th>\n",
       "      <td>Hidráulica</td>\n",
       "      <td>Renovable</td>\n",
       "      <td>0</td>\n",
       "      <td>2021-01-12</td>\n",
       "      <td>2025-02-19</td>\n",
       "      <td>Generación por tecnología</td>\n",
       "      <td>nacional</td>\n",
       "      <td>139873.002</td>\n",
       "      <td>0.209615</td>\n",
       "      <td>2020-01-04</td>\n",
       "      <td>2020</td>\n",
       "      <td>1</td>\n",
       "      <td>4</td>\n",
       "      <td>sábado</td>\n",
       "      <td>202502193</td>\n",
       "    </tr>\n",
       "    <tr>\n",
       "      <th>4</th>\n",
       "      <td>Hidráulica</td>\n",
       "      <td>Renovable</td>\n",
       "      <td>0</td>\n",
       "      <td>2021-01-12</td>\n",
       "      <td>2025-02-19</td>\n",
       "      <td>Generación por tecnología</td>\n",
       "      <td>nacional</td>\n",
       "      <td>126801.179</td>\n",
       "      <td>0.210290</td>\n",
       "      <td>2020-01-05</td>\n",
       "      <td>2020</td>\n",
       "      <td>1</td>\n",
       "      <td>5</td>\n",
       "      <td>domingo</td>\n",
       "      <td>202502194</td>\n",
       "    </tr>\n",
       "    <tr>\n",
       "      <th>...</th>\n",
       "      <td>...</td>\n",
       "      <td>...</td>\n",
       "      <td>...</td>\n",
       "      <td>...</td>\n",
       "      <td>...</td>\n",
       "      <td>...</td>\n",
       "      <td>...</td>\n",
       "      <td>...</td>\n",
       "      <td>...</td>\n",
       "      <td>...</td>\n",
       "      <td>...</td>\n",
       "      <td>...</td>\n",
       "      <td>...</td>\n",
       "      <td>...</td>\n",
       "      <td>...</td>\n",
       "    </tr>\n",
       "    <tr>\n",
       "      <th>99018</th>\n",
       "      <td>Cogeneración</td>\n",
       "      <td>No renovable</td>\n",
       "      <td>0</td>\n",
       "      <td>2025-02-05</td>\n",
       "      <td>2025-02-19</td>\n",
       "      <td>Generación por tecnología</td>\n",
       "      <td>Región de Murcia</td>\n",
       "      <td>118232.835</td>\n",
       "      <td>0.146870</td>\n",
       "      <td>2024-08-01</td>\n",
       "      <td>2024</td>\n",
       "      <td>8</td>\n",
       "      <td>1</td>\n",
       "      <td>jueves</td>\n",
       "      <td>20250219111167</td>\n",
       "    </tr>\n",
       "    <tr>\n",
       "      <th>99019</th>\n",
       "      <td>Cogeneración</td>\n",
       "      <td>No renovable</td>\n",
       "      <td>0</td>\n",
       "      <td>2025-02-05</td>\n",
       "      <td>2025-02-19</td>\n",
       "      <td>Generación por tecnología</td>\n",
       "      <td>Región de Murcia</td>\n",
       "      <td>97220.279</td>\n",
       "      <td>0.148079</td>\n",
       "      <td>2024-09-01</td>\n",
       "      <td>2024</td>\n",
       "      <td>9</td>\n",
       "      <td>1</td>\n",
       "      <td>domingo</td>\n",
       "      <td>20250219111168</td>\n",
       "    </tr>\n",
       "    <tr>\n",
       "      <th>99020</th>\n",
       "      <td>Cogeneración</td>\n",
       "      <td>No renovable</td>\n",
       "      <td>0</td>\n",
       "      <td>2025-02-05</td>\n",
       "      <td>2025-02-19</td>\n",
       "      <td>Generación por tecnología</td>\n",
       "      <td>Región de Murcia</td>\n",
       "      <td>72662.688</td>\n",
       "      <td>0.114139</td>\n",
       "      <td>2024-10-01</td>\n",
       "      <td>2024</td>\n",
       "      <td>10</td>\n",
       "      <td>1</td>\n",
       "      <td>martes</td>\n",
       "      <td>20250219111169</td>\n",
       "    </tr>\n",
       "    <tr>\n",
       "      <th>99021</th>\n",
       "      <td>Cogeneración</td>\n",
       "      <td>No renovable</td>\n",
       "      <td>0</td>\n",
       "      <td>2025-02-05</td>\n",
       "      <td>2025-02-19</td>\n",
       "      <td>Generación por tecnología</td>\n",
       "      <td>Región de Murcia</td>\n",
       "      <td>115075.762</td>\n",
       "      <td>0.171013</td>\n",
       "      <td>2024-11-01</td>\n",
       "      <td>2024</td>\n",
       "      <td>11</td>\n",
       "      <td>1</td>\n",
       "      <td>viernes</td>\n",
       "      <td>20250219111170</td>\n",
       "    </tr>\n",
       "    <tr>\n",
       "      <th>99022</th>\n",
       "      <td>Cogeneración</td>\n",
       "      <td>No renovable</td>\n",
       "      <td>0</td>\n",
       "      <td>2025-02-05</td>\n",
       "      <td>2025-02-19</td>\n",
       "      <td>Generación por tecnología</td>\n",
       "      <td>Región de Murcia</td>\n",
       "      <td>105922.591</td>\n",
       "      <td>0.145553</td>\n",
       "      <td>2024-12-01</td>\n",
       "      <td>2024</td>\n",
       "      <td>12</td>\n",
       "      <td>1</td>\n",
       "      <td>domingo</td>\n",
       "      <td>20250219111171</td>\n",
       "    </tr>\n",
       "  </tbody>\n",
       "</table>\n",
       "<p>99023 rows × 15 columns</p>\n",
       "</div>"
      ],
      "text/plain": [
       "             titulo          tipo  composite ultima_actualizacion  \\\n",
       "0        Hidráulica     Renovable          0           2021-01-12   \n",
       "1        Hidráulica     Renovable          0           2021-01-12   \n",
       "2        Hidráulica     Renovable          0           2021-01-12   \n",
       "3        Hidráulica     Renovable          0           2021-01-12   \n",
       "4        Hidráulica     Renovable          0           2021-01-12   \n",
       "...             ...           ...        ...                  ...   \n",
       "99018  Cogeneración  No renovable          0           2025-02-05   \n",
       "99019  Cogeneración  No renovable          0           2025-02-05   \n",
       "99020  Cogeneración  No renovable          0           2025-02-05   \n",
       "99021  Cogeneración  No renovable          0           2025-02-05   \n",
       "99022  Cogeneración  No renovable          0           2025-02-05   \n",
       "\n",
       "      fecha_extraccion                  categoria              zona  \\\n",
       "0           2025-02-19  Generación por tecnología          nacional   \n",
       "1           2025-02-19  Generación por tecnología          nacional   \n",
       "2           2025-02-19  Generación por tecnología          nacional   \n",
       "3           2025-02-19  Generación por tecnología          nacional   \n",
       "4           2025-02-19  Generación por tecnología          nacional   \n",
       "...                ...                        ...               ...   \n",
       "99018       2025-02-19  Generación por tecnología  Región de Murcia   \n",
       "99019       2025-02-19  Generación por tecnología  Región de Murcia   \n",
       "99020       2025-02-19  Generación por tecnología  Región de Murcia   \n",
       "99021       2025-02-19  Generación por tecnología  Región de Murcia   \n",
       "99022       2025-02-19  Generación por tecnología  Región de Murcia   \n",
       "\n",
       "            valor  porcentaje       fecha   año  mes  dia dia_semana  \\\n",
       "0      151481.978    0.258134  2020-01-01  2020    1    1  miércoles   \n",
       "1      159171.675    0.229885  2020-01-02  2020    1    2     jueves   \n",
       "2      151996.921    0.226005  2020-01-03  2020    1    3    viernes   \n",
       "3      139873.002    0.209615  2020-01-04  2020    1    4     sábado   \n",
       "4      126801.179    0.210290  2020-01-05  2020    1    5    domingo   \n",
       "...           ...         ...         ...   ...  ...  ...        ...   \n",
       "99018  118232.835    0.146870  2024-08-01  2024    8    1     jueves   \n",
       "99019   97220.279    0.148079  2024-09-01  2024    9    1    domingo   \n",
       "99020   72662.688    0.114139  2024-10-01  2024   10    1     martes   \n",
       "99021  115075.762    0.171013  2024-11-01  2024   11    1    viernes   \n",
       "99022  105922.591    0.145553  2024-12-01  2024   12    1    domingo   \n",
       "\n",
       "                   ID  \n",
       "0           202502190  \n",
       "1           202502191  \n",
       "2           202502192  \n",
       "3           202502193  \n",
       "4           202502194  \n",
       "...               ...  \n",
       "99018  20250219111167  \n",
       "99019  20250219111168  \n",
       "99020  20250219111169  \n",
       "99021  20250219111170  \n",
       "99022  20250219111171  \n",
       "\n",
       "[99023 rows x 15 columns]"
      ]
     },
     "execution_count": 86,
     "metadata": {},
     "output_type": "execute_result"
    }
   ],
   "source": [
    "df_generacion"
   ]
  },
  {
   "cell_type": "code",
   "execution_count": 74,
   "metadata": {},
   "outputs": [],
   "source": [
    "year1 = 2022\n",
    "year2 = 2024"
   ]
  },
  {
   "cell_type": "code",
   "execution_count": 89,
   "metadata": {},
   "outputs": [
    {
     "name": "stderr",
     "output_type": "stream",
     "text": [
      "C:\\Users\\armej\\AppData\\Local\\Temp\\ipykernel_20604\\691024796.py:2: UserWarning:\n",
      "\n",
      "Boolean Series key will be reindexed to match DataFrame index.\n",
      "\n"
     ]
    },
    {
     "data": {
      "text/html": [
       "<div>\n",
       "<style scoped>\n",
       "    .dataframe tbody tr th:only-of-type {\n",
       "        vertical-align: middle;\n",
       "    }\n",
       "\n",
       "    .dataframe tbody tr th {\n",
       "        vertical-align: top;\n",
       "    }\n",
       "\n",
       "    .dataframe thead th {\n",
       "        text-align: right;\n",
       "    }\n",
       "</style>\n",
       "<table border=\"1\" class=\"dataframe\">\n",
       "  <thead>\n",
       "    <tr style=\"text-align: right;\">\n",
       "      <th></th>\n",
       "      <th>mes</th>\n",
       "      <th>año</th>\n",
       "      <th>composite</th>\n",
       "      <th>valor</th>\n",
       "      <th>porcentaje</th>\n",
       "      <th>dia</th>\n",
       "      <th>ID</th>\n",
       "    </tr>\n",
       "  </thead>\n",
       "  <tbody>\n",
       "    <tr>\n",
       "      <th>0</th>\n",
       "      <td>1</td>\n",
       "      <td>2022</td>\n",
       "      <td>0</td>\n",
       "      <td>2.408670e+07</td>\n",
       "      <td>31.0</td>\n",
       "      <td>7440</td>\n",
       "      <td>941635205078418</td>\n",
       "    </tr>\n",
       "    <tr>\n",
       "      <th>1</th>\n",
       "      <td>1</td>\n",
       "      <td>2024</td>\n",
       "      <td>0</td>\n",
       "      <td>2.312715e+07</td>\n",
       "      <td>31.0</td>\n",
       "      <td>7440</td>\n",
       "      <td>941635225403072</td>\n",
       "    </tr>\n",
       "    <tr>\n",
       "      <th>2</th>\n",
       "      <td>2</td>\n",
       "      <td>2022</td>\n",
       "      <td>0</td>\n",
       "      <td>2.083565e+07</td>\n",
       "      <td>28.0</td>\n",
       "      <td>6090</td>\n",
       "      <td>850509217502574</td>\n",
       "    </tr>\n",
       "    <tr>\n",
       "      <th>3</th>\n",
       "      <td>2</td>\n",
       "      <td>2024</td>\n",
       "      <td>0</td>\n",
       "      <td>2.178124e+07</td>\n",
       "      <td>29.0</td>\n",
       "      <td>6525</td>\n",
       "      <td>880884565712698</td>\n",
       "    </tr>\n",
       "    <tr>\n",
       "      <th>4</th>\n",
       "      <td>3</td>\n",
       "      <td>2022</td>\n",
       "      <td>0</td>\n",
       "      <td>2.249587e+07</td>\n",
       "      <td>31.0</td>\n",
       "      <td>7440</td>\n",
       "      <td>941635205105853</td>\n",
       "    </tr>\n",
       "    <tr>\n",
       "      <th>5</th>\n",
       "      <td>3</td>\n",
       "      <td>2024</td>\n",
       "      <td>0</td>\n",
       "      <td>2.203221e+07</td>\n",
       "      <td>31.0</td>\n",
       "      <td>7458</td>\n",
       "      <td>943660247419405</td>\n",
       "    </tr>\n",
       "    <tr>\n",
       "      <th>6</th>\n",
       "      <td>4</td>\n",
       "      <td>2022</td>\n",
       "      <td>0</td>\n",
       "      <td>2.143581e+07</td>\n",
       "      <td>30.0</td>\n",
       "      <td>6975</td>\n",
       "      <td>911259875922615</td>\n",
       "    </tr>\n",
       "    <tr>\n",
       "      <th>7</th>\n",
       "      <td>4</td>\n",
       "      <td>2024</td>\n",
       "      <td>0</td>\n",
       "      <td>2.072055e+07</td>\n",
       "      <td>30.0</td>\n",
       "      <td>6975</td>\n",
       "      <td>911259895592085</td>\n",
       "    </tr>\n",
       "    <tr>\n",
       "      <th>8</th>\n",
       "      <td>5</td>\n",
       "      <td>2022</td>\n",
       "      <td>0</td>\n",
       "      <td>2.175847e+07</td>\n",
       "      <td>31.0</td>\n",
       "      <td>7440</td>\n",
       "      <td>941635205134218</td>\n",
       "    </tr>\n",
       "    <tr>\n",
       "      <th>9</th>\n",
       "      <td>5</td>\n",
       "      <td>2024</td>\n",
       "      <td>0</td>\n",
       "      <td>2.085135e+07</td>\n",
       "      <td>31.0</td>\n",
       "      <td>7440</td>\n",
       "      <td>941635225459337</td>\n",
       "    </tr>\n",
       "    <tr>\n",
       "      <th>10</th>\n",
       "      <td>6</td>\n",
       "      <td>2022</td>\n",
       "      <td>0</td>\n",
       "      <td>2.298561e+07</td>\n",
       "      <td>30.0</td>\n",
       "      <td>6975</td>\n",
       "      <td>911259875950065</td>\n",
       "    </tr>\n",
       "    <tr>\n",
       "      <th>11</th>\n",
       "      <td>6</td>\n",
       "      <td>2024</td>\n",
       "      <td>0</td>\n",
       "      <td>2.115887e+07</td>\n",
       "      <td>30.0</td>\n",
       "      <td>6998</td>\n",
       "      <td>913284917607969</td>\n",
       "    </tr>\n",
       "    <tr>\n",
       "      <th>12</th>\n",
       "      <td>7</td>\n",
       "      <td>2022</td>\n",
       "      <td>0</td>\n",
       "      <td>2.620840e+07</td>\n",
       "      <td>31.0</td>\n",
       "      <td>7440</td>\n",
       "      <td>941635205162583</td>\n",
       "    </tr>\n",
       "    <tr>\n",
       "      <th>13</th>\n",
       "      <td>7</td>\n",
       "      <td>2024</td>\n",
       "      <td>0</td>\n",
       "      <td>2.391108e+07</td>\n",
       "      <td>31.0</td>\n",
       "      <td>7440</td>\n",
       "      <td>941635225487702</td>\n",
       "    </tr>\n",
       "    <tr>\n",
       "      <th>14</th>\n",
       "      <td>8</td>\n",
       "      <td>2022</td>\n",
       "      <td>0</td>\n",
       "      <td>2.494646e+07</td>\n",
       "      <td>31.0</td>\n",
       "      <td>7440</td>\n",
       "      <td>941635205176998</td>\n",
       "    </tr>\n",
       "    <tr>\n",
       "      <th>15</th>\n",
       "      <td>8</td>\n",
       "      <td>2024</td>\n",
       "      <td>0</td>\n",
       "      <td>2.306229e+07</td>\n",
       "      <td>31.0</td>\n",
       "      <td>7454</td>\n",
       "      <td>943660247490552</td>\n",
       "    </tr>\n",
       "    <tr>\n",
       "      <th>16</th>\n",
       "      <td>9</td>\n",
       "      <td>2022</td>\n",
       "      <td>0</td>\n",
       "      <td>2.336142e+07</td>\n",
       "      <td>30.0</td>\n",
       "      <td>7029</td>\n",
       "      <td>915309919881320</td>\n",
       "    </tr>\n",
       "    <tr>\n",
       "      <th>17</th>\n",
       "      <td>9</td>\n",
       "      <td>2024</td>\n",
       "      <td>0</td>\n",
       "      <td>2.132156e+07</td>\n",
       "      <td>30.0</td>\n",
       "      <td>6993</td>\n",
       "      <td>913284917649371</td>\n",
       "    </tr>\n",
       "    <tr>\n",
       "      <th>18</th>\n",
       "      <td>10</td>\n",
       "      <td>2022</td>\n",
       "      <td>0</td>\n",
       "      <td>2.157101e+07</td>\n",
       "      <td>31.0</td>\n",
       "      <td>7487</td>\n",
       "      <td>945685249095222</td>\n",
       "    </tr>\n",
       "    <tr>\n",
       "      <th>19</th>\n",
       "      <td>10</td>\n",
       "      <td>2024</td>\n",
       "      <td>0</td>\n",
       "      <td>2.139998e+07</td>\n",
       "      <td>31.0</td>\n",
       "      <td>7440</td>\n",
       "      <td>941635225530482</td>\n",
       "    </tr>\n",
       "    <tr>\n",
       "      <th>20</th>\n",
       "      <td>11</td>\n",
       "      <td>2022</td>\n",
       "      <td>0</td>\n",
       "      <td>2.116096e+07</td>\n",
       "      <td>30.0</td>\n",
       "      <td>6975</td>\n",
       "      <td>911259876018915</td>\n",
       "    </tr>\n",
       "    <tr>\n",
       "      <th>21</th>\n",
       "      <td>11</td>\n",
       "      <td>2024</td>\n",
       "      <td>0</td>\n",
       "      <td>2.042447e+07</td>\n",
       "      <td>30.0</td>\n",
       "      <td>6975</td>\n",
       "      <td>911259895688385</td>\n",
       "    </tr>\n",
       "    <tr>\n",
       "      <th>22</th>\n",
       "      <td>12</td>\n",
       "      <td>2022</td>\n",
       "      <td>0</td>\n",
       "      <td>2.174541e+07</td>\n",
       "      <td>31.0</td>\n",
       "      <td>7440</td>\n",
       "      <td>941635205233728</td>\n",
       "    </tr>\n",
       "    <tr>\n",
       "      <th>23</th>\n",
       "      <td>12</td>\n",
       "      <td>2024</td>\n",
       "      <td>0</td>\n",
       "      <td>2.245624e+07</td>\n",
       "      <td>31.0</td>\n",
       "      <td>7440</td>\n",
       "      <td>941635225558847</td>\n",
       "    </tr>\n",
       "  </tbody>\n",
       "</table>\n",
       "</div>"
      ],
      "text/plain": [
       "    mes   año  composite         valor  porcentaje   dia               ID\n",
       "0     1  2022          0  2.408670e+07        31.0  7440  941635205078418\n",
       "1     1  2024          0  2.312715e+07        31.0  7440  941635225403072\n",
       "2     2  2022          0  2.083565e+07        28.0  6090  850509217502574\n",
       "3     2  2024          0  2.178124e+07        29.0  6525  880884565712698\n",
       "4     3  2022          0  2.249587e+07        31.0  7440  941635205105853\n",
       "5     3  2024          0  2.203221e+07        31.0  7458  943660247419405\n",
       "6     4  2022          0  2.143581e+07        30.0  6975  911259875922615\n",
       "7     4  2024          0  2.072055e+07        30.0  6975  911259895592085\n",
       "8     5  2022          0  2.175847e+07        31.0  7440  941635205134218\n",
       "9     5  2024          0  2.085135e+07        31.0  7440  941635225459337\n",
       "10    6  2022          0  2.298561e+07        30.0  6975  911259875950065\n",
       "11    6  2024          0  2.115887e+07        30.0  6998  913284917607969\n",
       "12    7  2022          0  2.620840e+07        31.0  7440  941635205162583\n",
       "13    7  2024          0  2.391108e+07        31.0  7440  941635225487702\n",
       "14    8  2022          0  2.494646e+07        31.0  7440  941635205176998\n",
       "15    8  2024          0  2.306229e+07        31.0  7454  943660247490552\n",
       "16    9  2022          0  2.336142e+07        30.0  7029  915309919881320\n",
       "17    9  2024          0  2.132156e+07        30.0  6993  913284917649371\n",
       "18   10  2022          0  2.157101e+07        31.0  7487  945685249095222\n",
       "19   10  2024          0  2.139998e+07        31.0  7440  941635225530482\n",
       "20   11  2022          0  2.116096e+07        30.0  6975  911259876018915\n",
       "21   11  2024          0  2.042447e+07        30.0  6975  911259895688385\n",
       "22   12  2022          0  2.174541e+07        31.0  7440  941635205233728\n",
       "23   12  2024          0  2.245624e+07        31.0  7440  941635225558847"
      ]
     },
     "execution_count": 89,
     "metadata": {},
     "output_type": "execute_result"
    }
   ],
   "source": [
    "df_generacion_f = df_generacion[df_generacion['zona'] == 'nacional']\n",
    "df_generacion_f = df_generacion_f[(df_generacion['año'] == year1) | (df_generacion['año'] == year2)]\n",
    "# df_generacion_f['mes_dia'] = df_generacion_f['fecha'].apply(lambda x: x[5:11])\n",
    "df_generacion_f = df_generacion_f.groupby(['mes', 'año']).sum('valor').reset_index()\n",
    "df_generacion_f\n",
    "\n"
   ]
  },
  {
   "cell_type": "code",
   "execution_count": 90,
   "metadata": {},
   "outputs": [
    {
     "data": {
      "application/vnd.plotly.v1+json": {
       "config": {
        "plotlyServerURL": "https://plot.ly"
       },
       "data": [
        {
         "hovertemplate": "año=2022<br>mes=%{x}<br>Demanda (MWh)=%{y}<extra></extra>",
         "legendgroup": "2022",
         "line": {
          "color": "#00cc96",
          "dash": "solid"
         },
         "marker": {
          "symbol": "circle"
         },
         "mode": "lines+markers",
         "name": "2022",
         "orientation": "v",
         "showlegend": true,
         "type": "scatter",
         "x": [
          1,
          2,
          3,
          4,
          5,
          6,
          7,
          8,
          9,
          10,
          11,
          12
         ],
         "xaxis": "x",
         "y": [
          24086697.44,
          20835645.079,
          22495872.356,
          21435811.695,
          21758470.917,
          22985607.025,
          26208395.242,
          24946455.697,
          23361424.657,
          21571012.921,
          21160960.502,
          21745413.144
         ],
         "yaxis": "y"
        },
        {
         "hovertemplate": "año=2024<br>mes=%{x}<br>Demanda (MWh)=%{y}<extra></extra>",
         "legendgroup": "2024",
         "line": {
          "color": "#ab63fa",
          "dash": "solid"
         },
         "marker": {
          "symbol": "circle"
         },
         "mode": "lines+markers",
         "name": "2024",
         "orientation": "v",
         "showlegend": true,
         "type": "scatter",
         "x": [
          1,
          2,
          3,
          4,
          5,
          6,
          7,
          8,
          9,
          10,
          11,
          12
         ],
         "xaxis": "x",
         "y": [
          23127154.524,
          21781242.639,
          22032209.437,
          20720552.923,
          20851351.282,
          21158871.659,
          23911077.896,
          23062288.680999998,
          21321563.214,
          21399979.978,
          20424467.795,
          22456238.659
         ],
         "yaxis": "y"
        }
       ],
       "layout": {
        "legend": {
         "title": {
          "text": "año"
         },
         "tracegroupgap": 0
        },
        "template": {
         "data": {
          "bar": [
           {
            "error_x": {
             "color": "#2a3f5f"
            },
            "error_y": {
             "color": "#2a3f5f"
            },
            "marker": {
             "line": {
              "color": "#E5ECF6",
              "width": 0.5
             },
             "pattern": {
              "fillmode": "overlay",
              "size": 10,
              "solidity": 0.2
             }
            },
            "type": "bar"
           }
          ],
          "barpolar": [
           {
            "marker": {
             "line": {
              "color": "#E5ECF6",
              "width": 0.5
             },
             "pattern": {
              "fillmode": "overlay",
              "size": 10,
              "solidity": 0.2
             }
            },
            "type": "barpolar"
           }
          ],
          "carpet": [
           {
            "aaxis": {
             "endlinecolor": "#2a3f5f",
             "gridcolor": "white",
             "linecolor": "white",
             "minorgridcolor": "white",
             "startlinecolor": "#2a3f5f"
            },
            "baxis": {
             "endlinecolor": "#2a3f5f",
             "gridcolor": "white",
             "linecolor": "white",
             "minorgridcolor": "white",
             "startlinecolor": "#2a3f5f"
            },
            "type": "carpet"
           }
          ],
          "choropleth": [
           {
            "colorbar": {
             "outlinewidth": 0,
             "ticks": ""
            },
            "type": "choropleth"
           }
          ],
          "contour": [
           {
            "colorbar": {
             "outlinewidth": 0,
             "ticks": ""
            },
            "colorscale": [
             [
              0,
              "#0d0887"
             ],
             [
              0.1111111111111111,
              "#46039f"
             ],
             [
              0.2222222222222222,
              "#7201a8"
             ],
             [
              0.3333333333333333,
              "#9c179e"
             ],
             [
              0.4444444444444444,
              "#bd3786"
             ],
             [
              0.5555555555555556,
              "#d8576b"
             ],
             [
              0.6666666666666666,
              "#ed7953"
             ],
             [
              0.7777777777777778,
              "#fb9f3a"
             ],
             [
              0.8888888888888888,
              "#fdca26"
             ],
             [
              1,
              "#f0f921"
             ]
            ],
            "type": "contour"
           }
          ],
          "contourcarpet": [
           {
            "colorbar": {
             "outlinewidth": 0,
             "ticks": ""
            },
            "type": "contourcarpet"
           }
          ],
          "heatmap": [
           {
            "colorbar": {
             "outlinewidth": 0,
             "ticks": ""
            },
            "colorscale": [
             [
              0,
              "#0d0887"
             ],
             [
              0.1111111111111111,
              "#46039f"
             ],
             [
              0.2222222222222222,
              "#7201a8"
             ],
             [
              0.3333333333333333,
              "#9c179e"
             ],
             [
              0.4444444444444444,
              "#bd3786"
             ],
             [
              0.5555555555555556,
              "#d8576b"
             ],
             [
              0.6666666666666666,
              "#ed7953"
             ],
             [
              0.7777777777777778,
              "#fb9f3a"
             ],
             [
              0.8888888888888888,
              "#fdca26"
             ],
             [
              1,
              "#f0f921"
             ]
            ],
            "type": "heatmap"
           }
          ],
          "heatmapgl": [
           {
            "colorbar": {
             "outlinewidth": 0,
             "ticks": ""
            },
            "colorscale": [
             [
              0,
              "#0d0887"
             ],
             [
              0.1111111111111111,
              "#46039f"
             ],
             [
              0.2222222222222222,
              "#7201a8"
             ],
             [
              0.3333333333333333,
              "#9c179e"
             ],
             [
              0.4444444444444444,
              "#bd3786"
             ],
             [
              0.5555555555555556,
              "#d8576b"
             ],
             [
              0.6666666666666666,
              "#ed7953"
             ],
             [
              0.7777777777777778,
              "#fb9f3a"
             ],
             [
              0.8888888888888888,
              "#fdca26"
             ],
             [
              1,
              "#f0f921"
             ]
            ],
            "type": "heatmapgl"
           }
          ],
          "histogram": [
           {
            "marker": {
             "pattern": {
              "fillmode": "overlay",
              "size": 10,
              "solidity": 0.2
             }
            },
            "type": "histogram"
           }
          ],
          "histogram2d": [
           {
            "colorbar": {
             "outlinewidth": 0,
             "ticks": ""
            },
            "colorscale": [
             [
              0,
              "#0d0887"
             ],
             [
              0.1111111111111111,
              "#46039f"
             ],
             [
              0.2222222222222222,
              "#7201a8"
             ],
             [
              0.3333333333333333,
              "#9c179e"
             ],
             [
              0.4444444444444444,
              "#bd3786"
             ],
             [
              0.5555555555555556,
              "#d8576b"
             ],
             [
              0.6666666666666666,
              "#ed7953"
             ],
             [
              0.7777777777777778,
              "#fb9f3a"
             ],
             [
              0.8888888888888888,
              "#fdca26"
             ],
             [
              1,
              "#f0f921"
             ]
            ],
            "type": "histogram2d"
           }
          ],
          "histogram2dcontour": [
           {
            "colorbar": {
             "outlinewidth": 0,
             "ticks": ""
            },
            "colorscale": [
             [
              0,
              "#0d0887"
             ],
             [
              0.1111111111111111,
              "#46039f"
             ],
             [
              0.2222222222222222,
              "#7201a8"
             ],
             [
              0.3333333333333333,
              "#9c179e"
             ],
             [
              0.4444444444444444,
              "#bd3786"
             ],
             [
              0.5555555555555556,
              "#d8576b"
             ],
             [
              0.6666666666666666,
              "#ed7953"
             ],
             [
              0.7777777777777778,
              "#fb9f3a"
             ],
             [
              0.8888888888888888,
              "#fdca26"
             ],
             [
              1,
              "#f0f921"
             ]
            ],
            "type": "histogram2dcontour"
           }
          ],
          "mesh3d": [
           {
            "colorbar": {
             "outlinewidth": 0,
             "ticks": ""
            },
            "type": "mesh3d"
           }
          ],
          "parcoords": [
           {
            "line": {
             "colorbar": {
              "outlinewidth": 0,
              "ticks": ""
             }
            },
            "type": "parcoords"
           }
          ],
          "pie": [
           {
            "automargin": true,
            "type": "pie"
           }
          ],
          "scatter": [
           {
            "fillpattern": {
             "fillmode": "overlay",
             "size": 10,
             "solidity": 0.2
            },
            "type": "scatter"
           }
          ],
          "scatter3d": [
           {
            "line": {
             "colorbar": {
              "outlinewidth": 0,
              "ticks": ""
             }
            },
            "marker": {
             "colorbar": {
              "outlinewidth": 0,
              "ticks": ""
             }
            },
            "type": "scatter3d"
           }
          ],
          "scattercarpet": [
           {
            "marker": {
             "colorbar": {
              "outlinewidth": 0,
              "ticks": ""
             }
            },
            "type": "scattercarpet"
           }
          ],
          "scattergeo": [
           {
            "marker": {
             "colorbar": {
              "outlinewidth": 0,
              "ticks": ""
             }
            },
            "type": "scattergeo"
           }
          ],
          "scattergl": [
           {
            "marker": {
             "colorbar": {
              "outlinewidth": 0,
              "ticks": ""
             }
            },
            "type": "scattergl"
           }
          ],
          "scattermapbox": [
           {
            "marker": {
             "colorbar": {
              "outlinewidth": 0,
              "ticks": ""
             }
            },
            "type": "scattermapbox"
           }
          ],
          "scatterpolar": [
           {
            "marker": {
             "colorbar": {
              "outlinewidth": 0,
              "ticks": ""
             }
            },
            "type": "scatterpolar"
           }
          ],
          "scatterpolargl": [
           {
            "marker": {
             "colorbar": {
              "outlinewidth": 0,
              "ticks": ""
             }
            },
            "type": "scatterpolargl"
           }
          ],
          "scatterternary": [
           {
            "marker": {
             "colorbar": {
              "outlinewidth": 0,
              "ticks": ""
             }
            },
            "type": "scatterternary"
           }
          ],
          "surface": [
           {
            "colorbar": {
             "outlinewidth": 0,
             "ticks": ""
            },
            "colorscale": [
             [
              0,
              "#0d0887"
             ],
             [
              0.1111111111111111,
              "#46039f"
             ],
             [
              0.2222222222222222,
              "#7201a8"
             ],
             [
              0.3333333333333333,
              "#9c179e"
             ],
             [
              0.4444444444444444,
              "#bd3786"
             ],
             [
              0.5555555555555556,
              "#d8576b"
             ],
             [
              0.6666666666666666,
              "#ed7953"
             ],
             [
              0.7777777777777778,
              "#fb9f3a"
             ],
             [
              0.8888888888888888,
              "#fdca26"
             ],
             [
              1,
              "#f0f921"
             ]
            ],
            "type": "surface"
           }
          ],
          "table": [
           {
            "cells": {
             "fill": {
              "color": "#EBF0F8"
             },
             "line": {
              "color": "white"
             }
            },
            "header": {
             "fill": {
              "color": "#C8D4E3"
             },
             "line": {
              "color": "white"
             }
            },
            "type": "table"
           }
          ]
         },
         "layout": {
          "annotationdefaults": {
           "arrowcolor": "#2a3f5f",
           "arrowhead": 0,
           "arrowwidth": 1
          },
          "autotypenumbers": "strict",
          "coloraxis": {
           "colorbar": {
            "outlinewidth": 0,
            "ticks": ""
           }
          },
          "colorscale": {
           "diverging": [
            [
             0,
             "#8e0152"
            ],
            [
             0.1,
             "#c51b7d"
            ],
            [
             0.2,
             "#de77ae"
            ],
            [
             0.3,
             "#f1b6da"
            ],
            [
             0.4,
             "#fde0ef"
            ],
            [
             0.5,
             "#f7f7f7"
            ],
            [
             0.6,
             "#e6f5d0"
            ],
            [
             0.7,
             "#b8e186"
            ],
            [
             0.8,
             "#7fbc41"
            ],
            [
             0.9,
             "#4d9221"
            ],
            [
             1,
             "#276419"
            ]
           ],
           "sequential": [
            [
             0,
             "#0d0887"
            ],
            [
             0.1111111111111111,
             "#46039f"
            ],
            [
             0.2222222222222222,
             "#7201a8"
            ],
            [
             0.3333333333333333,
             "#9c179e"
            ],
            [
             0.4444444444444444,
             "#bd3786"
            ],
            [
             0.5555555555555556,
             "#d8576b"
            ],
            [
             0.6666666666666666,
             "#ed7953"
            ],
            [
             0.7777777777777778,
             "#fb9f3a"
            ],
            [
             0.8888888888888888,
             "#fdca26"
            ],
            [
             1,
             "#f0f921"
            ]
           ],
           "sequentialminus": [
            [
             0,
             "#0d0887"
            ],
            [
             0.1111111111111111,
             "#46039f"
            ],
            [
             0.2222222222222222,
             "#7201a8"
            ],
            [
             0.3333333333333333,
             "#9c179e"
            ],
            [
             0.4444444444444444,
             "#bd3786"
            ],
            [
             0.5555555555555556,
             "#d8576b"
            ],
            [
             0.6666666666666666,
             "#ed7953"
            ],
            [
             0.7777777777777778,
             "#fb9f3a"
            ],
            [
             0.8888888888888888,
             "#fdca26"
            ],
            [
             1,
             "#f0f921"
            ]
           ]
          },
          "colorway": [
           "#636efa",
           "#EF553B",
           "#00cc96",
           "#ab63fa",
           "#FFA15A",
           "#19d3f3",
           "#FF6692",
           "#B6E880",
           "#FF97FF",
           "#FECB52"
          ],
          "font": {
           "color": "#2a3f5f"
          },
          "geo": {
           "bgcolor": "white",
           "lakecolor": "white",
           "landcolor": "#E5ECF6",
           "showlakes": true,
           "showland": true,
           "subunitcolor": "white"
          },
          "hoverlabel": {
           "align": "left"
          },
          "hovermode": "closest",
          "mapbox": {
           "style": "light"
          },
          "paper_bgcolor": "white",
          "plot_bgcolor": "#E5ECF6",
          "polar": {
           "angularaxis": {
            "gridcolor": "white",
            "linecolor": "white",
            "ticks": ""
           },
           "bgcolor": "#E5ECF6",
           "radialaxis": {
            "gridcolor": "white",
            "linecolor": "white",
            "ticks": ""
           }
          },
          "scene": {
           "xaxis": {
            "backgroundcolor": "#E5ECF6",
            "gridcolor": "white",
            "gridwidth": 2,
            "linecolor": "white",
            "showbackground": true,
            "ticks": "",
            "zerolinecolor": "white"
           },
           "yaxis": {
            "backgroundcolor": "#E5ECF6",
            "gridcolor": "white",
            "gridwidth": 2,
            "linecolor": "white",
            "showbackground": true,
            "ticks": "",
            "zerolinecolor": "white"
           },
           "zaxis": {
            "backgroundcolor": "#E5ECF6",
            "gridcolor": "white",
            "gridwidth": 2,
            "linecolor": "white",
            "showbackground": true,
            "ticks": "",
            "zerolinecolor": "white"
           }
          },
          "shapedefaults": {
           "line": {
            "color": "#2a3f5f"
           }
          },
          "ternary": {
           "aaxis": {
            "gridcolor": "white",
            "linecolor": "white",
            "ticks": ""
           },
           "baxis": {
            "gridcolor": "white",
            "linecolor": "white",
            "ticks": ""
           },
           "bgcolor": "#E5ECF6",
           "caxis": {
            "gridcolor": "white",
            "linecolor": "white",
            "ticks": ""
           }
          },
          "title": {
           "x": 0.05
          },
          "xaxis": {
           "automargin": true,
           "gridcolor": "white",
           "linecolor": "white",
           "ticks": "",
           "title": {
            "standoff": 15
           },
           "zerolinecolor": "white",
           "zerolinewidth": 2
          },
          "yaxis": {
           "automargin": true,
           "gridcolor": "white",
           "linecolor": "white",
           "ticks": "",
           "title": {
            "standoff": 15
           },
           "zerolinecolor": "white",
           "zerolinewidth": 2
          }
         }
        },
        "title": {
         "text": "Evolución de la generación (2022 vs 2024)"
        },
        "xaxis": {
         "anchor": "y",
         "domain": [
          0,
          1
         ],
         "title": {
          "text": "mes"
         }
        },
        "yaxis": {
         "anchor": "x",
         "domain": [
          0,
          1
         ],
         "title": {
          "text": "Demanda (MWh)"
         }
        }
       }
      }
     },
     "metadata": {},
     "output_type": "display_data"
    }
   ],
   "source": [
    "fig = px.line(df_generacion_f, \n",
    "        x=\"mes\", \n",
    "        y=\"valor\", \n",
    "        color='año',\n",
    "        markers=True, \n",
    "        title=\"Evolución de la generación (2022 vs 2024)\",\n",
    "        labels={\"valor\": \"Demanda (MWh)\", \"fecha\": \"Fecha\"},\n",
    "        color_discrete_map={\"export\": \"green\", \"import\": \"red\"}  # Colores personalizados\n",
    "        )\n",
    "\n",
    "fig.show()"
   ]
  },
  {
   "cell_type": "code",
   "execution_count": 91,
   "metadata": {},
   "outputs": [
    {
     "data": {
      "text/html": [
       "<div>\n",
       "<style scoped>\n",
       "    .dataframe tbody tr th:only-of-type {\n",
       "        vertical-align: middle;\n",
       "    }\n",
       "\n",
       "    .dataframe tbody tr th {\n",
       "        vertical-align: top;\n",
       "    }\n",
       "\n",
       "    .dataframe thead th {\n",
       "        text-align: right;\n",
       "    }\n",
       "</style>\n",
       "<table border=\"1\" class=\"dataframe\">\n",
       "  <thead>\n",
       "    <tr style=\"text-align: right;\">\n",
       "      <th></th>\n",
       "      <th>titulo</th>\n",
       "      <th>tipo</th>\n",
       "      <th>composite</th>\n",
       "      <th>ultima_actualizacion</th>\n",
       "      <th>fecha_extraccion</th>\n",
       "      <th>categoria</th>\n",
       "      <th>zona</th>\n",
       "      <th>valor</th>\n",
       "      <th>porcentaje</th>\n",
       "      <th>fecha</th>\n",
       "      <th>año</th>\n",
       "      <th>mes</th>\n",
       "      <th>dia</th>\n",
       "      <th>dia_semana</th>\n",
       "      <th>ID</th>\n",
       "    </tr>\n",
       "  </thead>\n",
       "  <tbody>\n",
       "    <tr>\n",
       "      <th>0</th>\n",
       "      <td>Hidráulica</td>\n",
       "      <td>Renovable</td>\n",
       "      <td>0</td>\n",
       "      <td>2021-01-12</td>\n",
       "      <td>2025-02-19</td>\n",
       "      <td>Balance de energía eléctrica</td>\n",
       "      <td>nacional</td>\n",
       "      <td>151481.978</td>\n",
       "      <td>0.708451</td>\n",
       "      <td>2020-01-01</td>\n",
       "      <td>2020</td>\n",
       "      <td>1</td>\n",
       "      <td>1</td>\n",
       "      <td>miércoles</td>\n",
       "      <td>202502190</td>\n",
       "    </tr>\n",
       "    <tr>\n",
       "      <th>1</th>\n",
       "      <td>Hidráulica</td>\n",
       "      <td>Renovable</td>\n",
       "      <td>0</td>\n",
       "      <td>2021-01-12</td>\n",
       "      <td>2025-02-19</td>\n",
       "      <td>Balance de energía eléctrica</td>\n",
       "      <td>nacional</td>\n",
       "      <td>159171.675</td>\n",
       "      <td>0.589429</td>\n",
       "      <td>2020-01-02</td>\n",
       "      <td>2020</td>\n",
       "      <td>1</td>\n",
       "      <td>2</td>\n",
       "      <td>jueves</td>\n",
       "      <td>202502191</td>\n",
       "    </tr>\n",
       "    <tr>\n",
       "      <th>2</th>\n",
       "      <td>Hidráulica</td>\n",
       "      <td>Renovable</td>\n",
       "      <td>0</td>\n",
       "      <td>2021-01-12</td>\n",
       "      <td>2025-02-19</td>\n",
       "      <td>Balance de energía eléctrica</td>\n",
       "      <td>nacional</td>\n",
       "      <td>151996.921</td>\n",
       "      <td>0.572911</td>\n",
       "      <td>2020-01-03</td>\n",
       "      <td>2020</td>\n",
       "      <td>1</td>\n",
       "      <td>3</td>\n",
       "      <td>viernes</td>\n",
       "      <td>202502192</td>\n",
       "    </tr>\n",
       "    <tr>\n",
       "      <th>3</th>\n",
       "      <td>Hidráulica</td>\n",
       "      <td>Renovable</td>\n",
       "      <td>0</td>\n",
       "      <td>2021-01-12</td>\n",
       "      <td>2025-02-19</td>\n",
       "      <td>Balance de energía eléctrica</td>\n",
       "      <td>nacional</td>\n",
       "      <td>139873.002</td>\n",
       "      <td>0.463375</td>\n",
       "      <td>2020-01-04</td>\n",
       "      <td>2020</td>\n",
       "      <td>1</td>\n",
       "      <td>4</td>\n",
       "      <td>sábado</td>\n",
       "      <td>202502193</td>\n",
       "    </tr>\n",
       "    <tr>\n",
       "      <th>4</th>\n",
       "      <td>Hidráulica</td>\n",
       "      <td>Renovable</td>\n",
       "      <td>0</td>\n",
       "      <td>2021-01-12</td>\n",
       "      <td>2025-02-19</td>\n",
       "      <td>Balance de energía eléctrica</td>\n",
       "      <td>nacional</td>\n",
       "      <td>126801.179</td>\n",
       "      <td>0.544133</td>\n",
       "      <td>2020-01-05</td>\n",
       "      <td>2020</td>\n",
       "      <td>1</td>\n",
       "      <td>5</td>\n",
       "      <td>domingo</td>\n",
       "      <td>202502194</td>\n",
       "    </tr>\n",
       "    <tr>\n",
       "      <th>...</th>\n",
       "      <td>...</td>\n",
       "      <td>...</td>\n",
       "      <td>...</td>\n",
       "      <td>...</td>\n",
       "      <td>...</td>\n",
       "      <td>...</td>\n",
       "      <td>...</td>\n",
       "      <td>...</td>\n",
       "      <td>...</td>\n",
       "      <td>...</td>\n",
       "      <td>...</td>\n",
       "      <td>...</td>\n",
       "      <td>...</td>\n",
       "      <td>...</td>\n",
       "      <td>...</td>\n",
       "    </tr>\n",
       "    <tr>\n",
       "      <th>119549</th>\n",
       "      <td>Saldo de intercambios</td>\n",
       "      <td>Saldo de intercambios</td>\n",
       "      <td>0</td>\n",
       "      <td>2025-02-10</td>\n",
       "      <td>2025-02-19</td>\n",
       "      <td>Balance de energía eléctrica</td>\n",
       "      <td>Región de Murcia</td>\n",
       "      <td>82415.418</td>\n",
       "      <td>0.092869</td>\n",
       "      <td>2024-08-01</td>\n",
       "      <td>2024</td>\n",
       "      <td>8</td>\n",
       "      <td>1</td>\n",
       "      <td>jueves</td>\n",
       "      <td>20250219159036</td>\n",
       "    </tr>\n",
       "    <tr>\n",
       "      <th>119550</th>\n",
       "      <td>Saldo de intercambios</td>\n",
       "      <td>Saldo de intercambios</td>\n",
       "      <td>0</td>\n",
       "      <td>2025-02-10</td>\n",
       "      <td>2025-02-19</td>\n",
       "      <td>Balance de energía eléctrica</td>\n",
       "      <td>Región de Murcia</td>\n",
       "      <td>101140.254</td>\n",
       "      <td>0.133486</td>\n",
       "      <td>2024-09-01</td>\n",
       "      <td>2024</td>\n",
       "      <td>9</td>\n",
       "      <td>1</td>\n",
       "      <td>domingo</td>\n",
       "      <td>20250219159037</td>\n",
       "    </tr>\n",
       "    <tr>\n",
       "      <th>119551</th>\n",
       "      <td>Saldo de intercambios</td>\n",
       "      <td>Saldo de intercambios</td>\n",
       "      <td>0</td>\n",
       "      <td>2025-02-10</td>\n",
       "      <td>2025-02-19</td>\n",
       "      <td>Balance de energía eléctrica</td>\n",
       "      <td>Región de Murcia</td>\n",
       "      <td>101984.722</td>\n",
       "      <td>0.138078</td>\n",
       "      <td>2024-10-01</td>\n",
       "      <td>2024</td>\n",
       "      <td>10</td>\n",
       "      <td>1</td>\n",
       "      <td>martes</td>\n",
       "      <td>20250219159038</td>\n",
       "    </tr>\n",
       "    <tr>\n",
       "      <th>119552</th>\n",
       "      <td>Saldo de intercambios</td>\n",
       "      <td>Saldo de intercambios</td>\n",
       "      <td>0</td>\n",
       "      <td>2025-02-10</td>\n",
       "      <td>2025-02-19</td>\n",
       "      <td>Balance de energía eléctrica</td>\n",
       "      <td>Región de Murcia</td>\n",
       "      <td>49044.476</td>\n",
       "      <td>0.067933</td>\n",
       "      <td>2024-11-01</td>\n",
       "      <td>2024</td>\n",
       "      <td>11</td>\n",
       "      <td>1</td>\n",
       "      <td>viernes</td>\n",
       "      <td>20250219159039</td>\n",
       "    </tr>\n",
       "    <tr>\n",
       "      <th>119553</th>\n",
       "      <td>Saldo de intercambios</td>\n",
       "      <td>Saldo de intercambios</td>\n",
       "      <td>0</td>\n",
       "      <td>2025-02-10</td>\n",
       "      <td>2025-02-19</td>\n",
       "      <td>Balance de energía eléctrica</td>\n",
       "      <td>Región de Murcia</td>\n",
       "      <td>77532.496</td>\n",
       "      <td>0.096283</td>\n",
       "      <td>2024-12-01</td>\n",
       "      <td>2024</td>\n",
       "      <td>12</td>\n",
       "      <td>1</td>\n",
       "      <td>domingo</td>\n",
       "      <td>20250219159040</td>\n",
       "    </tr>\n",
       "  </tbody>\n",
       "</table>\n",
       "<p>119554 rows × 15 columns</p>\n",
       "</div>"
      ],
      "text/plain": [
       "                       titulo                   tipo  composite  \\\n",
       "0                  Hidráulica              Renovable          0   \n",
       "1                  Hidráulica              Renovable          0   \n",
       "2                  Hidráulica              Renovable          0   \n",
       "3                  Hidráulica              Renovable          0   \n",
       "4                  Hidráulica              Renovable          0   \n",
       "...                       ...                    ...        ...   \n",
       "119549  Saldo de intercambios  Saldo de intercambios          0   \n",
       "119550  Saldo de intercambios  Saldo de intercambios          0   \n",
       "119551  Saldo de intercambios  Saldo de intercambios          0   \n",
       "119552  Saldo de intercambios  Saldo de intercambios          0   \n",
       "119553  Saldo de intercambios  Saldo de intercambios          0   \n",
       "\n",
       "       ultima_actualizacion fecha_extraccion                     categoria  \\\n",
       "0                2021-01-12       2025-02-19  Balance de energía eléctrica   \n",
       "1                2021-01-12       2025-02-19  Balance de energía eléctrica   \n",
       "2                2021-01-12       2025-02-19  Balance de energía eléctrica   \n",
       "3                2021-01-12       2025-02-19  Balance de energía eléctrica   \n",
       "4                2021-01-12       2025-02-19  Balance de energía eléctrica   \n",
       "...                     ...              ...                           ...   \n",
       "119549           2025-02-10       2025-02-19  Balance de energía eléctrica   \n",
       "119550           2025-02-10       2025-02-19  Balance de energía eléctrica   \n",
       "119551           2025-02-10       2025-02-19  Balance de energía eléctrica   \n",
       "119552           2025-02-10       2025-02-19  Balance de energía eléctrica   \n",
       "119553           2025-02-10       2025-02-19  Balance de energía eléctrica   \n",
       "\n",
       "                    zona       valor  porcentaje       fecha   año  mes  dia  \\\n",
       "0               nacional  151481.978    0.708451  2020-01-01  2020    1    1   \n",
       "1               nacional  159171.675    0.589429  2020-01-02  2020    1    2   \n",
       "2               nacional  151996.921    0.572911  2020-01-03  2020    1    3   \n",
       "3               nacional  139873.002    0.463375  2020-01-04  2020    1    4   \n",
       "4               nacional  126801.179    0.544133  2020-01-05  2020    1    5   \n",
       "...                  ...         ...         ...         ...   ...  ...  ...   \n",
       "119549  Región de Murcia   82415.418    0.092869  2024-08-01  2024    8    1   \n",
       "119550  Región de Murcia  101140.254    0.133486  2024-09-01  2024    9    1   \n",
       "119551  Región de Murcia  101984.722    0.138078  2024-10-01  2024   10    1   \n",
       "119552  Región de Murcia   49044.476    0.067933  2024-11-01  2024   11    1   \n",
       "119553  Región de Murcia   77532.496    0.096283  2024-12-01  2024   12    1   \n",
       "\n",
       "       dia_semana              ID  \n",
       "0       miércoles       202502190  \n",
       "1          jueves       202502191  \n",
       "2         viernes       202502192  \n",
       "3          sábado       202502193  \n",
       "4         domingo       202502194  \n",
       "...           ...             ...  \n",
       "119549     jueves  20250219159036  \n",
       "119550    domingo  20250219159037  \n",
       "119551     martes  20250219159038  \n",
       "119552    viernes  20250219159039  \n",
       "119553    domingo  20250219159040  \n",
       "\n",
       "[119554 rows x 15 columns]"
      ]
     },
     "execution_count": 91,
     "metadata": {},
     "output_type": "execute_result"
    }
   ],
   "source": [
    "df_balance"
   ]
  },
  {
   "cell_type": "code",
   "execution_count": 94,
   "metadata": {},
   "outputs": [
    {
     "data": {
      "text/html": [
       "<div>\n",
       "<style scoped>\n",
       "    .dataframe tbody tr th:only-of-type {\n",
       "        vertical-align: middle;\n",
       "    }\n",
       "\n",
       "    .dataframe tbody tr th {\n",
       "        vertical-align: top;\n",
       "    }\n",
       "\n",
       "    .dataframe thead th {\n",
       "        text-align: right;\n",
       "    }\n",
       "</style>\n",
       "<table border=\"1\" class=\"dataframe\">\n",
       "  <thead>\n",
       "    <tr style=\"text-align: right;\">\n",
       "      <th></th>\n",
       "      <th>titulo</th>\n",
       "      <th>composite</th>\n",
       "      <th>ultima_actualizacion</th>\n",
       "      <th>fecha_extraccion</th>\n",
       "      <th>categoria</th>\n",
       "      <th>zona</th>\n",
       "      <th>valor</th>\n",
       "      <th>porcentaje</th>\n",
       "      <th>fecha</th>\n",
       "      <th>año</th>\n",
       "      <th>mes</th>\n",
       "      <th>dia</th>\n",
       "      <th>dia_semana</th>\n",
       "      <th>ID</th>\n",
       "    </tr>\n",
       "  </thead>\n",
       "  <tbody>\n",
       "    <tr>\n",
       "      <th>0</th>\n",
       "      <td>Demanda</td>\n",
       "      <td>0</td>\n",
       "      <td>2021-01-12</td>\n",
       "      <td>2025-02-19</td>\n",
       "      <td>Evolución de la demanda</td>\n",
       "      <td>nacional</td>\n",
       "      <td>574776.720000</td>\n",
       "      <td>1.0</td>\n",
       "      <td>2020-01-01</td>\n",
       "      <td>2020</td>\n",
       "      <td>1</td>\n",
       "      <td>1</td>\n",
       "      <td>miércoles</td>\n",
       "      <td>202502190</td>\n",
       "    </tr>\n",
       "    <tr>\n",
       "      <th>1</th>\n",
       "      <td>Demanda</td>\n",
       "      <td>0</td>\n",
       "      <td>2021-01-12</td>\n",
       "      <td>2025-02-19</td>\n",
       "      <td>Evolución de la demanda</td>\n",
       "      <td>nacional</td>\n",
       "      <td>723522.375000</td>\n",
       "      <td>1.0</td>\n",
       "      <td>2020-01-02</td>\n",
       "      <td>2020</td>\n",
       "      <td>1</td>\n",
       "      <td>2</td>\n",
       "      <td>jueves</td>\n",
       "      <td>202502191</td>\n",
       "    </tr>\n",
       "    <tr>\n",
       "      <th>2</th>\n",
       "      <td>Demanda</td>\n",
       "      <td>0</td>\n",
       "      <td>2021-01-12</td>\n",
       "      <td>2025-02-19</td>\n",
       "      <td>Evolución de la demanda</td>\n",
       "      <td>nacional</td>\n",
       "      <td>754645.342000</td>\n",
       "      <td>1.0</td>\n",
       "      <td>2020-01-03</td>\n",
       "      <td>2020</td>\n",
       "      <td>1</td>\n",
       "      <td>3</td>\n",
       "      <td>viernes</td>\n",
       "      <td>202502192</td>\n",
       "    </tr>\n",
       "    <tr>\n",
       "      <th>3</th>\n",
       "      <td>Demanda</td>\n",
       "      <td>0</td>\n",
       "      <td>2021-01-12</td>\n",
       "      <td>2025-02-19</td>\n",
       "      <td>Evolución de la demanda</td>\n",
       "      <td>nacional</td>\n",
       "      <td>702390.878000</td>\n",
       "      <td>1.0</td>\n",
       "      <td>2020-01-04</td>\n",
       "      <td>2020</td>\n",
       "      <td>1</td>\n",
       "      <td>4</td>\n",
       "      <td>sábado</td>\n",
       "      <td>202502193</td>\n",
       "    </tr>\n",
       "    <tr>\n",
       "      <th>4</th>\n",
       "      <td>Demanda</td>\n",
       "      <td>0</td>\n",
       "      <td>2021-01-12</td>\n",
       "      <td>2025-02-19</td>\n",
       "      <td>Evolución de la demanda</td>\n",
       "      <td>nacional</td>\n",
       "      <td>651967.486000</td>\n",
       "      <td>1.0</td>\n",
       "      <td>2020-01-05</td>\n",
       "      <td>2020</td>\n",
       "      <td>1</td>\n",
       "      <td>5</td>\n",
       "      <td>domingo</td>\n",
       "      <td>202502194</td>\n",
       "    </tr>\n",
       "    <tr>\n",
       "      <th>...</th>\n",
       "      <td>...</td>\n",
       "      <td>...</td>\n",
       "      <td>...</td>\n",
       "      <td>...</td>\n",
       "      <td>...</td>\n",
       "      <td>...</td>\n",
       "      <td>...</td>\n",
       "      <td>...</td>\n",
       "      <td>...</td>\n",
       "      <td>...</td>\n",
       "      <td>...</td>\n",
       "      <td>...</td>\n",
       "      <td>...</td>\n",
       "      <td>...</td>\n",
       "    </tr>\n",
       "    <tr>\n",
       "      <th>18928</th>\n",
       "      <td>Variación mensual corregida</td>\n",
       "      <td>1</td>\n",
       "      <td>2025-01-22</td>\n",
       "      <td>2025-02-19</td>\n",
       "      <td>Índice de Red Eléctrica General (IRE)</td>\n",
       "      <td>nacional</td>\n",
       "      <td>5.186531</td>\n",
       "      <td>1.0</td>\n",
       "      <td>2024-08-01</td>\n",
       "      <td>2024</td>\n",
       "      <td>8</td>\n",
       "      <td>1</td>\n",
       "      <td>jueves</td>\n",
       "      <td>2025021926435</td>\n",
       "    </tr>\n",
       "    <tr>\n",
       "      <th>18929</th>\n",
       "      <td>Variación mensual corregida</td>\n",
       "      <td>1</td>\n",
       "      <td>2025-01-22</td>\n",
       "      <td>2025-02-19</td>\n",
       "      <td>Índice de Red Eléctrica General (IRE)</td>\n",
       "      <td>nacional</td>\n",
       "      <td>4.756270</td>\n",
       "      <td>1.0</td>\n",
       "      <td>2024-09-01</td>\n",
       "      <td>2024</td>\n",
       "      <td>9</td>\n",
       "      <td>1</td>\n",
       "      <td>domingo</td>\n",
       "      <td>2025021926436</td>\n",
       "    </tr>\n",
       "    <tr>\n",
       "      <th>18930</th>\n",
       "      <td>Variación mensual corregida</td>\n",
       "      <td>1</td>\n",
       "      <td>2025-01-22</td>\n",
       "      <td>2025-02-19</td>\n",
       "      <td>Índice de Red Eléctrica General (IRE)</td>\n",
       "      <td>nacional</td>\n",
       "      <td>5.356519</td>\n",
       "      <td>1.0</td>\n",
       "      <td>2024-10-01</td>\n",
       "      <td>2024</td>\n",
       "      <td>10</td>\n",
       "      <td>1</td>\n",
       "      <td>martes</td>\n",
       "      <td>2025021926437</td>\n",
       "    </tr>\n",
       "    <tr>\n",
       "      <th>18931</th>\n",
       "      <td>Variación mensual corregida</td>\n",
       "      <td>1</td>\n",
       "      <td>2025-01-22</td>\n",
       "      <td>2025-02-19</td>\n",
       "      <td>Índice de Red Eléctrica General (IRE)</td>\n",
       "      <td>nacional</td>\n",
       "      <td>-3.795579</td>\n",
       "      <td>1.0</td>\n",
       "      <td>2024-11-01</td>\n",
       "      <td>2024</td>\n",
       "      <td>11</td>\n",
       "      <td>1</td>\n",
       "      <td>viernes</td>\n",
       "      <td>2025021926438</td>\n",
       "    </tr>\n",
       "    <tr>\n",
       "      <th>18932</th>\n",
       "      <td>Variación mensual corregida</td>\n",
       "      <td>1</td>\n",
       "      <td>2025-01-22</td>\n",
       "      <td>2025-02-19</td>\n",
       "      <td>Índice de Red Eléctrica General (IRE)</td>\n",
       "      <td>nacional</td>\n",
       "      <td>2.242942</td>\n",
       "      <td>1.0</td>\n",
       "      <td>2024-12-01</td>\n",
       "      <td>2024</td>\n",
       "      <td>12</td>\n",
       "      <td>1</td>\n",
       "      <td>domingo</td>\n",
       "      <td>2025021926439</td>\n",
       "    </tr>\n",
       "  </tbody>\n",
       "</table>\n",
       "<p>18933 rows × 14 columns</p>\n",
       "</div>"
      ],
      "text/plain": [
       "                            titulo  composite ultima_actualizacion  \\\n",
       "0                          Demanda          0           2021-01-12   \n",
       "1                          Demanda          0           2021-01-12   \n",
       "2                          Demanda          0           2021-01-12   \n",
       "3                          Demanda          0           2021-01-12   \n",
       "4                          Demanda          0           2021-01-12   \n",
       "...                            ...        ...                  ...   \n",
       "18928  Variación mensual corregida          1           2025-01-22   \n",
       "18929  Variación mensual corregida          1           2025-01-22   \n",
       "18930  Variación mensual corregida          1           2025-01-22   \n",
       "18931  Variación mensual corregida          1           2025-01-22   \n",
       "18932  Variación mensual corregida          1           2025-01-22   \n",
       "\n",
       "      fecha_extraccion                              categoria      zona  \\\n",
       "0           2025-02-19                Evolución de la demanda  nacional   \n",
       "1           2025-02-19                Evolución de la demanda  nacional   \n",
       "2           2025-02-19                Evolución de la demanda  nacional   \n",
       "3           2025-02-19                Evolución de la demanda  nacional   \n",
       "4           2025-02-19                Evolución de la demanda  nacional   \n",
       "...                ...                                    ...       ...   \n",
       "18928       2025-02-19  Índice de Red Eléctrica General (IRE)  nacional   \n",
       "18929       2025-02-19  Índice de Red Eléctrica General (IRE)  nacional   \n",
       "18930       2025-02-19  Índice de Red Eléctrica General (IRE)  nacional   \n",
       "18931       2025-02-19  Índice de Red Eléctrica General (IRE)  nacional   \n",
       "18932       2025-02-19  Índice de Red Eléctrica General (IRE)  nacional   \n",
       "\n",
       "               valor  porcentaje       fecha   año  mes  dia dia_semana  \\\n",
       "0      574776.720000         1.0  2020-01-01  2020    1    1  miércoles   \n",
       "1      723522.375000         1.0  2020-01-02  2020    1    2     jueves   \n",
       "2      754645.342000         1.0  2020-01-03  2020    1    3    viernes   \n",
       "3      702390.878000         1.0  2020-01-04  2020    1    4     sábado   \n",
       "4      651967.486000         1.0  2020-01-05  2020    1    5    domingo   \n",
       "...              ...         ...         ...   ...  ...  ...        ...   \n",
       "18928       5.186531         1.0  2024-08-01  2024    8    1     jueves   \n",
       "18929       4.756270         1.0  2024-09-01  2024    9    1    domingo   \n",
       "18930       5.356519         1.0  2024-10-01  2024   10    1     martes   \n",
       "18931      -3.795579         1.0  2024-11-01  2024   11    1    viernes   \n",
       "18932       2.242942         1.0  2024-12-01  2024   12    1    domingo   \n",
       "\n",
       "                  ID  \n",
       "0          202502190  \n",
       "1          202502191  \n",
       "2          202502192  \n",
       "3          202502193  \n",
       "4          202502194  \n",
       "...              ...  \n",
       "18928  2025021926435  \n",
       "18929  2025021926436  \n",
       "18930  2025021926437  \n",
       "18931  2025021926438  \n",
       "18932  2025021926439  \n",
       "\n",
       "[18933 rows x 14 columns]"
      ]
     },
     "execution_count": 94,
     "metadata": {},
     "output_type": "execute_result"
    }
   ],
   "source": [
    "df_demanda"
   ]
  },
  {
   "cell_type": "code",
   "execution_count": null,
   "metadata": {},
   "outputs": [],
   "source": []
  }
 ],
 "metadata": {
  "kernelspec": {
   "display_name": ".venv",
   "language": "python",
   "name": "python3"
  },
  "language_info": {
   "codemirror_mode": {
    "name": "ipython",
    "version": 3
   },
   "file_extension": ".py",
   "mimetype": "text/x-python",
   "name": "python",
   "nbconvert_exporter": "python",
   "pygments_lexer": "ipython3",
   "version": "3.11.9"
  }
 },
 "nbformat": 4,
 "nbformat_minor": 2
}
